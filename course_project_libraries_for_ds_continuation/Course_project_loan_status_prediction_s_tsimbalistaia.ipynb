{
 "cells": [
  {
   "cell_type": "markdown",
   "id": "17ab5db8",
   "metadata": {},
   "source": [
    "## <center>Курсовой проект<a class=\"anchor\" id=\"course_project\"></a><center>\n"
   ]
  },
  {
   "cell_type": "markdown",
   "id": "bfc652e4",
   "metadata": {},
   "source": [
    "### Постановка задачи<a class=\"anchor\" id=\"course_project_task\"></a>"
   ]
  },
  {
   "cell_type": "markdown",
   "id": "533a9079",
   "metadata": {},
   "source": [
    "**Задача**\n",
    "\n",
    "Требуется, на основании имеющихся данных о клиентах банка, построить модель, используя обучающий датасет, для прогнозирования невыполнения долговых обязательств по текущему кредиту. Выполнить прогноз для примеров из тестового датасета.\n",
    "\n",
    "**Наименование файлов с данными**\n",
    "\n",
    "course_project_train.csv - обучающий датасет<br>\n",
    "course_project_test.csv - тестовый датасет\n",
    "\n",
    "**Целевая переменная**\n",
    "\n",
    "Credit Default - факт невыполнения кредитных обязательств\n",
    "\n",
    "**Метрика качества**\n",
    "\n",
    "F1-score (sklearn.metrics.f1_score)\n",
    "\n",
    "**Требования к решению**\n",
    "\n",
    "*Целевая метрика*\n",
    "* F1 > 0.5\n",
    "* Метрика оценивается по качеству прогноза для главного класса (1 - просрочка по кредиту)\n",
    "\n",
    "*Решение должно содержать*\n",
    "1. Тетрадка Jupyter Notebook с кодом Вашего решения, названная по образцу {ФИО}\\_solution.ipynb, пример SShirkin\\_solution.ipynb\n",
    "2. Файл CSV с прогнозами целевой переменной для тестового датасета, названный по образцу {ФИО}\\_predictions.csv, пример SShirkin\\_predictions.csv\n",
    "\n",
    "*Рекомендации для файла с кодом (ipynb)*\n",
    "1. Файл должен содержать заголовки и комментарии (markdown)\n",
    "2. Повторяющиеся операции лучше оформлять в виде функций\n",
    "3. Не делать вывод большого количества строк таблиц (5-10 достаточно)\n",
    "4. По возможности добавлять графики, описывающие данные (около 3-5)\n",
    "5. Добавлять только лучшую модель, то есть не включать в код все варианты решения проекта\n",
    "6. Скрипт проекта должен отрабатывать от начала и до конца (от загрузки данных до выгрузки предсказаний)\n",
    "7. Весь проект должен быть в одном скрипте (файл ipynb).\n",
    "8. Допускается применение библиотек Python и моделей машинного обучения,\n",
    "которые были в данном курсе.\n",
    "\n",
    "**Сроки сдачи**\n",
    "\n",
    "Cдать проект нужно в течение 5 дней после окончания последнего вебинара.\n",
    "Оценки работ, сданных до дедлайна, будут представлены в виде рейтинга, ранжированного по заданной метрике качества.\n",
    "Проекты, сданные после дедлайна или сданные повторно, не попадают в рейтинг, но можно будет узнать результат."
   ]
  },
  {
   "cell_type": "markdown",
   "id": "da81d574",
   "metadata": {},
   "source": [
    "### Примерное описание этапов выполнения курсового проекта<a class=\"anchor\" id=\"course_project_steps\"></a>"
   ]
  },
  {
   "cell_type": "markdown",
   "id": "680ca772",
   "metadata": {},
   "source": [
    "**Построение модели классификации**\n",
    "1. Обзор обучающего датасета\n",
    "2. Обработка выбросов\n",
    "3. Обработка пропусков\n",
    "4. Анализ данных\n",
    "5. Отбор признаков\n",
    "6. Балансировка классов\n",
    "7. Подбор моделей, получение бейзлана\n",
    "8. Выбор наилучшей модели, настройка гиперпараметров\n",
    "9. Проверка качества, борьба с переобучением\n",
    "10. Интерпретация результатов\n",
    "\n",
    "**Прогнозирование на тестовом датасете**\n",
    "1. Выполнить для тестового датасета те же этапы обработки и постронияния признаков\n",
    "2. Спрогнозировать целевую переменную, используя модель, построенную на обучающем датасете\n",
    "3. Прогнозы должны быть для всех примеров из тестового датасета (для всех строк)\n",
    "4. Соблюдать исходный порядок примеров из тестового датасета"
   ]
  },
  {
   "cell_type": "markdown",
   "id": "e12ce838",
   "metadata": {},
   "source": [
    "### 1. Обзор данных<a class=\"anchor\" id=\"course_project_review\"></a>"
   ]
  },
  {
   "cell_type": "markdown",
   "id": "64712092",
   "metadata": {},
   "source": [
    "**Описание датасета**\n",
    "\n",
    "* **Home Ownership** - домовладение\n",
    "* **Annual Income** - годовой доход\n",
    "* **Years in current job** - количество лет на текущем месте работы\n",
    "* **Tax Liens** - налоговые обременения\n",
    "* **Number of Open Accounts** - количество открытых счетов\n",
    "* **Years of Credit History** - количество лет кредитной истории\n",
    "* **Maximum Open Credit** - наибольший открытый кредит\n",
    "* **Number of Credit Problems** - количество проблем с кредитом\n",
    "* **Months since last delinquent** - количество месяцев с последней просрочки платежа\n",
    "* **Bankruptcies** - банкротства\n",
    "* **Purpose** - цель кредита\n",
    "* **Term** - срок кредита\n",
    "* **Current Loan Amount** - текущая сумма кредита\n",
    "* **Current Credit Balance** - текущий кредитный баланс\n",
    "* **Monthly Debt** - ежемесячный долг\n",
    "* **Credit Default** - факт невыполнения кредитных обязательств (0 - погашен вовремя, 1 - просрочка)"
   ]
  },
  {
   "cell_type": "code",
   "execution_count": 62,
   "id": "4c3612cf",
   "metadata": {},
   "outputs": [],
   "source": [
    "import pandas as pd\n",
    "import numpy as np\n",
    "import pickle\n",
    "import random\n",
    "import shap\n",
    "\n",
    "from sklearn.preprocessing import StandardScaler, MinMaxScaler\n",
    "from sklearn.model_selection import train_test_split, ShuffleSplit, cross_val_score, learning_curve\n",
    "from sklearn.model_selection import KFold, GridSearchCV, RandomizedSearchCV\n",
    "from sklearn.metrics import classification_report, f1_score, precision_score, recall_score\n",
    "\n",
    "from sklearn.linear_model import LogisticRegression\n",
    "from sklearn.neighbors import KNeighborsClassifier\n",
    "import xgboost as xgb, lightgbm as lgbm, catboost as catb\n",
    "\n",
    "import seaborn as sns\n",
    "import sklearn\n",
    "from matplotlib import pyplot as plt\n",
    "from scipy.stats import probplot\n",
    "from sklearn.ensemble import RandomForestRegressor\n",
    "%matplotlib inline\n",
    "\n",
    "from scipy.stats import chi2_contingency\n",
    "from sklearn.preprocessing import StandardScaler, MinMaxScaler\n",
    "from scipy.stats import shapiro\n",
    "from scipy.stats import mannwhitneyu\n",
    "from catboost import Pool, cv\n",
    "from catboost.utils import get_roc_curve\n",
    "from catboost.utils import get_fpr_curve\n",
    "from catboost.utils import get_fnr_curve\n",
    "from catboost.utils import select_threshold"
   ]
  },
  {
   "cell_type": "code",
   "execution_count": 63,
   "id": "e7cbc631",
   "metadata": {},
   "outputs": [],
   "source": [
    "import warnings\n",
    "warnings.simplefilter('ignore')"
   ]
  },
  {
   "cell_type": "code",
   "execution_count": 64,
   "id": "081b2611",
   "metadata": {},
   "outputs": [],
   "source": [
    "# input\n",
    "TRAIN_DATASET_PATH = './course_project_train.csv'\n",
    "\n",
    "# output\n",
    "TEST_DATASET_PATH = './course_project_test.csv'"
   ]
  },
  {
   "cell_type": "code",
   "execution_count": 65,
   "id": "fb2ebce6",
   "metadata": {},
   "outputs": [
    {
     "data": {
      "text/html": [
       "<div>\n",
       "<style scoped>\n",
       "    .dataframe tbody tr th:only-of-type {\n",
       "        vertical-align: middle;\n",
       "    }\n",
       "\n",
       "    .dataframe tbody tr th {\n",
       "        vertical-align: top;\n",
       "    }\n",
       "\n",
       "    .dataframe thead th {\n",
       "        text-align: right;\n",
       "    }\n",
       "</style>\n",
       "<table border=\"1\" class=\"dataframe\">\n",
       "  <thead>\n",
       "    <tr style=\"text-align: right;\">\n",
       "      <th></th>\n",
       "      <th>Home Ownership</th>\n",
       "      <th>Annual Income</th>\n",
       "      <th>Years in current job</th>\n",
       "      <th>Tax Liens</th>\n",
       "      <th>Number of Open Accounts</th>\n",
       "      <th>Years of Credit History</th>\n",
       "      <th>Maximum Open Credit</th>\n",
       "      <th>Number of Credit Problems</th>\n",
       "      <th>Months since last delinquent</th>\n",
       "      <th>Bankruptcies</th>\n",
       "      <th>Purpose</th>\n",
       "      <th>Term</th>\n",
       "      <th>Current Loan Amount</th>\n",
       "      <th>Current Credit Balance</th>\n",
       "      <th>Monthly Debt</th>\n",
       "      <th>Credit Score</th>\n",
       "    </tr>\n",
       "  </thead>\n",
       "  <tbody>\n",
       "    <tr>\n",
       "      <th>0</th>\n",
       "      <td>Rent</td>\n",
       "      <td>NaN</td>\n",
       "      <td>4 years</td>\n",
       "      <td>0.0</td>\n",
       "      <td>9.0</td>\n",
       "      <td>12.5</td>\n",
       "      <td>220968.0</td>\n",
       "      <td>0.0</td>\n",
       "      <td>70.0</td>\n",
       "      <td>0.0</td>\n",
       "      <td>debt consolidation</td>\n",
       "      <td>Short Term</td>\n",
       "      <td>162470.0</td>\n",
       "      <td>105906.0</td>\n",
       "      <td>6813.0</td>\n",
       "      <td>NaN</td>\n",
       "    </tr>\n",
       "    <tr>\n",
       "      <th>1</th>\n",
       "      <td>Rent</td>\n",
       "      <td>231838.0</td>\n",
       "      <td>1 year</td>\n",
       "      <td>0.0</td>\n",
       "      <td>6.0</td>\n",
       "      <td>32.7</td>\n",
       "      <td>55946.0</td>\n",
       "      <td>0.0</td>\n",
       "      <td>8.0</td>\n",
       "      <td>0.0</td>\n",
       "      <td>educational expenses</td>\n",
       "      <td>Short Term</td>\n",
       "      <td>78298.0</td>\n",
       "      <td>46037.0</td>\n",
       "      <td>2318.0</td>\n",
       "      <td>699.0</td>\n",
       "    </tr>\n",
       "    <tr>\n",
       "      <th>2</th>\n",
       "      <td>Home Mortgage</td>\n",
       "      <td>1152540.0</td>\n",
       "      <td>3 years</td>\n",
       "      <td>0.0</td>\n",
       "      <td>10.0</td>\n",
       "      <td>13.7</td>\n",
       "      <td>204600.0</td>\n",
       "      <td>0.0</td>\n",
       "      <td>NaN</td>\n",
       "      <td>0.0</td>\n",
       "      <td>debt consolidation</td>\n",
       "      <td>Short Term</td>\n",
       "      <td>200178.0</td>\n",
       "      <td>146490.0</td>\n",
       "      <td>18729.0</td>\n",
       "      <td>7260.0</td>\n",
       "    </tr>\n",
       "    <tr>\n",
       "      <th>3</th>\n",
       "      <td>Home Mortgage</td>\n",
       "      <td>1220313.0</td>\n",
       "      <td>10+ years</td>\n",
       "      <td>0.0</td>\n",
       "      <td>16.0</td>\n",
       "      <td>17.0</td>\n",
       "      <td>456302.0</td>\n",
       "      <td>0.0</td>\n",
       "      <td>70.0</td>\n",
       "      <td>0.0</td>\n",
       "      <td>debt consolidation</td>\n",
       "      <td>Short Term</td>\n",
       "      <td>217382.0</td>\n",
       "      <td>213199.0</td>\n",
       "      <td>27559.0</td>\n",
       "      <td>739.0</td>\n",
       "    </tr>\n",
       "    <tr>\n",
       "      <th>4</th>\n",
       "      <td>Home Mortgage</td>\n",
       "      <td>2340952.0</td>\n",
       "      <td>6 years</td>\n",
       "      <td>0.0</td>\n",
       "      <td>11.0</td>\n",
       "      <td>23.6</td>\n",
       "      <td>1207272.0</td>\n",
       "      <td>0.0</td>\n",
       "      <td>NaN</td>\n",
       "      <td>0.0</td>\n",
       "      <td>debt consolidation</td>\n",
       "      <td>Long Term</td>\n",
       "      <td>777634.0</td>\n",
       "      <td>425391.0</td>\n",
       "      <td>42605.0</td>\n",
       "      <td>706.0</td>\n",
       "    </tr>\n",
       "  </tbody>\n",
       "</table>\n",
       "</div>"
      ],
      "text/plain": [
       "  Home Ownership  Annual Income Years in current job  Tax Liens  \\\n",
       "0           Rent            NaN              4 years        0.0   \n",
       "1           Rent       231838.0               1 year        0.0   \n",
       "2  Home Mortgage      1152540.0              3 years        0.0   \n",
       "3  Home Mortgage      1220313.0            10+ years        0.0   \n",
       "4  Home Mortgage      2340952.0              6 years        0.0   \n",
       "\n",
       "   Number of Open Accounts  Years of Credit History  Maximum Open Credit  \\\n",
       "0                      9.0                     12.5             220968.0   \n",
       "1                      6.0                     32.7              55946.0   \n",
       "2                     10.0                     13.7             204600.0   \n",
       "3                     16.0                     17.0             456302.0   \n",
       "4                     11.0                     23.6            1207272.0   \n",
       "\n",
       "   Number of Credit Problems  Months since last delinquent  Bankruptcies  \\\n",
       "0                        0.0                          70.0           0.0   \n",
       "1                        0.0                           8.0           0.0   \n",
       "2                        0.0                           NaN           0.0   \n",
       "3                        0.0                          70.0           0.0   \n",
       "4                        0.0                           NaN           0.0   \n",
       "\n",
       "                Purpose        Term  Current Loan Amount  \\\n",
       "0    debt consolidation  Short Term             162470.0   \n",
       "1  educational expenses  Short Term              78298.0   \n",
       "2    debt consolidation  Short Term             200178.0   \n",
       "3    debt consolidation  Short Term             217382.0   \n",
       "4    debt consolidation   Long Term             777634.0   \n",
       "\n",
       "   Current Credit Balance  Monthly Debt  Credit Score  \n",
       "0                105906.0        6813.0           NaN  \n",
       "1                 46037.0        2318.0         699.0  \n",
       "2                146490.0       18729.0        7260.0  \n",
       "3                213199.0       27559.0         739.0  \n",
       "4                425391.0       42605.0         706.0  "
      ]
     },
     "execution_count": 65,
     "metadata": {},
     "output_type": "execute_result"
    }
   ],
   "source": [
    "#проверим тест\n",
    "test_df = pd.read_csv(TEST_DATASET_PATH)\n",
    "test_df.head()"
   ]
  },
  {
   "cell_type": "code",
   "execution_count": 66,
   "id": "97b1e765",
   "metadata": {},
   "outputs": [
    {
     "data": {
      "text/plain": [
       "(2500, 16)"
      ]
     },
     "execution_count": 66,
     "metadata": {},
     "output_type": "execute_result"
    }
   ],
   "source": [
    "test_df.shape"
   ]
  },
  {
   "cell_type": "code",
   "execution_count": 67,
   "id": "2ea92443",
   "metadata": {},
   "outputs": [
    {
     "data": {
      "text/html": [
       "<div>\n",
       "<style scoped>\n",
       "    .dataframe tbody tr th:only-of-type {\n",
       "        vertical-align: middle;\n",
       "    }\n",
       "\n",
       "    .dataframe tbody tr th {\n",
       "        vertical-align: top;\n",
       "    }\n",
       "\n",
       "    .dataframe thead th {\n",
       "        text-align: right;\n",
       "    }\n",
       "</style>\n",
       "<table border=\"1\" class=\"dataframe\">\n",
       "  <thead>\n",
       "    <tr style=\"text-align: right;\">\n",
       "      <th></th>\n",
       "      <th>Home Ownership</th>\n",
       "      <th>Annual Income</th>\n",
       "      <th>Years in current job</th>\n",
       "      <th>Tax Liens</th>\n",
       "      <th>Number of Open Accounts</th>\n",
       "      <th>Years of Credit History</th>\n",
       "      <th>Maximum Open Credit</th>\n",
       "      <th>Number of Credit Problems</th>\n",
       "      <th>Months since last delinquent</th>\n",
       "      <th>Bankruptcies</th>\n",
       "      <th>Purpose</th>\n",
       "      <th>Term</th>\n",
       "      <th>Current Loan Amount</th>\n",
       "      <th>Current Credit Balance</th>\n",
       "      <th>Monthly Debt</th>\n",
       "      <th>Credit Score</th>\n",
       "      <th>Credit Default</th>\n",
       "    </tr>\n",
       "  </thead>\n",
       "  <tbody>\n",
       "    <tr>\n",
       "      <th>0</th>\n",
       "      <td>Own Home</td>\n",
       "      <td>482087.0</td>\n",
       "      <td>NaN</td>\n",
       "      <td>0.0</td>\n",
       "      <td>11.0</td>\n",
       "      <td>26.3</td>\n",
       "      <td>685960.0</td>\n",
       "      <td>1.0</td>\n",
       "      <td>NaN</td>\n",
       "      <td>1.0</td>\n",
       "      <td>debt consolidation</td>\n",
       "      <td>Short Term</td>\n",
       "      <td>99999999.0</td>\n",
       "      <td>47386.0</td>\n",
       "      <td>7914.0</td>\n",
       "      <td>749.0</td>\n",
       "      <td>0</td>\n",
       "    </tr>\n",
       "    <tr>\n",
       "      <th>1</th>\n",
       "      <td>Own Home</td>\n",
       "      <td>1025487.0</td>\n",
       "      <td>10+ years</td>\n",
       "      <td>0.0</td>\n",
       "      <td>15.0</td>\n",
       "      <td>15.3</td>\n",
       "      <td>1181730.0</td>\n",
       "      <td>0.0</td>\n",
       "      <td>NaN</td>\n",
       "      <td>0.0</td>\n",
       "      <td>debt consolidation</td>\n",
       "      <td>Long Term</td>\n",
       "      <td>264968.0</td>\n",
       "      <td>394972.0</td>\n",
       "      <td>18373.0</td>\n",
       "      <td>737.0</td>\n",
       "      <td>1</td>\n",
       "    </tr>\n",
       "    <tr>\n",
       "      <th>2</th>\n",
       "      <td>Home Mortgage</td>\n",
       "      <td>751412.0</td>\n",
       "      <td>8 years</td>\n",
       "      <td>0.0</td>\n",
       "      <td>11.0</td>\n",
       "      <td>35.0</td>\n",
       "      <td>1182434.0</td>\n",
       "      <td>0.0</td>\n",
       "      <td>NaN</td>\n",
       "      <td>0.0</td>\n",
       "      <td>debt consolidation</td>\n",
       "      <td>Short Term</td>\n",
       "      <td>99999999.0</td>\n",
       "      <td>308389.0</td>\n",
       "      <td>13651.0</td>\n",
       "      <td>742.0</td>\n",
       "      <td>0</td>\n",
       "    </tr>\n",
       "    <tr>\n",
       "      <th>3</th>\n",
       "      <td>Own Home</td>\n",
       "      <td>805068.0</td>\n",
       "      <td>6 years</td>\n",
       "      <td>0.0</td>\n",
       "      <td>8.0</td>\n",
       "      <td>22.5</td>\n",
       "      <td>147400.0</td>\n",
       "      <td>1.0</td>\n",
       "      <td>NaN</td>\n",
       "      <td>1.0</td>\n",
       "      <td>debt consolidation</td>\n",
       "      <td>Short Term</td>\n",
       "      <td>121396.0</td>\n",
       "      <td>95855.0</td>\n",
       "      <td>11338.0</td>\n",
       "      <td>694.0</td>\n",
       "      <td>0</td>\n",
       "    </tr>\n",
       "    <tr>\n",
       "      <th>4</th>\n",
       "      <td>Rent</td>\n",
       "      <td>776264.0</td>\n",
       "      <td>8 years</td>\n",
       "      <td>0.0</td>\n",
       "      <td>13.0</td>\n",
       "      <td>13.6</td>\n",
       "      <td>385836.0</td>\n",
       "      <td>1.0</td>\n",
       "      <td>NaN</td>\n",
       "      <td>0.0</td>\n",
       "      <td>debt consolidation</td>\n",
       "      <td>Short Term</td>\n",
       "      <td>125840.0</td>\n",
       "      <td>93309.0</td>\n",
       "      <td>7180.0</td>\n",
       "      <td>719.0</td>\n",
       "      <td>0</td>\n",
       "    </tr>\n",
       "  </tbody>\n",
       "</table>\n",
       "</div>"
      ],
      "text/plain": [
       "  Home Ownership  Annual Income Years in current job  Tax Liens  \\\n",
       "0       Own Home       482087.0                  NaN        0.0   \n",
       "1       Own Home      1025487.0            10+ years        0.0   \n",
       "2  Home Mortgage       751412.0              8 years        0.0   \n",
       "3       Own Home       805068.0              6 years        0.0   \n",
       "4           Rent       776264.0              8 years        0.0   \n",
       "\n",
       "   Number of Open Accounts  Years of Credit History  Maximum Open Credit  \\\n",
       "0                     11.0                     26.3             685960.0   \n",
       "1                     15.0                     15.3            1181730.0   \n",
       "2                     11.0                     35.0            1182434.0   \n",
       "3                      8.0                     22.5             147400.0   \n",
       "4                     13.0                     13.6             385836.0   \n",
       "\n",
       "   Number of Credit Problems  Months since last delinquent  Bankruptcies  \\\n",
       "0                        1.0                           NaN           1.0   \n",
       "1                        0.0                           NaN           0.0   \n",
       "2                        0.0                           NaN           0.0   \n",
       "3                        1.0                           NaN           1.0   \n",
       "4                        1.0                           NaN           0.0   \n",
       "\n",
       "              Purpose        Term  Current Loan Amount  \\\n",
       "0  debt consolidation  Short Term           99999999.0   \n",
       "1  debt consolidation   Long Term             264968.0   \n",
       "2  debt consolidation  Short Term           99999999.0   \n",
       "3  debt consolidation  Short Term             121396.0   \n",
       "4  debt consolidation  Short Term             125840.0   \n",
       "\n",
       "   Current Credit Balance  Monthly Debt  Credit Score  Credit Default  \n",
       "0                 47386.0        7914.0         749.0               0  \n",
       "1                394972.0       18373.0         737.0               1  \n",
       "2                308389.0       13651.0         742.0               0  \n",
       "3                 95855.0       11338.0         694.0               0  \n",
       "4                 93309.0        7180.0         719.0               0  "
      ]
     },
     "execution_count": 67,
     "metadata": {},
     "output_type": "execute_result"
    }
   ],
   "source": [
    "#дальше работаем с трейновым датасетом\n",
    "df = pd.read_csv(TRAIN_DATASET_PATH)\n",
    "df.head()"
   ]
  },
  {
   "cell_type": "code",
   "execution_count": 68,
   "id": "2fb09529",
   "metadata": {},
   "outputs": [
    {
     "name": "stdout",
     "output_type": "stream",
     "text": [
      "<class 'pandas.core.frame.DataFrame'>\n",
      "RangeIndex: 7500 entries, 0 to 7499\n",
      "Data columns (total 17 columns):\n",
      " #   Column                        Non-Null Count  Dtype  \n",
      "---  ------                        --------------  -----  \n",
      " 0   Home Ownership                7500 non-null   object \n",
      " 1   Annual Income                 5943 non-null   float64\n",
      " 2   Years in current job          7129 non-null   object \n",
      " 3   Tax Liens                     7500 non-null   float64\n",
      " 4   Number of Open Accounts       7500 non-null   float64\n",
      " 5   Years of Credit History       7500 non-null   float64\n",
      " 6   Maximum Open Credit           7500 non-null   float64\n",
      " 7   Number of Credit Problems     7500 non-null   float64\n",
      " 8   Months since last delinquent  3419 non-null   float64\n",
      " 9   Bankruptcies                  7486 non-null   float64\n",
      " 10  Purpose                       7500 non-null   object \n",
      " 11  Term                          7500 non-null   object \n",
      " 12  Current Loan Amount           7500 non-null   float64\n",
      " 13  Current Credit Balance        7500 non-null   float64\n",
      " 14  Monthly Debt                  7500 non-null   float64\n",
      " 15  Credit Score                  5943 non-null   float64\n",
      " 16  Credit Default                7500 non-null   int64  \n",
      "dtypes: float64(12), int64(1), object(4)\n",
      "memory usage: 996.2+ KB\n"
     ]
    }
   ],
   "source": [
    "df.info()"
   ]
  },
  {
   "cell_type": "code",
   "execution_count": 69,
   "id": "308758d7",
   "metadata": {},
   "outputs": [
    {
     "data": {
      "text/plain": [
       "(7500, 17)"
      ]
     },
     "execution_count": 69,
     "metadata": {},
     "output_type": "execute_result"
    }
   ],
   "source": [
    "df.shape"
   ]
  },
  {
   "cell_type": "code",
   "execution_count": 70,
   "id": "8eedbcc7",
   "metadata": {},
   "outputs": [
    {
     "data": {
      "text/plain": [
       "Home Ownership                            Own Home\n",
       "Annual Income                             482087.0\n",
       "Years in current job                           NaN\n",
       "Tax Liens                                      0.0\n",
       "Number of Open Accounts                       11.0\n",
       "Years of Credit History                       26.3\n",
       "Maximum Open Credit                       685960.0\n",
       "Number of Credit Problems                      1.0\n",
       "Months since last delinquent                   NaN\n",
       "Bankruptcies                                   1.0\n",
       "Purpose                         debt consolidation\n",
       "Term                                    Short Term\n",
       "Current Loan Amount                     99999999.0\n",
       "Current Credit Balance                     47386.0\n",
       "Monthly Debt                                7914.0\n",
       "Credit Score                                 749.0\n",
       "Credit Default                                   0\n",
       "Name: 0, dtype: object"
      ]
     },
     "execution_count": 70,
     "metadata": {},
     "output_type": "execute_result"
    }
   ],
   "source": [
    "#смотрим первую строку\n",
    "df.iloc[0]"
   ]
  },
  {
   "cell_type": "code",
   "execution_count": 71,
   "id": "a18921df",
   "metadata": {},
   "outputs": [
    {
     "data": {
      "text/html": [
       "<div>\n",
       "<style scoped>\n",
       "    .dataframe tbody tr th:only-of-type {\n",
       "        vertical-align: middle;\n",
       "    }\n",
       "\n",
       "    .dataframe tbody tr th {\n",
       "        vertical-align: top;\n",
       "    }\n",
       "\n",
       "    .dataframe thead th {\n",
       "        text-align: right;\n",
       "    }\n",
       "</style>\n",
       "<table border=\"1\" class=\"dataframe\">\n",
       "  <thead>\n",
       "    <tr style=\"text-align: right;\">\n",
       "      <th></th>\n",
       "      <th>count</th>\n",
       "      <th>mean</th>\n",
       "      <th>std</th>\n",
       "      <th>min</th>\n",
       "      <th>25%</th>\n",
       "      <th>50%</th>\n",
       "      <th>75%</th>\n",
       "      <th>max</th>\n",
       "    </tr>\n",
       "  </thead>\n",
       "  <tbody>\n",
       "    <tr>\n",
       "      <th>Annual Income</th>\n",
       "      <td>5943.0</td>\n",
       "      <td>1.366392e+06</td>\n",
       "      <td>8.453392e+05</td>\n",
       "      <td>164597.0</td>\n",
       "      <td>844341.0</td>\n",
       "      <td>1168386.0</td>\n",
       "      <td>1640137.00</td>\n",
       "      <td>1.014934e+07</td>\n",
       "    </tr>\n",
       "    <tr>\n",
       "      <th>Tax Liens</th>\n",
       "      <td>7500.0</td>\n",
       "      <td>3.013333e-02</td>\n",
       "      <td>2.716035e-01</td>\n",
       "      <td>0.0</td>\n",
       "      <td>0.0</td>\n",
       "      <td>0.0</td>\n",
       "      <td>0.00</td>\n",
       "      <td>7.000000e+00</td>\n",
       "    </tr>\n",
       "    <tr>\n",
       "      <th>Number of Open Accounts</th>\n",
       "      <td>7500.0</td>\n",
       "      <td>1.113093e+01</td>\n",
       "      <td>4.908924e+00</td>\n",
       "      <td>2.0</td>\n",
       "      <td>8.0</td>\n",
       "      <td>10.0</td>\n",
       "      <td>14.00</td>\n",
       "      <td>4.300000e+01</td>\n",
       "    </tr>\n",
       "    <tr>\n",
       "      <th>Years of Credit History</th>\n",
       "      <td>7500.0</td>\n",
       "      <td>1.831747e+01</td>\n",
       "      <td>7.041946e+00</td>\n",
       "      <td>4.0</td>\n",
       "      <td>13.5</td>\n",
       "      <td>17.0</td>\n",
       "      <td>21.80</td>\n",
       "      <td>5.770000e+01</td>\n",
       "    </tr>\n",
       "    <tr>\n",
       "      <th>Maximum Open Credit</th>\n",
       "      <td>7500.0</td>\n",
       "      <td>9.451537e+05</td>\n",
       "      <td>1.602622e+07</td>\n",
       "      <td>0.0</td>\n",
       "      <td>279229.5</td>\n",
       "      <td>478159.0</td>\n",
       "      <td>793501.50</td>\n",
       "      <td>1.304726e+09</td>\n",
       "    </tr>\n",
       "    <tr>\n",
       "      <th>Number of Credit Problems</th>\n",
       "      <td>7500.0</td>\n",
       "      <td>1.700000e-01</td>\n",
       "      <td>4.985978e-01</td>\n",
       "      <td>0.0</td>\n",
       "      <td>0.0</td>\n",
       "      <td>0.0</td>\n",
       "      <td>0.00</td>\n",
       "      <td>7.000000e+00</td>\n",
       "    </tr>\n",
       "    <tr>\n",
       "      <th>Months since last delinquent</th>\n",
       "      <td>3419.0</td>\n",
       "      <td>3.469260e+01</td>\n",
       "      <td>2.168881e+01</td>\n",
       "      <td>0.0</td>\n",
       "      <td>16.0</td>\n",
       "      <td>32.0</td>\n",
       "      <td>50.00</td>\n",
       "      <td>1.180000e+02</td>\n",
       "    </tr>\n",
       "    <tr>\n",
       "      <th>Bankruptcies</th>\n",
       "      <td>7486.0</td>\n",
       "      <td>1.171520e-01</td>\n",
       "      <td>3.471917e-01</td>\n",
       "      <td>0.0</td>\n",
       "      <td>0.0</td>\n",
       "      <td>0.0</td>\n",
       "      <td>0.00</td>\n",
       "      <td>4.000000e+00</td>\n",
       "    </tr>\n",
       "    <tr>\n",
       "      <th>Current Loan Amount</th>\n",
       "      <td>7500.0</td>\n",
       "      <td>1.187318e+07</td>\n",
       "      <td>3.192612e+07</td>\n",
       "      <td>11242.0</td>\n",
       "      <td>180169.0</td>\n",
       "      <td>309573.0</td>\n",
       "      <td>519882.00</td>\n",
       "      <td>1.000000e+08</td>\n",
       "    </tr>\n",
       "    <tr>\n",
       "      <th>Current Credit Balance</th>\n",
       "      <td>7500.0</td>\n",
       "      <td>2.898332e+05</td>\n",
       "      <td>3.178714e+05</td>\n",
       "      <td>0.0</td>\n",
       "      <td>114256.5</td>\n",
       "      <td>209323.0</td>\n",
       "      <td>360406.25</td>\n",
       "      <td>6.506797e+06</td>\n",
       "    </tr>\n",
       "    <tr>\n",
       "      <th>Monthly Debt</th>\n",
       "      <td>7500.0</td>\n",
       "      <td>1.831445e+04</td>\n",
       "      <td>1.192676e+04</td>\n",
       "      <td>0.0</td>\n",
       "      <td>10067.5</td>\n",
       "      <td>16076.5</td>\n",
       "      <td>23818.00</td>\n",
       "      <td>1.366790e+05</td>\n",
       "    </tr>\n",
       "    <tr>\n",
       "      <th>Credit Score</th>\n",
       "      <td>5943.0</td>\n",
       "      <td>1.151087e+03</td>\n",
       "      <td>1.604451e+03</td>\n",
       "      <td>585.0</td>\n",
       "      <td>711.0</td>\n",
       "      <td>731.0</td>\n",
       "      <td>743.00</td>\n",
       "      <td>7.510000e+03</td>\n",
       "    </tr>\n",
       "    <tr>\n",
       "      <th>Credit Default</th>\n",
       "      <td>7500.0</td>\n",
       "      <td>2.817333e-01</td>\n",
       "      <td>4.498740e-01</td>\n",
       "      <td>0.0</td>\n",
       "      <td>0.0</td>\n",
       "      <td>0.0</td>\n",
       "      <td>1.00</td>\n",
       "      <td>1.000000e+00</td>\n",
       "    </tr>\n",
       "  </tbody>\n",
       "</table>\n",
       "</div>"
      ],
      "text/plain": [
       "                               count          mean           std       min  \\\n",
       "Annual Income                 5943.0  1.366392e+06  8.453392e+05  164597.0   \n",
       "Tax Liens                     7500.0  3.013333e-02  2.716035e-01       0.0   \n",
       "Number of Open Accounts       7500.0  1.113093e+01  4.908924e+00       2.0   \n",
       "Years of Credit History       7500.0  1.831747e+01  7.041946e+00       4.0   \n",
       "Maximum Open Credit           7500.0  9.451537e+05  1.602622e+07       0.0   \n",
       "Number of Credit Problems     7500.0  1.700000e-01  4.985978e-01       0.0   \n",
       "Months since last delinquent  3419.0  3.469260e+01  2.168881e+01       0.0   \n",
       "Bankruptcies                  7486.0  1.171520e-01  3.471917e-01       0.0   \n",
       "Current Loan Amount           7500.0  1.187318e+07  3.192612e+07   11242.0   \n",
       "Current Credit Balance        7500.0  2.898332e+05  3.178714e+05       0.0   \n",
       "Monthly Debt                  7500.0  1.831445e+04  1.192676e+04       0.0   \n",
       "Credit Score                  5943.0  1.151087e+03  1.604451e+03     585.0   \n",
       "Credit Default                7500.0  2.817333e-01  4.498740e-01       0.0   \n",
       "\n",
       "                                   25%        50%         75%           max  \n",
       "Annual Income                 844341.0  1168386.0  1640137.00  1.014934e+07  \n",
       "Tax Liens                          0.0        0.0        0.00  7.000000e+00  \n",
       "Number of Open Accounts            8.0       10.0       14.00  4.300000e+01  \n",
       "Years of Credit History           13.5       17.0       21.80  5.770000e+01  \n",
       "Maximum Open Credit           279229.5   478159.0   793501.50  1.304726e+09  \n",
       "Number of Credit Problems          0.0        0.0        0.00  7.000000e+00  \n",
       "Months since last delinquent      16.0       32.0       50.00  1.180000e+02  \n",
       "Bankruptcies                       0.0        0.0        0.00  4.000000e+00  \n",
       "Current Loan Amount           180169.0   309573.0   519882.00  1.000000e+08  \n",
       "Current Credit Balance        114256.5   209323.0   360406.25  6.506797e+06  \n",
       "Monthly Debt                   10067.5    16076.5    23818.00  1.366790e+05  \n",
       "Credit Score                     711.0      731.0      743.00  7.510000e+03  \n",
       "Credit Default                     0.0        0.0        1.00  1.000000e+00  "
      ]
     },
     "execution_count": 71,
     "metadata": {},
     "output_type": "execute_result"
    }
   ],
   "source": [
    "df.describe().T"
   ]
  },
  {
   "cell_type": "code",
   "execution_count": 72,
   "id": "f89ca7da",
   "metadata": {},
   "outputs": [
    {
     "data": {
      "text/plain": [
       "0    5387\n",
       "1    2113\n",
       "Name: Credit Default, dtype: int64"
      ]
     },
     "execution_count": 72,
     "metadata": {},
     "output_type": "execute_result"
    }
   ],
   "source": [
    "df['Credit Default'].value_counts()"
   ]
  },
  {
   "cell_type": "code",
   "execution_count": 73,
   "id": "f0589063",
   "metadata": {},
   "outputs": [
    {
     "data": {
      "text/plain": [
       "Home Ownership                   object\n",
       "Annual Income                   float64\n",
       "Years in current job             object\n",
       "Tax Liens                       float64\n",
       "Number of Open Accounts         float64\n",
       "Years of Credit History         float64\n",
       "Maximum Open Credit             float64\n",
       "Number of Credit Problems       float64\n",
       "Months since last delinquent    float64\n",
       "Bankruptcies                    float64\n",
       "Purpose                          object\n",
       "Term                             object\n",
       "Current Loan Amount             float64\n",
       "Current Credit Balance          float64\n",
       "Monthly Debt                    float64\n",
       "Credit Score                    float64\n",
       "Credit Default                    int64\n",
       "dtype: object"
      ]
     },
     "execution_count": 73,
     "metadata": {},
     "output_type": "execute_result"
    }
   ],
   "source": [
    "df.dtypes"
   ]
  },
  {
   "cell_type": "markdown",
   "id": "91d926a3",
   "metadata": {},
   "source": [
    "#### Выделение целевой переменной и групп признаков"
   ]
  },
  {
   "cell_type": "code",
   "execution_count": 74,
   "id": "d86f8d56",
   "metadata": {},
   "outputs": [
    {
     "data": {
      "text/plain": [
       "['Home Ownership',\n",
       " 'Annual Income',\n",
       " 'Years in current job',\n",
       " 'Tax Liens',\n",
       " 'Number of Open Accounts',\n",
       " 'Years of Credit History',\n",
       " 'Maximum Open Credit',\n",
       " 'Number of Credit Problems',\n",
       " 'Months since last delinquent',\n",
       " 'Bankruptcies',\n",
       " 'Purpose',\n",
       " 'Term',\n",
       " 'Current Loan Amount',\n",
       " 'Current Credit Balance',\n",
       " 'Monthly Debt',\n",
       " 'Credit Score']"
      ]
     },
     "execution_count": 74,
     "metadata": {},
     "output_type": "execute_result"
    }
   ],
   "source": [
    "TARGET = 'Credit Default'\n",
    "BASE_FEATURE_NAMES = df.columns.drop(TARGET).tolist()\n",
    "BASE_FEATURE_NAMES"
   ]
  },
  {
   "cell_type": "markdown",
   "id": "6d642c62",
   "metadata": {},
   "source": [
    "### Анализ целевой переменной"
   ]
  },
  {
   "cell_type": "markdown",
   "id": "75eb92bc",
   "metadata": {},
   "source": [
    "#### Обзор распределения"
   ]
  },
  {
   "cell_type": "code",
   "execution_count": 75,
   "id": "b355dd75",
   "metadata": {},
   "outputs": [
    {
     "data": {
      "text/plain": [
       "0    5387\n",
       "1    2113\n",
       "Name: Credit Default, dtype: int64"
      ]
     },
     "execution_count": 75,
     "metadata": {},
     "output_type": "execute_result"
    }
   ],
   "source": [
    "# 0-го класса более, чем в 2 раза больше, чем 1-го\n",
    "df[TARGET].value_counts()"
   ]
  },
  {
   "cell_type": "code",
   "execution_count": 76,
   "id": "8130e10c",
   "metadata": {},
   "outputs": [
    {
     "data": {
      "image/png": "[encoded data removed]",
      "text/plain": [
       "<Figure size 576x360 with 1 Axes>"
      ]
     },
     "metadata": {
      "needs_background": "light"
     },
     "output_type": "display_data"
    }
   ],
   "source": [
    "plt.figure(figsize=(8, 5))\n",
    "\n",
    "sns.countplot(x=TARGET, data=df)\n",
    "\n",
    "plt.title('Target variable distribution')\n",
    "plt.show()"
   ]
  },
  {
   "cell_type": "code",
   "execution_count": 77,
   "id": "46252fe7",
   "metadata": {},
   "outputs": [
    {
     "data": {
      "text/plain": [
       "Home Ownership                     0\n",
       "Annual Income                   1557\n",
       "Years in current job             371\n",
       "Tax Liens                          0\n",
       "Number of Open Accounts            0\n",
       "Years of Credit History            0\n",
       "Maximum Open Credit                0\n",
       "Number of Credit Problems          0\n",
       "Months since last delinquent    4081\n",
       "Bankruptcies                      14\n",
       "Purpose                            0\n",
       "Term                               0\n",
       "Current Loan Amount                0\n",
       "Current Credit Balance             0\n",
       "Monthly Debt                       0\n",
       "Credit Score                    1557\n",
       "Credit Default                     0\n",
       "dtype: int64"
      ]
     },
     "execution_count": 77,
     "metadata": {},
     "output_type": "execute_result"
    }
   ],
   "source": [
    "#Количество пропусков\n",
    "len(df) - df.count()"
   ]
  },
  {
   "cell_type": "markdown",
   "id": "3c73def9",
   "metadata": {},
   "source": [
    "###### Выводы: \n",
    "1. 0-го класса более, чем в 2 раза больше, чем 1-го\n",
    "2. Пропуски есть в 4х признаках:\n",
    "\n",
    "Annual Income                   1557\n",
    "\n",
    "Years in current job             371\n",
    "\n",
    "Months since last delinquent    4081\n",
    "\n",
    "Credit Score                    1557\n",
    "\n",
    "Так как в Months since last delinquent пропусков больше половины (всего строк 7500), то этот параметр придется не использовать при обучении модели.\n"
   ]
  },
  {
   "cell_type": "markdown",
   "id": "abe6e2a4",
   "metadata": {},
   "source": [
    "### 2. Обработка выбросов<a class=\"anchor\" id=\"course_project_review\"></a>"
   ]
  },
  {
   "cell_type": "code",
   "execution_count": 78,
   "id": "3ba49fd2",
   "metadata": {},
   "outputs": [],
   "source": [
    "\"\"\"Функция для расчета и изображения на графике медианы и среднего значения заданного показателя\"\"\"\n",
    "def f_plot_distribution(feature, bins_val=10):\n",
    "    feature_mean = round(df[feature].mean(), 2)\n",
    "    feature_median = df[feature].median()\n",
    "\n",
    "    plt.figure(figsize = (12, 6))\n",
    "\n",
    "    sns.distplot(df[feature], bins=bins_val)\n",
    "\n",
    "    y = np.linspace(0, 0.000005, 10)\n",
    "    plt.plot([feature_mean] * 10, y, label='mean',  linewidth=4)\n",
    "    plt.plot([feature_median] * 10, y, label='median',  linewidth=4)\n",
    "\n",
    "    plt.title('Distribution of ' + feature)\n",
    "    plt.legend(loc='upper left')\n",
    "    plt.show()\n",
    "    print(f\"\\tMean= {feature_mean}    Median= {feature_median}  \")\n",
    "    return"
   ]
  },
  {
   "cell_type": "code",
   "execution_count": 79,
   "id": "02ce6e56",
   "metadata": {},
   "outputs": [
    {
     "data": {
      "text/plain": [
       "Home Mortgage    3637\n",
       "Rent             3204\n",
       "Own Home          647\n",
       "Have Mortgage      12\n",
       "Name: Home Ownership, dtype: int64"
      ]
     },
     "execution_count": 79,
     "metadata": {},
     "output_type": "execute_result"
    }
   ],
   "source": [
    "#Home Ownership\n",
    "df['Home Ownership'].value_counts()"
   ]
  },
  {
   "cell_type": "code",
   "execution_count": 80,
   "id": "46e44600",
   "metadata": {},
   "outputs": [],
   "source": [
    "# plt.figure(figsize=(8, 5))\n",
    "\n",
    "# sns.countplot(x='Home Ownership', data=df)\n",
    "\n",
    "# plt.title('Target variable distribution')\n",
    "# plt.show()"
   ]
  },
  {
   "cell_type": "code",
   "execution_count": 81,
   "id": "60896c21",
   "metadata": {},
   "outputs": [],
   "source": [
    "# sns.countplot(x=\"Home Ownership\", hue='Credit Default', data=df)\n",
    "# plt.show()"
   ]
  },
  {
   "cell_type": "code",
   "execution_count": 82,
   "id": "24abddee",
   "metadata": {},
   "outputs": [
    {
     "data": {
      "text/html": [
       "<div>\n",
       "<style scoped>\n",
       "    .dataframe tbody tr th:only-of-type {\n",
       "        vertical-align: middle;\n",
       "    }\n",
       "\n",
       "    .dataframe tbody tr th {\n",
       "        vertical-align: top;\n",
       "    }\n",
       "\n",
       "    .dataframe thead th {\n",
       "        text-align: right;\n",
       "    }\n",
       "</style>\n",
       "<table border=\"1\" class=\"dataframe\">\n",
       "  <thead>\n",
       "    <tr style=\"text-align: right;\">\n",
       "      <th></th>\n",
       "      <th>Home Ownership</th>\n",
       "      <th>Annual Income</th>\n",
       "      <th>Years in current job</th>\n",
       "      <th>Tax Liens</th>\n",
       "      <th>Number of Open Accounts</th>\n",
       "      <th>Years of Credit History</th>\n",
       "      <th>Maximum Open Credit</th>\n",
       "      <th>Number of Credit Problems</th>\n",
       "      <th>Months since last delinquent</th>\n",
       "      <th>Bankruptcies</th>\n",
       "      <th>...</th>\n",
       "      <th>Term</th>\n",
       "      <th>Current Loan Amount</th>\n",
       "      <th>Current Credit Balance</th>\n",
       "      <th>Monthly Debt</th>\n",
       "      <th>Credit Score</th>\n",
       "      <th>Credit Default</th>\n",
       "      <th>Home Ownership_Have Mortgage</th>\n",
       "      <th>Home Ownership_Home Mortgage</th>\n",
       "      <th>Home Ownership_Own Home</th>\n",
       "      <th>Home Ownership_Rent</th>\n",
       "    </tr>\n",
       "  </thead>\n",
       "  <tbody>\n",
       "    <tr>\n",
       "      <th>0</th>\n",
       "      <td>Own Home</td>\n",
       "      <td>482087.0</td>\n",
       "      <td>NaN</td>\n",
       "      <td>0.0</td>\n",
       "      <td>11.0</td>\n",
       "      <td>26.3</td>\n",
       "      <td>685960.0</td>\n",
       "      <td>1.0</td>\n",
       "      <td>NaN</td>\n",
       "      <td>1.0</td>\n",
       "      <td>...</td>\n",
       "      <td>Short Term</td>\n",
       "      <td>99999999.0</td>\n",
       "      <td>47386.0</td>\n",
       "      <td>7914.0</td>\n",
       "      <td>749.0</td>\n",
       "      <td>0</td>\n",
       "      <td>0</td>\n",
       "      <td>0</td>\n",
       "      <td>1</td>\n",
       "      <td>0</td>\n",
       "    </tr>\n",
       "    <tr>\n",
       "      <th>1</th>\n",
       "      <td>Own Home</td>\n",
       "      <td>1025487.0</td>\n",
       "      <td>10+ years</td>\n",
       "      <td>0.0</td>\n",
       "      <td>15.0</td>\n",
       "      <td>15.3</td>\n",
       "      <td>1181730.0</td>\n",
       "      <td>0.0</td>\n",
       "      <td>NaN</td>\n",
       "      <td>0.0</td>\n",
       "      <td>...</td>\n",
       "      <td>Long Term</td>\n",
       "      <td>264968.0</td>\n",
       "      <td>394972.0</td>\n",
       "      <td>18373.0</td>\n",
       "      <td>737.0</td>\n",
       "      <td>1</td>\n",
       "      <td>0</td>\n",
       "      <td>0</td>\n",
       "      <td>1</td>\n",
       "      <td>0</td>\n",
       "    </tr>\n",
       "    <tr>\n",
       "      <th>2</th>\n",
       "      <td>Home Mortgage</td>\n",
       "      <td>751412.0</td>\n",
       "      <td>8 years</td>\n",
       "      <td>0.0</td>\n",
       "      <td>11.0</td>\n",
       "      <td>35.0</td>\n",
       "      <td>1182434.0</td>\n",
       "      <td>0.0</td>\n",
       "      <td>NaN</td>\n",
       "      <td>0.0</td>\n",
       "      <td>...</td>\n",
       "      <td>Short Term</td>\n",
       "      <td>99999999.0</td>\n",
       "      <td>308389.0</td>\n",
       "      <td>13651.0</td>\n",
       "      <td>742.0</td>\n",
       "      <td>0</td>\n",
       "      <td>0</td>\n",
       "      <td>1</td>\n",
       "      <td>0</td>\n",
       "      <td>0</td>\n",
       "    </tr>\n",
       "    <tr>\n",
       "      <th>3</th>\n",
       "      <td>Own Home</td>\n",
       "      <td>805068.0</td>\n",
       "      <td>6 years</td>\n",
       "      <td>0.0</td>\n",
       "      <td>8.0</td>\n",
       "      <td>22.5</td>\n",
       "      <td>147400.0</td>\n",
       "      <td>1.0</td>\n",
       "      <td>NaN</td>\n",
       "      <td>1.0</td>\n",
       "      <td>...</td>\n",
       "      <td>Short Term</td>\n",
       "      <td>121396.0</td>\n",
       "      <td>95855.0</td>\n",
       "      <td>11338.0</td>\n",
       "      <td>694.0</td>\n",
       "      <td>0</td>\n",
       "      <td>0</td>\n",
       "      <td>0</td>\n",
       "      <td>1</td>\n",
       "      <td>0</td>\n",
       "    </tr>\n",
       "    <tr>\n",
       "      <th>4</th>\n",
       "      <td>Rent</td>\n",
       "      <td>776264.0</td>\n",
       "      <td>8 years</td>\n",
       "      <td>0.0</td>\n",
       "      <td>13.0</td>\n",
       "      <td>13.6</td>\n",
       "      <td>385836.0</td>\n",
       "      <td>1.0</td>\n",
       "      <td>NaN</td>\n",
       "      <td>0.0</td>\n",
       "      <td>...</td>\n",
       "      <td>Short Term</td>\n",
       "      <td>125840.0</td>\n",
       "      <td>93309.0</td>\n",
       "      <td>7180.0</td>\n",
       "      <td>719.0</td>\n",
       "      <td>0</td>\n",
       "      <td>0</td>\n",
       "      <td>0</td>\n",
       "      <td>0</td>\n",
       "      <td>1</td>\n",
       "    </tr>\n",
       "    <tr>\n",
       "      <th>...</th>\n",
       "      <td>...</td>\n",
       "      <td>...</td>\n",
       "      <td>...</td>\n",
       "      <td>...</td>\n",
       "      <td>...</td>\n",
       "      <td>...</td>\n",
       "      <td>...</td>\n",
       "      <td>...</td>\n",
       "      <td>...</td>\n",
       "      <td>...</td>\n",
       "      <td>...</td>\n",
       "      <td>...</td>\n",
       "      <td>...</td>\n",
       "      <td>...</td>\n",
       "      <td>...</td>\n",
       "      <td>...</td>\n",
       "      <td>...</td>\n",
       "      <td>...</td>\n",
       "      <td>...</td>\n",
       "      <td>...</td>\n",
       "      <td>...</td>\n",
       "    </tr>\n",
       "    <tr>\n",
       "      <th>7495</th>\n",
       "      <td>Rent</td>\n",
       "      <td>402192.0</td>\n",
       "      <td>&lt; 1 year</td>\n",
       "      <td>0.0</td>\n",
       "      <td>3.0</td>\n",
       "      <td>8.5</td>\n",
       "      <td>107866.0</td>\n",
       "      <td>0.0</td>\n",
       "      <td>NaN</td>\n",
       "      <td>0.0</td>\n",
       "      <td>...</td>\n",
       "      <td>Short Term</td>\n",
       "      <td>129360.0</td>\n",
       "      <td>73492.0</td>\n",
       "      <td>1900.0</td>\n",
       "      <td>697.0</td>\n",
       "      <td>0</td>\n",
       "      <td>0</td>\n",
       "      <td>0</td>\n",
       "      <td>0</td>\n",
       "      <td>1</td>\n",
       "    </tr>\n",
       "    <tr>\n",
       "      <th>7496</th>\n",
       "      <td>Home Mortgage</td>\n",
       "      <td>1533984.0</td>\n",
       "      <td>1 year</td>\n",
       "      <td>0.0</td>\n",
       "      <td>10.0</td>\n",
       "      <td>26.5</td>\n",
       "      <td>686312.0</td>\n",
       "      <td>0.0</td>\n",
       "      <td>43.0</td>\n",
       "      <td>0.0</td>\n",
       "      <td>...</td>\n",
       "      <td>Long Term</td>\n",
       "      <td>444048.0</td>\n",
       "      <td>456399.0</td>\n",
       "      <td>12783.0</td>\n",
       "      <td>7410.0</td>\n",
       "      <td>1</td>\n",
       "      <td>0</td>\n",
       "      <td>1</td>\n",
       "      <td>0</td>\n",
       "      <td>0</td>\n",
       "    </tr>\n",
       "    <tr>\n",
       "      <th>7497</th>\n",
       "      <td>Rent</td>\n",
       "      <td>1878910.0</td>\n",
       "      <td>6 years</td>\n",
       "      <td>0.0</td>\n",
       "      <td>12.0</td>\n",
       "      <td>32.1</td>\n",
       "      <td>1778920.0</td>\n",
       "      <td>0.0</td>\n",
       "      <td>NaN</td>\n",
       "      <td>0.0</td>\n",
       "      <td>...</td>\n",
       "      <td>Short Term</td>\n",
       "      <td>99999999.0</td>\n",
       "      <td>477812.0</td>\n",
       "      <td>12479.0</td>\n",
       "      <td>748.0</td>\n",
       "      <td>0</td>\n",
       "      <td>0</td>\n",
       "      <td>0</td>\n",
       "      <td>0</td>\n",
       "      <td>1</td>\n",
       "    </tr>\n",
       "    <tr>\n",
       "      <th>7498</th>\n",
       "      <td>Home Mortgage</td>\n",
       "      <td>NaN</td>\n",
       "      <td>NaN</td>\n",
       "      <td>0.0</td>\n",
       "      <td>21.0</td>\n",
       "      <td>26.5</td>\n",
       "      <td>1141250.0</td>\n",
       "      <td>0.0</td>\n",
       "      <td>NaN</td>\n",
       "      <td>0.0</td>\n",
       "      <td>...</td>\n",
       "      <td>Short Term</td>\n",
       "      <td>615274.0</td>\n",
       "      <td>476064.0</td>\n",
       "      <td>37118.0</td>\n",
       "      <td>NaN</td>\n",
       "      <td>0</td>\n",
       "      <td>0</td>\n",
       "      <td>1</td>\n",
       "      <td>0</td>\n",
       "      <td>0</td>\n",
       "    </tr>\n",
       "    <tr>\n",
       "      <th>7499</th>\n",
       "      <td>Rent</td>\n",
       "      <td>NaN</td>\n",
       "      <td>4 years</td>\n",
       "      <td>0.0</td>\n",
       "      <td>8.0</td>\n",
       "      <td>9.4</td>\n",
       "      <td>480832.0</td>\n",
       "      <td>0.0</td>\n",
       "      <td>NaN</td>\n",
       "      <td>0.0</td>\n",
       "      <td>...</td>\n",
       "      <td>Short Term</td>\n",
       "      <td>26928.0</td>\n",
       "      <td>288192.0</td>\n",
       "      <td>9061.0</td>\n",
       "      <td>NaN</td>\n",
       "      <td>0</td>\n",
       "      <td>0</td>\n",
       "      <td>0</td>\n",
       "      <td>0</td>\n",
       "      <td>1</td>\n",
       "    </tr>\n",
       "  </tbody>\n",
       "</table>\n",
       "<p>7500 rows × 21 columns</p>\n",
       "</div>"
      ],
      "text/plain": [
       "     Home Ownership  Annual Income Years in current job  Tax Liens  \\\n",
       "0          Own Home       482087.0                  NaN        0.0   \n",
       "1          Own Home      1025487.0            10+ years        0.0   \n",
       "2     Home Mortgage       751412.0              8 years        0.0   \n",
       "3          Own Home       805068.0              6 years        0.0   \n",
       "4              Rent       776264.0              8 years        0.0   \n",
       "...             ...            ...                  ...        ...   \n",
       "7495           Rent       402192.0             < 1 year        0.0   \n",
       "7496  Home Mortgage      1533984.0               1 year        0.0   \n",
       "7497           Rent      1878910.0              6 years        0.0   \n",
       "7498  Home Mortgage            NaN                  NaN        0.0   \n",
       "7499           Rent            NaN              4 years        0.0   \n",
       "\n",
       "      Number of Open Accounts  Years of Credit History  Maximum Open Credit  \\\n",
       "0                        11.0                     26.3             685960.0   \n",
       "1                        15.0                     15.3            1181730.0   \n",
       "2                        11.0                     35.0            1182434.0   \n",
       "3                         8.0                     22.5             147400.0   \n",
       "4                        13.0                     13.6             385836.0   \n",
       "...                       ...                      ...                  ...   \n",
       "7495                      3.0                      8.5             107866.0   \n",
       "7496                     10.0                     26.5             686312.0   \n",
       "7497                     12.0                     32.1            1778920.0   \n",
       "7498                     21.0                     26.5            1141250.0   \n",
       "7499                      8.0                      9.4             480832.0   \n",
       "\n",
       "      Number of Credit Problems  Months since last delinquent  Bankruptcies  \\\n",
       "0                           1.0                           NaN           1.0   \n",
       "1                           0.0                           NaN           0.0   \n",
       "2                           0.0                           NaN           0.0   \n",
       "3                           1.0                           NaN           1.0   \n",
       "4                           1.0                           NaN           0.0   \n",
       "...                         ...                           ...           ...   \n",
       "7495                        0.0                           NaN           0.0   \n",
       "7496                        0.0                          43.0           0.0   \n",
       "7497                        0.0                           NaN           0.0   \n",
       "7498                        0.0                           NaN           0.0   \n",
       "7499                        0.0                           NaN           0.0   \n",
       "\n",
       "      ...        Term Current Loan Amount  Current Credit Balance  \\\n",
       "0     ...  Short Term          99999999.0                 47386.0   \n",
       "1     ...   Long Term            264968.0                394972.0   \n",
       "2     ...  Short Term          99999999.0                308389.0   \n",
       "3     ...  Short Term            121396.0                 95855.0   \n",
       "4     ...  Short Term            125840.0                 93309.0   \n",
       "...   ...         ...                 ...                     ...   \n",
       "7495  ...  Short Term            129360.0                 73492.0   \n",
       "7496  ...   Long Term            444048.0                456399.0   \n",
       "7497  ...  Short Term          99999999.0                477812.0   \n",
       "7498  ...  Short Term            615274.0                476064.0   \n",
       "7499  ...  Short Term             26928.0                288192.0   \n",
       "\n",
       "      Monthly Debt  Credit Score  Credit Default  \\\n",
       "0           7914.0         749.0               0   \n",
       "1          18373.0         737.0               1   \n",
       "2          13651.0         742.0               0   \n",
       "3          11338.0         694.0               0   \n",
       "4           7180.0         719.0               0   \n",
       "...            ...           ...             ...   \n",
       "7495        1900.0         697.0               0   \n",
       "7496       12783.0        7410.0               1   \n",
       "7497       12479.0         748.0               0   \n",
       "7498       37118.0           NaN               0   \n",
       "7499        9061.0           NaN               0   \n",
       "\n",
       "      Home Ownership_Have Mortgage  Home Ownership_Home Mortgage  \\\n",
       "0                                0                             0   \n",
       "1                                0                             0   \n",
       "2                                0                             1   \n",
       "3                                0                             0   \n",
       "4                                0                             0   \n",
       "...                            ...                           ...   \n",
       "7495                             0                             0   \n",
       "7496                             0                             1   \n",
       "7497                             0                             0   \n",
       "7498                             0                             1   \n",
       "7499                             0                             0   \n",
       "\n",
       "      Home Ownership_Own Home  Home Ownership_Rent  \n",
       "0                           1                    0  \n",
       "1                           1                    0  \n",
       "2                           0                    0  \n",
       "3                           1                    0  \n",
       "4                           0                    1  \n",
       "...                       ...                  ...  \n",
       "7495                        0                    1  \n",
       "7496                        0                    0  \n",
       "7497                        0                    1  \n",
       "7498                        0                    0  \n",
       "7499                        0                    1  \n",
       "\n",
       "[7500 rows x 21 columns]"
      ]
     },
     "execution_count": 82,
     "metadata": {},
     "output_type": "execute_result"
    }
   ],
   "source": [
    "#преобразуем их в dummies\n",
    "df = pd.concat([df, pd.get_dummies(df['Home Ownership'], prefix='Home Ownership')], axis=1)\n",
    "df"
   ]
  },
  {
   "cell_type": "code",
   "execution_count": 83,
   "id": "d3e5557b",
   "metadata": {},
   "outputs": [
    {
     "data": {
      "text/plain": [
       "1338113.0    4\n",
       "969475.0     4\n",
       "1161660.0    4\n",
       "1043651.0    4\n",
       "1058376.0    4\n",
       "            ..\n",
       "1272316.0    1\n",
       "712082.0     1\n",
       "695476.0     1\n",
       "678889.0     1\n",
       "402192.0     1\n",
       "Name: Annual Income, Length: 5478, dtype: int64"
      ]
     },
     "execution_count": 83,
     "metadata": {},
     "output_type": "execute_result"
    }
   ],
   "source": [
    "#Annual Income\n",
    "df['Annual Income'].value_counts()"
   ]
  },
  {
   "cell_type": "code",
   "execution_count": 84,
   "id": "9f9df0c5",
   "metadata": {},
   "outputs": [
    {
     "data": {
      "text/plain": [
       "count    5.943000e+03\n",
       "mean     1.366392e+06\n",
       "std      8.453392e+05\n",
       "min      1.645970e+05\n",
       "25%      8.443410e+05\n",
       "50%      1.168386e+06\n",
       "75%      1.640137e+06\n",
       "max      1.014934e+07\n",
       "Name: Annual Income, dtype: float64"
      ]
     },
     "execution_count": 84,
     "metadata": {},
     "output_type": "execute_result"
    }
   ],
   "source": [
    "df['Annual Income'].describe()"
   ]
  },
  {
   "cell_type": "code",
   "execution_count": 85,
   "id": "c002a70e",
   "metadata": {},
   "outputs": [
    {
     "data": {
      "image/png": "[encoded data removed]",
      "text/plain": [
       "<Figure size 864x432 with 1 Axes>"
      ]
     },
     "metadata": {
      "needs_background": "light"
     },
     "output_type": "display_data"
    },
    {
     "name": "stdout",
     "output_type": "stream",
     "text": [
      "\tMean= 1366391.72    Median= 1168386.0  \n"
     ]
    }
   ],
   "source": [
    " f_plot_distribution('Annual Income')\n",
    "# среднее правее медианы - значит выбросы справа"
   ]
  },
  {
   "cell_type": "code",
   "execution_count": 86,
   "id": "ecb0a330",
   "metadata": {},
   "outputs": [
    {
     "data": {
      "image/png": "[encoded data removed]",
      "text/plain": [
       "<Figure size 864x432 with 1 Axes>"
      ]
     },
     "metadata": {
      "needs_background": "light"
     },
     "output_type": "display_data"
    },
    {
     "name": "stdout",
     "output_type": "stream",
     "text": [
      "\tMean= 1326514.21    Median= 1168386.0  \n"
     ]
    }
   ],
   "source": [
    "# выбросы заменим на 97-ю квантиль\n",
    "wired_income = np.percentile(df.loc[df['Annual Income'].notna(),'Annual Income'], 97)\n",
    "df['Annual Income Outlier'] = 0\n",
    "df.loc[df['Annual Income'] > wired_income, 'Annual Income Outlier'] = 1\n",
    "df.loc[df['Annual Income'] > wired_income, 'Annual Income'] = wired_income\n",
    "\n",
    "f_plot_distribution('Annual Income')"
   ]
  },
  {
   "cell_type": "code",
   "execution_count": 87,
   "id": "6e48320b",
   "metadata": {},
   "outputs": [
    {
     "data": {
      "text/plain": [
       "0    7321\n",
       "1     179\n",
       "Name: Annual Income Outlier, dtype: int64"
      ]
     },
     "execution_count": 87,
     "metadata": {},
     "output_type": "execute_result"
    }
   ],
   "source": [
    "df['Annual Income Outlier'].value_counts()"
   ]
  },
  {
   "cell_type": "code",
   "execution_count": 88,
   "id": "b7f4f4e5",
   "metadata": {},
   "outputs": [
    {
     "data": {
      "text/plain": [
       "10+ years    2332\n",
       "2 years       705\n",
       "3 years       620\n",
       "< 1 year      563\n",
       "5 years       516\n",
       "1 year        504\n",
       "4 years       469\n",
       "6 years       426\n",
       "7 years       396\n",
       "8 years       339\n",
       "9 years       259\n",
       "Name: Years in current job, dtype: int64"
      ]
     },
     "execution_count": 88,
     "metadata": {},
     "output_type": "execute_result"
    }
   ],
   "source": [
    "#Years in current job\n",
    "df['Years in current job'].value_counts()"
   ]
  },
  {
   "cell_type": "code",
   "execution_count": 89,
   "id": "19216c7d",
   "metadata": {},
   "outputs": [
    {
     "data": {
      "text/plain": [
       "371"
      ]
     },
     "execution_count": 89,
     "metadata": {},
     "output_type": "execute_result"
    }
   ],
   "source": [
    "#371 пропуск\n",
    "len(df) - df['Years in current job'].count()"
   ]
  },
  {
   "cell_type": "code",
   "execution_count": 90,
   "id": "f6b6b87f",
   "metadata": {},
   "outputs": [
    {
     "data": {
      "text/plain": [
       "0    10+ years\n",
       "dtype: object"
      ]
     },
     "execution_count": 90,
     "metadata": {},
     "output_type": "execute_result"
    }
   ],
   "source": [
    "#заменим потом на моду или на >1\n",
    "df['Years in current job'].mode()"
   ]
  },
  {
   "cell_type": "code",
   "execution_count": 91,
   "id": "0b9ef002",
   "metadata": {},
   "outputs": [],
   "source": [
    "# plt.figure(figsize=(8, 5))\n",
    "\n",
    "# sns.countplot(x='Years in current job', data=df)\n",
    "\n",
    "# plt.title('Target variable distribution')\n",
    "# plt.show()"
   ]
  },
  {
   "cell_type": "code",
   "execution_count": 92,
   "id": "281b80d6",
   "metadata": {},
   "outputs": [],
   "source": [
    "# sns.countplot(x='Years in current job', hue='Credit Default', data=df)\n",
    "# plt.show()"
   ]
  },
  {
   "cell_type": "code",
   "execution_count": 93,
   "id": "a9ba0589",
   "metadata": {},
   "outputs": [
    {
     "data": {
      "text/plain": [
       "0.0    7366\n",
       "1.0      83\n",
       "2.0      30\n",
       "3.0      10\n",
       "4.0       6\n",
       "6.0       2\n",
       "5.0       2\n",
       "7.0       1\n",
       "Name: Tax Liens, dtype: int64"
      ]
     },
     "execution_count": 93,
     "metadata": {},
     "output_type": "execute_result"
    }
   ],
   "source": [
    "#Tax Liens\n",
    "df['Tax Liens'].value_counts()"
   ]
  },
  {
   "cell_type": "code",
   "execution_count": 94,
   "id": "4cf660dd",
   "metadata": {},
   "outputs": [
    {
     "data": {
      "text/plain": [
       "0"
      ]
     },
     "execution_count": 94,
     "metadata": {},
     "output_type": "execute_result"
    }
   ],
   "source": [
    "#пропусков нет\n",
    "len(df) - df['Tax Liens'].count()"
   ]
  },
  {
   "cell_type": "code",
   "execution_count": 95,
   "id": "e8b9aa96",
   "metadata": {},
   "outputs": [],
   "source": [
    "# plt.figure(figsize=(8, 5))\n",
    "\n",
    "# sns.countplot(x='Tax Liens', data=df)\n",
    "\n",
    "# plt.title('Target variable distribution')\n",
    "# plt.show()"
   ]
  },
  {
   "cell_type": "code",
   "execution_count": 96,
   "id": "1073e90c",
   "metadata": {},
   "outputs": [],
   "source": [
    "# sns.countplot(x='Tax Liens', hue='Credit Default', data=df)\n",
    "# plt.show()"
   ]
  },
  {
   "cell_type": "code",
   "execution_count": 97,
   "id": "09828560",
   "metadata": {},
   "outputs": [
    {
     "data": {
      "text/plain": [
       "9.0     728\n",
       "11.0    692\n",
       "10.0    677\n",
       "8.0     638\n",
       "7.0     613\n",
       "12.0    562\n",
       "6.0     504\n",
       "13.0    465\n",
       "14.0    420\n",
       "5.0     325\n",
       "15.0    313\n",
       "16.0    265\n",
       "17.0    232\n",
       "4.0     212\n",
       "18.0    143\n",
       "19.0    139\n",
       "3.0      95\n",
       "20.0     93\n",
       "21.0     78\n",
       "23.0     59\n",
       "24.0     50\n",
       "22.0     49\n",
       "25.0     32\n",
       "2.0      28\n",
       "28.0     14\n",
       "27.0     14\n",
       "26.0     12\n",
       "30.0     11\n",
       "29.0     10\n",
       "32.0      6\n",
       "33.0      6\n",
       "31.0      6\n",
       "34.0      2\n",
       "37.0      2\n",
       "43.0      1\n",
       "41.0      1\n",
       "38.0      1\n",
       "35.0      1\n",
       "42.0      1\n",
       "Name: Number of Open Accounts, dtype: int64"
      ]
     },
     "execution_count": 97,
     "metadata": {},
     "output_type": "execute_result"
    }
   ],
   "source": [
    "#Number of Open Accounts\n",
    "df['Number of Open Accounts'].value_counts()"
   ]
  },
  {
   "cell_type": "code",
   "execution_count": 98,
   "id": "2fe6fb04",
   "metadata": {},
   "outputs": [
    {
     "data": {
      "text/plain": [
       "0"
      ]
     },
     "execution_count": 98,
     "metadata": {},
     "output_type": "execute_result"
    }
   ],
   "source": [
    "#нет пропусков\n",
    "len(df) - df['Number of Open Accounts'].count()"
   ]
  },
  {
   "cell_type": "code",
   "execution_count": 99,
   "id": "88a53939",
   "metadata": {},
   "outputs": [],
   "source": [
    "#небольшие выбросы справа\n",
    "# f_plot_distribution('Number of Open Accounts')"
   ]
  },
  {
   "cell_type": "code",
   "execution_count": 100,
   "id": "9e131a26",
   "metadata": {},
   "outputs": [],
   "source": [
    "# выбросы заменим на 99-ю квантиль\n",
    "wired_accounts = np.percentile(df.loc[df['Number of Open Accounts'].notna(),'Number of Open Accounts'], 99)\n",
    "df['Number of Open Accounts Outlier'] = 0\n",
    "df.loc[df['Number of Open Accounts'] > wired_accounts, 'Number of Open Accounts Outlier'] = 1\n",
    "df.loc[df['Number of Open Accounts'] > wired_accounts, 'Number of Open Accounts'] = wired_accounts\n",
    "\n",
    "#f_plot_distribution('Number of Open Accounts')"
   ]
  },
  {
   "cell_type": "code",
   "execution_count": 101,
   "id": "fcb25911",
   "metadata": {},
   "outputs": [
    {
     "data": {
      "text/html": [
       "<div>\n",
       "<style scoped>\n",
       "    .dataframe tbody tr th:only-of-type {\n",
       "        vertical-align: middle;\n",
       "    }\n",
       "\n",
       "    .dataframe tbody tr th {\n",
       "        vertical-align: top;\n",
       "    }\n",
       "\n",
       "    .dataframe thead th {\n",
       "        text-align: right;\n",
       "    }\n",
       "</style>\n",
       "<table border=\"1\" class=\"dataframe\">\n",
       "  <thead>\n",
       "    <tr style=\"text-align: right;\">\n",
       "      <th></th>\n",
       "      <th>Home Ownership</th>\n",
       "      <th>Annual Income</th>\n",
       "      <th>Years in current job</th>\n",
       "      <th>Tax Liens</th>\n",
       "      <th>Number of Open Accounts</th>\n",
       "      <th>Years of Credit History</th>\n",
       "      <th>Maximum Open Credit</th>\n",
       "      <th>Number of Credit Problems</th>\n",
       "      <th>Months since last delinquent</th>\n",
       "      <th>Bankruptcies</th>\n",
       "      <th>...</th>\n",
       "      <th>Current Credit Balance</th>\n",
       "      <th>Monthly Debt</th>\n",
       "      <th>Credit Score</th>\n",
       "      <th>Credit Default</th>\n",
       "      <th>Home Ownership_Have Mortgage</th>\n",
       "      <th>Home Ownership_Home Mortgage</th>\n",
       "      <th>Home Ownership_Own Home</th>\n",
       "      <th>Home Ownership_Rent</th>\n",
       "      <th>Annual Income Outlier</th>\n",
       "      <th>Number of Open Accounts Outlier</th>\n",
       "    </tr>\n",
       "  </thead>\n",
       "  <tbody>\n",
       "    <tr>\n",
       "      <th>0</th>\n",
       "      <td>Own Home</td>\n",
       "      <td>482087.0</td>\n",
       "      <td>NaN</td>\n",
       "      <td>0.0</td>\n",
       "      <td>11.0</td>\n",
       "      <td>26.3</td>\n",
       "      <td>685960.0</td>\n",
       "      <td>1.0</td>\n",
       "      <td>NaN</td>\n",
       "      <td>1.0</td>\n",
       "      <td>...</td>\n",
       "      <td>47386.0</td>\n",
       "      <td>7914.0</td>\n",
       "      <td>749.0</td>\n",
       "      <td>0</td>\n",
       "      <td>0</td>\n",
       "      <td>0</td>\n",
       "      <td>1</td>\n",
       "      <td>0</td>\n",
       "      <td>0</td>\n",
       "      <td>0</td>\n",
       "    </tr>\n",
       "    <tr>\n",
       "      <th>1</th>\n",
       "      <td>Own Home</td>\n",
       "      <td>1025487.0</td>\n",
       "      <td>10+ years</td>\n",
       "      <td>0.0</td>\n",
       "      <td>15.0</td>\n",
       "      <td>15.3</td>\n",
       "      <td>1181730.0</td>\n",
       "      <td>0.0</td>\n",
       "      <td>NaN</td>\n",
       "      <td>0.0</td>\n",
       "      <td>...</td>\n",
       "      <td>394972.0</td>\n",
       "      <td>18373.0</td>\n",
       "      <td>737.0</td>\n",
       "      <td>1</td>\n",
       "      <td>0</td>\n",
       "      <td>0</td>\n",
       "      <td>1</td>\n",
       "      <td>0</td>\n",
       "      <td>0</td>\n",
       "      <td>0</td>\n",
       "    </tr>\n",
       "    <tr>\n",
       "      <th>2</th>\n",
       "      <td>Home Mortgage</td>\n",
       "      <td>751412.0</td>\n",
       "      <td>8 years</td>\n",
       "      <td>0.0</td>\n",
       "      <td>11.0</td>\n",
       "      <td>35.0</td>\n",
       "      <td>1182434.0</td>\n",
       "      <td>0.0</td>\n",
       "      <td>NaN</td>\n",
       "      <td>0.0</td>\n",
       "      <td>...</td>\n",
       "      <td>308389.0</td>\n",
       "      <td>13651.0</td>\n",
       "      <td>742.0</td>\n",
       "      <td>0</td>\n",
       "      <td>0</td>\n",
       "      <td>1</td>\n",
       "      <td>0</td>\n",
       "      <td>0</td>\n",
       "      <td>0</td>\n",
       "      <td>0</td>\n",
       "    </tr>\n",
       "    <tr>\n",
       "      <th>3</th>\n",
       "      <td>Own Home</td>\n",
       "      <td>805068.0</td>\n",
       "      <td>6 years</td>\n",
       "      <td>0.0</td>\n",
       "      <td>8.0</td>\n",
       "      <td>22.5</td>\n",
       "      <td>147400.0</td>\n",
       "      <td>1.0</td>\n",
       "      <td>NaN</td>\n",
       "      <td>1.0</td>\n",
       "      <td>...</td>\n",
       "      <td>95855.0</td>\n",
       "      <td>11338.0</td>\n",
       "      <td>694.0</td>\n",
       "      <td>0</td>\n",
       "      <td>0</td>\n",
       "      <td>0</td>\n",
       "      <td>1</td>\n",
       "      <td>0</td>\n",
       "      <td>0</td>\n",
       "      <td>0</td>\n",
       "    </tr>\n",
       "    <tr>\n",
       "      <th>4</th>\n",
       "      <td>Rent</td>\n",
       "      <td>776264.0</td>\n",
       "      <td>8 years</td>\n",
       "      <td>0.0</td>\n",
       "      <td>13.0</td>\n",
       "      <td>13.6</td>\n",
       "      <td>385836.0</td>\n",
       "      <td>1.0</td>\n",
       "      <td>NaN</td>\n",
       "      <td>0.0</td>\n",
       "      <td>...</td>\n",
       "      <td>93309.0</td>\n",
       "      <td>7180.0</td>\n",
       "      <td>719.0</td>\n",
       "      <td>0</td>\n",
       "      <td>0</td>\n",
       "      <td>0</td>\n",
       "      <td>0</td>\n",
       "      <td>1</td>\n",
       "      <td>0</td>\n",
       "      <td>0</td>\n",
       "    </tr>\n",
       "  </tbody>\n",
       "</table>\n",
       "<p>5 rows × 23 columns</p>\n",
       "</div>"
      ],
      "text/plain": [
       "  Home Ownership  Annual Income Years in current job  Tax Liens  \\\n",
       "0       Own Home       482087.0                  NaN        0.0   \n",
       "1       Own Home      1025487.0            10+ years        0.0   \n",
       "2  Home Mortgage       751412.0              8 years        0.0   \n",
       "3       Own Home       805068.0              6 years        0.0   \n",
       "4           Rent       776264.0              8 years        0.0   \n",
       "\n",
       "   Number of Open Accounts  Years of Credit History  Maximum Open Credit  \\\n",
       "0                     11.0                     26.3             685960.0   \n",
       "1                     15.0                     15.3            1181730.0   \n",
       "2                     11.0                     35.0            1182434.0   \n",
       "3                      8.0                     22.5             147400.0   \n",
       "4                     13.0                     13.6             385836.0   \n",
       "\n",
       "   Number of Credit Problems  Months since last delinquent  Bankruptcies  ...  \\\n",
       "0                        1.0                           NaN           1.0  ...   \n",
       "1                        0.0                           NaN           0.0  ...   \n",
       "2                        0.0                           NaN           0.0  ...   \n",
       "3                        1.0                           NaN           1.0  ...   \n",
       "4                        1.0                           NaN           0.0  ...   \n",
       "\n",
       "  Current Credit Balance Monthly Debt  Credit Score  Credit Default  \\\n",
       "0                47386.0       7914.0         749.0               0   \n",
       "1               394972.0      18373.0         737.0               1   \n",
       "2               308389.0      13651.0         742.0               0   \n",
       "3                95855.0      11338.0         694.0               0   \n",
       "4                93309.0       7180.0         719.0               0   \n",
       "\n",
       "   Home Ownership_Have Mortgage  Home Ownership_Home Mortgage  \\\n",
       "0                             0                             0   \n",
       "1                             0                             0   \n",
       "2                             0                             1   \n",
       "3                             0                             0   \n",
       "4                             0                             0   \n",
       "\n",
       "   Home Ownership_Own Home  Home Ownership_Rent  Annual Income Outlier  \\\n",
       "0                        1                    0                      0   \n",
       "1                        1                    0                      0   \n",
       "2                        0                    0                      0   \n",
       "3                        1                    0                      0   \n",
       "4                        0                    1                      0   \n",
       "\n",
       "   Number of Open Accounts Outlier  \n",
       "0                                0  \n",
       "1                                0  \n",
       "2                                0  \n",
       "3                                0  \n",
       "4                                0  \n",
       "\n",
       "[5 rows x 23 columns]"
      ]
     },
     "execution_count": 101,
     "metadata": {},
     "output_type": "execute_result"
    }
   ],
   "source": [
    "df.head()"
   ]
  },
  {
   "cell_type": "code",
   "execution_count": 102,
   "id": "28c76357",
   "metadata": {},
   "outputs": [
    {
     "data": {
      "text/plain": [
       "9.0     728\n",
       "11.0    692\n",
       "10.0    677\n",
       "8.0     638\n",
       "7.0     613\n",
       "12.0    562\n",
       "6.0     504\n",
       "13.0    465\n",
       "14.0    420\n",
       "5.0     325\n",
       "15.0    313\n",
       "16.0    265\n",
       "17.0    232\n",
       "4.0     212\n",
       "18.0    143\n",
       "19.0    139\n",
       "3.0      95\n",
       "20.0     93\n",
       "21.0     78\n",
       "27.0     76\n",
       "23.0     59\n",
       "24.0     50\n",
       "22.0     49\n",
       "25.0     32\n",
       "2.0      28\n",
       "26.0     12\n",
       "Name: Number of Open Accounts, dtype: int64"
      ]
     },
     "execution_count": 102,
     "metadata": {},
     "output_type": "execute_result"
    }
   ],
   "source": [
    "df['Number of Open Accounts'].value_counts()"
   ]
  },
  {
   "cell_type": "code",
   "execution_count": 103,
   "id": "0a0b4a15",
   "metadata": {},
   "outputs": [
    {
     "data": {
      "text/plain": [
       "15.0    104\n",
       "16.0     99\n",
       "16.5     91\n",
       "17.0     86\n",
       "17.5     83\n",
       "       ... \n",
       "44.0      1\n",
       "39.8      1\n",
       "40.0      1\n",
       "39.9      1\n",
       "48.3      1\n",
       "Name: Years of Credit History, Length: 408, dtype: int64"
      ]
     },
     "execution_count": 103,
     "metadata": {},
     "output_type": "execute_result"
    }
   ],
   "source": [
    "#Years of Credit History\n",
    "df['Years of Credit History'].value_counts()"
   ]
  },
  {
   "cell_type": "code",
   "execution_count": 104,
   "id": "cab37a78",
   "metadata": {},
   "outputs": [
    {
     "data": {
      "text/plain": [
       "0"
      ]
     },
     "execution_count": 104,
     "metadata": {},
     "output_type": "execute_result"
    }
   ],
   "source": [
    "#нет пропусков\n",
    "len(df) - df['Years of Credit History'].count()"
   ]
  },
  {
   "cell_type": "code",
   "execution_count": 105,
   "id": "c6be022a",
   "metadata": {},
   "outputs": [],
   "source": [
    "#f_plot_distribution('Years of Credit History')"
   ]
  },
  {
   "cell_type": "code",
   "execution_count": 106,
   "id": "a65f9141",
   "metadata": {},
   "outputs": [],
   "source": [
    "# выбросы заменим на 97-ю квантиль\n",
    "wired_history = np.percentile(df.loc[df['Years of Credit History'].notna(),'Years of Credit History'], 97)\n",
    "df['Years of Credit History Outlier'] = 0\n",
    "df.loc[df['Years of Credit History'] > wired_history, 'Years of Credit History Outlier'] = 1\n",
    "df.loc[df['Years of Credit History'] > wired_history, 'Years of Credit History'] = wired_history\n",
    "\n",
    "#f_plot_distribution('Years of Credit History')"
   ]
  },
  {
   "cell_type": "code",
   "execution_count": 107,
   "id": "495a4624",
   "metadata": {},
   "outputs": [
    {
     "data": {
      "text/plain": [
       "34.4"
      ]
     },
     "execution_count": 107,
     "metadata": {},
     "output_type": "execute_result"
    }
   ],
   "source": [
    "wired_history = np.percentile(df.loc[df['Years of Credit History'].notna(),'Years of Credit History'], 97)\n",
    "wired_history"
   ]
  },
  {
   "cell_type": "code",
   "execution_count": 108,
   "id": "78fa4156",
   "metadata": {},
   "outputs": [
    {
     "data": {
      "text/html": [
       "<div>\n",
       "<style scoped>\n",
       "    .dataframe tbody tr th:only-of-type {\n",
       "        vertical-align: middle;\n",
       "    }\n",
       "\n",
       "    .dataframe tbody tr th {\n",
       "        vertical-align: top;\n",
       "    }\n",
       "\n",
       "    .dataframe thead th {\n",
       "        text-align: right;\n",
       "    }\n",
       "</style>\n",
       "<table border=\"1\" class=\"dataframe\">\n",
       "  <thead>\n",
       "    <tr style=\"text-align: right;\">\n",
       "      <th></th>\n",
       "      <th>Home Ownership</th>\n",
       "      <th>Annual Income</th>\n",
       "      <th>Years in current job</th>\n",
       "      <th>Tax Liens</th>\n",
       "      <th>Number of Open Accounts</th>\n",
       "      <th>Years of Credit History</th>\n",
       "      <th>Maximum Open Credit</th>\n",
       "      <th>Number of Credit Problems</th>\n",
       "      <th>Months since last delinquent</th>\n",
       "      <th>Bankruptcies</th>\n",
       "      <th>...</th>\n",
       "      <th>Monthly Debt</th>\n",
       "      <th>Credit Score</th>\n",
       "      <th>Credit Default</th>\n",
       "      <th>Home Ownership_Have Mortgage</th>\n",
       "      <th>Home Ownership_Home Mortgage</th>\n",
       "      <th>Home Ownership_Own Home</th>\n",
       "      <th>Home Ownership_Rent</th>\n",
       "      <th>Annual Income Outlier</th>\n",
       "      <th>Number of Open Accounts Outlier</th>\n",
       "      <th>Years of Credit History Outlier</th>\n",
       "    </tr>\n",
       "  </thead>\n",
       "  <tbody>\n",
       "    <tr>\n",
       "      <th>0</th>\n",
       "      <td>Own Home</td>\n",
       "      <td>482087.0</td>\n",
       "      <td>NaN</td>\n",
       "      <td>0.0</td>\n",
       "      <td>11.0</td>\n",
       "      <td>26.3</td>\n",
       "      <td>685960.0</td>\n",
       "      <td>1.0</td>\n",
       "      <td>NaN</td>\n",
       "      <td>1.0</td>\n",
       "      <td>...</td>\n",
       "      <td>7914.0</td>\n",
       "      <td>749.0</td>\n",
       "      <td>0</td>\n",
       "      <td>0</td>\n",
       "      <td>0</td>\n",
       "      <td>1</td>\n",
       "      <td>0</td>\n",
       "      <td>0</td>\n",
       "      <td>0</td>\n",
       "      <td>0</td>\n",
       "    </tr>\n",
       "    <tr>\n",
       "      <th>1</th>\n",
       "      <td>Own Home</td>\n",
       "      <td>1025487.0</td>\n",
       "      <td>10+ years</td>\n",
       "      <td>0.0</td>\n",
       "      <td>15.0</td>\n",
       "      <td>15.3</td>\n",
       "      <td>1181730.0</td>\n",
       "      <td>0.0</td>\n",
       "      <td>NaN</td>\n",
       "      <td>0.0</td>\n",
       "      <td>...</td>\n",
       "      <td>18373.0</td>\n",
       "      <td>737.0</td>\n",
       "      <td>1</td>\n",
       "      <td>0</td>\n",
       "      <td>0</td>\n",
       "      <td>1</td>\n",
       "      <td>0</td>\n",
       "      <td>0</td>\n",
       "      <td>0</td>\n",
       "      <td>0</td>\n",
       "    </tr>\n",
       "    <tr>\n",
       "      <th>2</th>\n",
       "      <td>Home Mortgage</td>\n",
       "      <td>751412.0</td>\n",
       "      <td>8 years</td>\n",
       "      <td>0.0</td>\n",
       "      <td>11.0</td>\n",
       "      <td>34.4</td>\n",
       "      <td>1182434.0</td>\n",
       "      <td>0.0</td>\n",
       "      <td>NaN</td>\n",
       "      <td>0.0</td>\n",
       "      <td>...</td>\n",
       "      <td>13651.0</td>\n",
       "      <td>742.0</td>\n",
       "      <td>0</td>\n",
       "      <td>0</td>\n",
       "      <td>1</td>\n",
       "      <td>0</td>\n",
       "      <td>0</td>\n",
       "      <td>0</td>\n",
       "      <td>0</td>\n",
       "      <td>1</td>\n",
       "    </tr>\n",
       "    <tr>\n",
       "      <th>3</th>\n",
       "      <td>Own Home</td>\n",
       "      <td>805068.0</td>\n",
       "      <td>6 years</td>\n",
       "      <td>0.0</td>\n",
       "      <td>8.0</td>\n",
       "      <td>22.5</td>\n",
       "      <td>147400.0</td>\n",
       "      <td>1.0</td>\n",
       "      <td>NaN</td>\n",
       "      <td>1.0</td>\n",
       "      <td>...</td>\n",
       "      <td>11338.0</td>\n",
       "      <td>694.0</td>\n",
       "      <td>0</td>\n",
       "      <td>0</td>\n",
       "      <td>0</td>\n",
       "      <td>1</td>\n",
       "      <td>0</td>\n",
       "      <td>0</td>\n",
       "      <td>0</td>\n",
       "      <td>0</td>\n",
       "    </tr>\n",
       "    <tr>\n",
       "      <th>4</th>\n",
       "      <td>Rent</td>\n",
       "      <td>776264.0</td>\n",
       "      <td>8 years</td>\n",
       "      <td>0.0</td>\n",
       "      <td>13.0</td>\n",
       "      <td>13.6</td>\n",
       "      <td>385836.0</td>\n",
       "      <td>1.0</td>\n",
       "      <td>NaN</td>\n",
       "      <td>0.0</td>\n",
       "      <td>...</td>\n",
       "      <td>7180.0</td>\n",
       "      <td>719.0</td>\n",
       "      <td>0</td>\n",
       "      <td>0</td>\n",
       "      <td>0</td>\n",
       "      <td>0</td>\n",
       "      <td>1</td>\n",
       "      <td>0</td>\n",
       "      <td>0</td>\n",
       "      <td>0</td>\n",
       "    </tr>\n",
       "  </tbody>\n",
       "</table>\n",
       "<p>5 rows × 24 columns</p>\n",
       "</div>"
      ],
      "text/plain": [
       "  Home Ownership  Annual Income Years in current job  Tax Liens  \\\n",
       "0       Own Home       482087.0                  NaN        0.0   \n",
       "1       Own Home      1025487.0            10+ years        0.0   \n",
       "2  Home Mortgage       751412.0              8 years        0.0   \n",
       "3       Own Home       805068.0              6 years        0.0   \n",
       "4           Rent       776264.0              8 years        0.0   \n",
       "\n",
       "   Number of Open Accounts  Years of Credit History  Maximum Open Credit  \\\n",
       "0                     11.0                     26.3             685960.0   \n",
       "1                     15.0                     15.3            1181730.0   \n",
       "2                     11.0                     34.4            1182434.0   \n",
       "3                      8.0                     22.5             147400.0   \n",
       "4                     13.0                     13.6             385836.0   \n",
       "\n",
       "   Number of Credit Problems  Months since last delinquent  Bankruptcies  ...  \\\n",
       "0                        1.0                           NaN           1.0  ...   \n",
       "1                        0.0                           NaN           0.0  ...   \n",
       "2                        0.0                           NaN           0.0  ...   \n",
       "3                        1.0                           NaN           1.0  ...   \n",
       "4                        1.0                           NaN           0.0  ...   \n",
       "\n",
       "  Monthly Debt Credit Score  Credit Default  Home Ownership_Have Mortgage  \\\n",
       "0       7914.0        749.0               0                             0   \n",
       "1      18373.0        737.0               1                             0   \n",
       "2      13651.0        742.0               0                             0   \n",
       "3      11338.0        694.0               0                             0   \n",
       "4       7180.0        719.0               0                             0   \n",
       "\n",
       "   Home Ownership_Home Mortgage  Home Ownership_Own Home  Home Ownership_Rent  \\\n",
       "0                             0                        1                    0   \n",
       "1                             0                        1                    0   \n",
       "2                             1                        0                    0   \n",
       "3                             0                        1                    0   \n",
       "4                             0                        0                    1   \n",
       "\n",
       "   Annual Income Outlier  Number of Open Accounts Outlier  \\\n",
       "0                      0                                0   \n",
       "1                      0                                0   \n",
       "2                      0                                0   \n",
       "3                      0                                0   \n",
       "4                      0                                0   \n",
       "\n",
       "   Years of Credit History Outlier  \n",
       "0                                0  \n",
       "1                                0  \n",
       "2                                1  \n",
       "3                                0  \n",
       "4                                0  \n",
       "\n",
       "[5 rows x 24 columns]"
      ]
     },
     "execution_count": 108,
     "metadata": {},
     "output_type": "execute_result"
    }
   ],
   "source": [
    "df.head()"
   ]
  },
  {
   "cell_type": "code",
   "execution_count": 109,
   "id": "0b935eb6",
   "metadata": {},
   "outputs": [
    {
     "data": {
      "text/plain": [
       "0.0         65\n",
       "319110.0     5\n",
       "246224.0     3\n",
       "344058.0     3\n",
       "513524.0     3\n",
       "            ..\n",
       "668360.0     1\n",
       "642224.0     1\n",
       "779372.0     1\n",
       "372812.0     1\n",
       "480832.0     1\n",
       "Name: Maximum Open Credit, Length: 6963, dtype: int64"
      ]
     },
     "execution_count": 109,
     "metadata": {},
     "output_type": "execute_result"
    }
   ],
   "source": [
    "#Maximum Open Credit\n",
    "df['Maximum Open Credit'].value_counts()"
   ]
  },
  {
   "cell_type": "code",
   "execution_count": 110,
   "id": "07161fc7",
   "metadata": {},
   "outputs": [
    {
     "data": {
      "image/png": "[encoded data removed]",
      "text/plain": [
       "<Figure size 864x432 with 1 Axes>"
      ]
     },
     "metadata": {
      "needs_background": "light"
     },
     "output_type": "display_data"
    },
    {
     "name": "stdout",
     "output_type": "stream",
     "text": [
      "\tMean= 945153.73    Median= 478159.0  \n"
     ]
    }
   ],
   "source": [
    "f_plot_distribution('Maximum Open Credit')"
   ]
  },
  {
   "cell_type": "code",
   "execution_count": 111,
   "id": "8f24c22b",
   "metadata": {},
   "outputs": [
    {
     "data": {
      "text/plain": [
       "0"
      ]
     },
     "execution_count": 111,
     "metadata": {},
     "output_type": "execute_result"
    }
   ],
   "source": [
    "#пропусков нет\n",
    "len(df) - df['Maximum Open Credit'].count()"
   ]
  },
  {
   "cell_type": "code",
   "execution_count": 112,
   "id": "63bc1b45",
   "metadata": {},
   "outputs": [
    {
     "data": {
      "text/plain": [
       "count    7.500000e+03\n",
       "mean     9.451537e+05\n",
       "std      1.602622e+07\n",
       "min      0.000000e+00\n",
       "25%      2.792295e+05\n",
       "50%      4.781590e+05\n",
       "75%      7.935015e+05\n",
       "max      1.304726e+09\n",
       "Name: Maximum Open Credit, dtype: float64"
      ]
     },
     "execution_count": 112,
     "metadata": {},
     "output_type": "execute_result"
    }
   ],
   "source": [
    "df['Maximum Open Credit'].describe()"
   ]
  },
  {
   "cell_type": "code",
   "execution_count": 113,
   "id": "9d8d943d",
   "metadata": {},
   "outputs": [],
   "source": [
    "# выбросы заменим на 97-ю квантиль\n",
    "# wired_credit = np.percentile(df.loc[df['Years of Credit History'].notna(),'Years of Credit History'], 97)\n",
    "# df['Years of Credit History Outlier'] = 0\n",
    "# df.loc[df['Years of Credit History'] > wired_history, 'Years of Credit History Outlier'] = 1\n",
    "# df.loc[df['Years of Credit History'] > wired_history, 'Years of Credit History'] = wired_history\n",
    "\n",
    "#f_plot_distribution('Years of Credit History')"
   ]
  },
  {
   "cell_type": "code",
   "execution_count": 114,
   "id": "c96f7fb3",
   "metadata": {},
   "outputs": [
    {
     "data": {
      "text/plain": [
       "2236204.2999999984"
      ]
     },
     "execution_count": 114,
     "metadata": {},
     "output_type": "execute_result"
    }
   ],
   "source": [
    "wired_credit = np.percentile(df.loc[df['Maximum Open Credit'].notna(),'Maximum Open Credit'], 97.5)\n",
    "wired_credit"
   ]
  },
  {
   "cell_type": "code",
   "execution_count": 115,
   "id": "737cec94",
   "metadata": {},
   "outputs": [],
   "source": [
    "condition = ((df['Maximum Open Credit'] == 0) | (df['Maximum Open Credit'] > df['Maximum Open Credit'].quantile(.975)))\n",
    "df['Maximum Open Credit Outlier'] = 0\n",
    "# помечаем выбросы\n",
    "df.loc[condition, 'Maximum Open Credit Outlier'] = 1\n",
    "#меняем на квантиль\n",
    "df.loc[condition, 'Maximum Open Credit'] = df['Maximum Open Credit'].quantile(.975)"
   ]
  },
  {
   "cell_type": "code",
   "execution_count": 116,
   "id": "10bc0c96",
   "metadata": {},
   "outputs": [
    {
     "data": {
      "text/plain": [
       "2236204.3    253\n",
       "319110.0       5\n",
       "334796.0       3\n",
       "594594.0       3\n",
       "513524.0       3\n",
       "            ... \n",
       "1151810.0      1\n",
       "454718.0       1\n",
       "909722.0       1\n",
       "263120.0       1\n",
       "480832.0       1\n",
       "Name: Maximum Open Credit, Length: 6776, dtype: int64"
      ]
     },
     "execution_count": 116,
     "metadata": {},
     "output_type": "execute_result"
    }
   ],
   "source": [
    "df['Maximum Open Credit'].value_counts()"
   ]
  },
  {
   "cell_type": "code",
   "execution_count": 117,
   "id": "c3cce755",
   "metadata": {},
   "outputs": [
    {
     "data": {
      "text/plain": [
       "0.0    6469\n",
       "1.0     882\n",
       "2.0      93\n",
       "3.0      35\n",
       "4.0       9\n",
       "5.0       7\n",
       "6.0       4\n",
       "7.0       1\n",
       "Name: Number of Credit Problems, dtype: int64"
      ]
     },
     "execution_count": 117,
     "metadata": {},
     "output_type": "execute_result"
    }
   ],
   "source": [
    "#Number of Credit Problems\n",
    "df['Number of Credit Problems'].value_counts()\n",
    "#суть классификации этого признака непонятна -пока так и оставим. "
   ]
  },
  {
   "cell_type": "code",
   "execution_count": 118,
   "id": "7f73d9bf",
   "metadata": {},
   "outputs": [],
   "source": [
    "#Months since last delinquent не изучаем так, как там пропусков больше половины - надо выбрасывать этот признак"
   ]
  },
  {
   "cell_type": "code",
   "execution_count": 119,
   "id": "c44ac8d8",
   "metadata": {},
   "outputs": [
    {
     "data": {
      "text/plain": [
       "0.0    6660\n",
       "1.0     786\n",
       "2.0      31\n",
       "3.0       7\n",
       "4.0       2\n",
       "Name: Bankruptcies, dtype: int64"
      ]
     },
     "execution_count": 119,
     "metadata": {},
     "output_type": "execute_result"
    }
   ],
   "source": [
    "#Bankruptcies\n",
    "# 14 пропусков\n",
    "df['Bankruptcies'].value_counts()"
   ]
  },
  {
   "cell_type": "code",
   "execution_count": 120,
   "id": "b0cf95cc",
   "metadata": {},
   "outputs": [
    {
     "data": {
      "text/plain": [
       "debt consolidation      5944\n",
       "other                    665\n",
       "home improvements        412\n",
       "business loan            129\n",
       "buy a car                 96\n",
       "medical bills             71\n",
       "major purchase            40\n",
       "take a trip               37\n",
       "buy house                 34\n",
       "small business            26\n",
       "wedding                   15\n",
       "moving                    11\n",
       "educational expenses      10\n",
       "vacation                   8\n",
       "renewable energy           2\n",
       "Name: Purpose, dtype: int64"
      ]
     },
     "execution_count": 120,
     "metadata": {},
     "output_type": "execute_result"
    }
   ],
   "source": [
    "#Purpose\n",
    "df['Purpose'].value_counts()"
   ]
  },
  {
   "cell_type": "code",
   "execution_count": 121,
   "id": "73cd9a22",
   "metadata": {},
   "outputs": [
    {
     "data": {
      "text/plain": [
       "Short Term    5556\n",
       "Long Term     1944\n",
       "Name: Term, dtype: int64"
      ]
     },
     "execution_count": 121,
     "metadata": {},
     "output_type": "execute_result"
    }
   ],
   "source": [
    "#Term\n",
    "df['Term'].value_counts()"
   ]
  },
  {
   "cell_type": "code",
   "execution_count": 122,
   "id": "9fc521c3",
   "metadata": {},
   "outputs": [
    {
     "data": {
      "text/plain": [
       "99999999.0    870\n",
       "218064.0        6\n",
       "89298.0         6\n",
       "222926.0        5\n",
       "265826.0        5\n",
       "             ... \n",
       "351626.0        1\n",
       "212498.0        1\n",
       "187682.0        1\n",
       "108922.0        1\n",
       "26928.0         1\n",
       "Name: Current Loan Amount, Length: 5386, dtype: int64"
      ]
     },
     "execution_count": 122,
     "metadata": {},
     "output_type": "execute_result"
    }
   ],
   "source": [
    "#Current Loan Amount\n",
    "df['Current Loan Amount'].value_counts()\n",
    "#надо убрать неадекватные значения 99999999.0    870"
   ]
  },
  {
   "cell_type": "code",
   "execution_count": 123,
   "id": "8e85f32f",
   "metadata": {},
   "outputs": [
    {
     "data": {
      "image/png": "[encoded data removed]",
      "text/plain": [
       "<Figure size 864x432 with 1 Axes>"
      ]
     },
     "metadata": {
      "needs_background": "light"
     },
     "output_type": "display_data"
    },
    {
     "name": "stdout",
     "output_type": "stream",
     "text": [
      "\tMean= 11873177.45    Median= 309573.0  \n"
     ]
    }
   ],
   "source": [
    "f_plot_distribution('Current Loan Amount')"
   ]
  },
  {
   "cell_type": "code",
   "execution_count": 124,
   "id": "e3840264",
   "metadata": {},
   "outputs": [
    {
     "data": {
      "image/png": "[encoded data removed]",
      "text/plain": [
       "<Figure size 864x432 with 1 Axes>"
      ]
     },
     "metadata": {
      "needs_background": "light"
     },
     "output_type": "display_data"
    },
    {
     "name": "stdout",
     "output_type": "stream",
     "text": [
      "\tMean= 364332.23    Median= 309573.0  \n"
     ]
    }
   ],
   "source": [
    "# выбросы заменим на 88-ю квантиль\n",
    "wired_amount = np.percentile(df.loc[df['Current Loan Amount'].notna(),'Current Loan Amount'], 88)\n",
    "df['Current Loan Amount Outlier'] = 0\n",
    "df.loc[df['Current Loan Amount'] > wired_amount, 'Current Loan Amount Outlier'] = 1\n",
    "df.loc[df['Current Loan Amount'] > wired_amount, 'Current Loan Amount'] = wired_amount\n",
    "\n",
    "f_plot_distribution('Current Loan Amount')"
   ]
  },
  {
   "cell_type": "code",
   "execution_count": 125,
   "id": "51eccb36",
   "metadata": {},
   "outputs": [
    {
     "data": {
      "text/html": [
       "<div>\n",
       "<style scoped>\n",
       "    .dataframe tbody tr th:only-of-type {\n",
       "        vertical-align: middle;\n",
       "    }\n",
       "\n",
       "    .dataframe tbody tr th {\n",
       "        vertical-align: top;\n",
       "    }\n",
       "\n",
       "    .dataframe thead th {\n",
       "        text-align: right;\n",
       "    }\n",
       "</style>\n",
       "<table border=\"1\" class=\"dataframe\">\n",
       "  <thead>\n",
       "    <tr style=\"text-align: right;\">\n",
       "      <th></th>\n",
       "      <th>Home Ownership</th>\n",
       "      <th>Annual Income</th>\n",
       "      <th>Years in current job</th>\n",
       "      <th>Tax Liens</th>\n",
       "      <th>Number of Open Accounts</th>\n",
       "      <th>Years of Credit History</th>\n",
       "      <th>Maximum Open Credit</th>\n",
       "      <th>Number of Credit Problems</th>\n",
       "      <th>Months since last delinquent</th>\n",
       "      <th>Bankruptcies</th>\n",
       "      <th>...</th>\n",
       "      <th>Credit Default</th>\n",
       "      <th>Home Ownership_Have Mortgage</th>\n",
       "      <th>Home Ownership_Home Mortgage</th>\n",
       "      <th>Home Ownership_Own Home</th>\n",
       "      <th>Home Ownership_Rent</th>\n",
       "      <th>Annual Income Outlier</th>\n",
       "      <th>Number of Open Accounts Outlier</th>\n",
       "      <th>Years of Credit History Outlier</th>\n",
       "      <th>Maximum Open Credit Outlier</th>\n",
       "      <th>Current Loan Amount Outlier</th>\n",
       "    </tr>\n",
       "  </thead>\n",
       "  <tbody>\n",
       "    <tr>\n",
       "      <th>0</th>\n",
       "      <td>Own Home</td>\n",
       "      <td>482087.0</td>\n",
       "      <td>NaN</td>\n",
       "      <td>0.0</td>\n",
       "      <td>11.0</td>\n",
       "      <td>26.3</td>\n",
       "      <td>685960.0</td>\n",
       "      <td>1.0</td>\n",
       "      <td>NaN</td>\n",
       "      <td>1.0</td>\n",
       "      <td>...</td>\n",
       "      <td>0</td>\n",
       "      <td>0</td>\n",
       "      <td>0</td>\n",
       "      <td>1</td>\n",
       "      <td>0</td>\n",
       "      <td>0</td>\n",
       "      <td>0</td>\n",
       "      <td>0</td>\n",
       "      <td>0</td>\n",
       "      <td>1</td>\n",
       "    </tr>\n",
       "    <tr>\n",
       "      <th>1</th>\n",
       "      <td>Own Home</td>\n",
       "      <td>1025487.0</td>\n",
       "      <td>10+ years</td>\n",
       "      <td>0.0</td>\n",
       "      <td>15.0</td>\n",
       "      <td>15.3</td>\n",
       "      <td>1181730.0</td>\n",
       "      <td>0.0</td>\n",
       "      <td>NaN</td>\n",
       "      <td>0.0</td>\n",
       "      <td>...</td>\n",
       "      <td>1</td>\n",
       "      <td>0</td>\n",
       "      <td>0</td>\n",
       "      <td>1</td>\n",
       "      <td>0</td>\n",
       "      <td>0</td>\n",
       "      <td>0</td>\n",
       "      <td>0</td>\n",
       "      <td>0</td>\n",
       "      <td>0</td>\n",
       "    </tr>\n",
       "    <tr>\n",
       "      <th>2</th>\n",
       "      <td>Home Mortgage</td>\n",
       "      <td>751412.0</td>\n",
       "      <td>8 years</td>\n",
       "      <td>0.0</td>\n",
       "      <td>11.0</td>\n",
       "      <td>34.4</td>\n",
       "      <td>1182434.0</td>\n",
       "      <td>0.0</td>\n",
       "      <td>NaN</td>\n",
       "      <td>0.0</td>\n",
       "      <td>...</td>\n",
       "      <td>0</td>\n",
       "      <td>0</td>\n",
       "      <td>1</td>\n",
       "      <td>0</td>\n",
       "      <td>0</td>\n",
       "      <td>0</td>\n",
       "      <td>0</td>\n",
       "      <td>1</td>\n",
       "      <td>0</td>\n",
       "      <td>1</td>\n",
       "    </tr>\n",
       "    <tr>\n",
       "      <th>3</th>\n",
       "      <td>Own Home</td>\n",
       "      <td>805068.0</td>\n",
       "      <td>6 years</td>\n",
       "      <td>0.0</td>\n",
       "      <td>8.0</td>\n",
       "      <td>22.5</td>\n",
       "      <td>147400.0</td>\n",
       "      <td>1.0</td>\n",
       "      <td>NaN</td>\n",
       "      <td>1.0</td>\n",
       "      <td>...</td>\n",
       "      <td>0</td>\n",
       "      <td>0</td>\n",
       "      <td>0</td>\n",
       "      <td>1</td>\n",
       "      <td>0</td>\n",
       "      <td>0</td>\n",
       "      <td>0</td>\n",
       "      <td>0</td>\n",
       "      <td>0</td>\n",
       "      <td>0</td>\n",
       "    </tr>\n",
       "    <tr>\n",
       "      <th>4</th>\n",
       "      <td>Rent</td>\n",
       "      <td>776264.0</td>\n",
       "      <td>8 years</td>\n",
       "      <td>0.0</td>\n",
       "      <td>13.0</td>\n",
       "      <td>13.6</td>\n",
       "      <td>385836.0</td>\n",
       "      <td>1.0</td>\n",
       "      <td>NaN</td>\n",
       "      <td>0.0</td>\n",
       "      <td>...</td>\n",
       "      <td>0</td>\n",
       "      <td>0</td>\n",
       "      <td>0</td>\n",
       "      <td>0</td>\n",
       "      <td>1</td>\n",
       "      <td>0</td>\n",
       "      <td>0</td>\n",
       "      <td>0</td>\n",
       "      <td>0</td>\n",
       "      <td>0</td>\n",
       "    </tr>\n",
       "  </tbody>\n",
       "</table>\n",
       "<p>5 rows × 26 columns</p>\n",
       "</div>"
      ],
      "text/plain": [
       "  Home Ownership  Annual Income Years in current job  Tax Liens  \\\n",
       "0       Own Home       482087.0                  NaN        0.0   \n",
       "1       Own Home      1025487.0            10+ years        0.0   \n",
       "2  Home Mortgage       751412.0              8 years        0.0   \n",
       "3       Own Home       805068.0              6 years        0.0   \n",
       "4           Rent       776264.0              8 years        0.0   \n",
       "\n",
       "   Number of Open Accounts  Years of Credit History  Maximum Open Credit  \\\n",
       "0                     11.0                     26.3             685960.0   \n",
       "1                     15.0                     15.3            1181730.0   \n",
       "2                     11.0                     34.4            1182434.0   \n",
       "3                      8.0                     22.5             147400.0   \n",
       "4                     13.0                     13.6             385836.0   \n",
       "\n",
       "   Number of Credit Problems  Months since last delinquent  Bankruptcies  ...  \\\n",
       "0                        1.0                           NaN           1.0  ...   \n",
       "1                        0.0                           NaN           0.0  ...   \n",
       "2                        0.0                           NaN           0.0  ...   \n",
       "3                        1.0                           NaN           1.0  ...   \n",
       "4                        1.0                           NaN           0.0  ...   \n",
       "\n",
       "  Credit Default Home Ownership_Have Mortgage  Home Ownership_Home Mortgage  \\\n",
       "0              0                            0                             0   \n",
       "1              1                            0                             0   \n",
       "2              0                            0                             1   \n",
       "3              0                            0                             0   \n",
       "4              0                            0                             0   \n",
       "\n",
       "   Home Ownership_Own Home  Home Ownership_Rent  Annual Income Outlier  \\\n",
       "0                        1                    0                      0   \n",
       "1                        1                    0                      0   \n",
       "2                        0                    0                      0   \n",
       "3                        1                    0                      0   \n",
       "4                        0                    1                      0   \n",
       "\n",
       "   Number of Open Accounts Outlier  Years of Credit History Outlier  \\\n",
       "0                                0                                0   \n",
       "1                                0                                0   \n",
       "2                                0                                1   \n",
       "3                                0                                0   \n",
       "4                                0                                0   \n",
       "\n",
       "   Maximum Open Credit Outlier  Current Loan Amount Outlier  \n",
       "0                            0                            1  \n",
       "1                            0                            0  \n",
       "2                            0                            1  \n",
       "3                            0                            0  \n",
       "4                            0                            0  \n",
       "\n",
       "[5 rows x 26 columns]"
      ]
     },
     "execution_count": 125,
     "metadata": {},
     "output_type": "execute_result"
    }
   ],
   "source": [
    "df.head()"
   ]
  },
  {
   "cell_type": "code",
   "execution_count": 126,
   "id": "eb821d3a",
   "metadata": {},
   "outputs": [
    {
     "data": {
      "text/plain": [
       "0.0         53\n",
       "191710.0     5\n",
       "106818.0     4\n",
       "83638.0      4\n",
       "136401.0     4\n",
       "            ..\n",
       "445360.0     1\n",
       "243371.0     1\n",
       "25688.0      1\n",
       "62054.0      1\n",
       "288192.0     1\n",
       "Name: Current Credit Balance, Length: 6592, dtype: int64"
      ]
     },
     "execution_count": 126,
     "metadata": {},
     "output_type": "execute_result"
    }
   ],
   "source": [
    "#Current Credit Balance \n",
    "df['Current Credit Balance'].value_counts()"
   ]
  },
  {
   "cell_type": "code",
   "execution_count": 127,
   "id": "4ae0236a",
   "metadata": {},
   "outputs": [
    {
     "data": {
      "text/plain": [
       "count    7.500000e+03\n",
       "mean     2.898332e+05\n",
       "std      3.178714e+05\n",
       "min      0.000000e+00\n",
       "25%      1.142565e+05\n",
       "50%      2.093230e+05\n",
       "75%      3.604062e+05\n",
       "max      6.506797e+06\n",
       "Name: Current Credit Balance, dtype: float64"
      ]
     },
     "execution_count": 127,
     "metadata": {},
     "output_type": "execute_result"
    }
   ],
   "source": [
    "df['Current Credit Balance'].describe()"
   ]
  },
  {
   "cell_type": "code",
   "execution_count": 128,
   "id": "02fdb686",
   "metadata": {},
   "outputs": [
    {
     "data": {
      "image/png": "[encoded data removed]",
      "text/plain": [
       "<Figure size 864x432 with 1 Axes>"
      ]
     },
     "metadata": {
      "needs_background": "light"
     },
     "output_type": "display_data"
    },
    {
     "name": "stdout",
     "output_type": "stream",
     "text": [
      "\tMean= 289833.24    Median= 209323.0  \n"
     ]
    }
   ],
   "source": [
    "f_plot_distribution('Current Credit Balance')"
   ]
  },
  {
   "cell_type": "code",
   "execution_count": 129,
   "id": "8ecd4197",
   "metadata": {},
   "outputs": [
    {
     "data": {
      "image/png": "[encoded data removed]",
      "text/plain": [
       "<Figure size 864x432 with 1 Axes>"
      ]
     },
     "metadata": {
      "needs_background": "light"
     },
     "output_type": "display_data"
    },
    {
     "name": "stdout",
     "output_type": "stream",
     "text": [
      "\tMean= 273713.06    Median= 209323.0  \n"
     ]
    }
   ],
   "source": [
    "#выбросы заменяем на квантиль 97.5\n",
    "wired_balance = np.percentile(df.loc[df['Current Credit Balance'].notna(),'Current Credit Balance'], 97.5)\n",
    "df['Current Credit Balance Outlier'] = 0\n",
    "df.loc[df['Current Credit Balance'] > wired_balance, 'Current Credit Balance Outlier'] = 1\n",
    "df.loc[df['Current Credit Balance'] > wired_balance, 'Current Credit Balance'] = wired_balance\n",
    "\n",
    "f_plot_distribution('Current Credit Balance')"
   ]
  },
  {
   "cell_type": "code",
   "execution_count": 130,
   "id": "6a641cce",
   "metadata": {},
   "outputs": [
    {
     "data": {
      "text/html": [
       "<div>\n",
       "<style scoped>\n",
       "    .dataframe tbody tr th:only-of-type {\n",
       "        vertical-align: middle;\n",
       "    }\n",
       "\n",
       "    .dataframe tbody tr th {\n",
       "        vertical-align: top;\n",
       "    }\n",
       "\n",
       "    .dataframe thead th {\n",
       "        text-align: right;\n",
       "    }\n",
       "</style>\n",
       "<table border=\"1\" class=\"dataframe\">\n",
       "  <thead>\n",
       "    <tr style=\"text-align: right;\">\n",
       "      <th></th>\n",
       "      <th>Home Ownership</th>\n",
       "      <th>Annual Income</th>\n",
       "      <th>Years in current job</th>\n",
       "      <th>Tax Liens</th>\n",
       "      <th>Number of Open Accounts</th>\n",
       "      <th>Years of Credit History</th>\n",
       "      <th>Maximum Open Credit</th>\n",
       "      <th>Number of Credit Problems</th>\n",
       "      <th>Months since last delinquent</th>\n",
       "      <th>Bankruptcies</th>\n",
       "      <th>...</th>\n",
       "      <th>Home Ownership_Have Mortgage</th>\n",
       "      <th>Home Ownership_Home Mortgage</th>\n",
       "      <th>Home Ownership_Own Home</th>\n",
       "      <th>Home Ownership_Rent</th>\n",
       "      <th>Annual Income Outlier</th>\n",
       "      <th>Number of Open Accounts Outlier</th>\n",
       "      <th>Years of Credit History Outlier</th>\n",
       "      <th>Maximum Open Credit Outlier</th>\n",
       "      <th>Current Loan Amount Outlier</th>\n",
       "      <th>Current Credit Balance Outlier</th>\n",
       "    </tr>\n",
       "  </thead>\n",
       "  <tbody>\n",
       "    <tr>\n",
       "      <th>0</th>\n",
       "      <td>Own Home</td>\n",
       "      <td>482087.0</td>\n",
       "      <td>NaN</td>\n",
       "      <td>0.0</td>\n",
       "      <td>11.0</td>\n",
       "      <td>26.3</td>\n",
       "      <td>685960.0</td>\n",
       "      <td>1.0</td>\n",
       "      <td>NaN</td>\n",
       "      <td>1.0</td>\n",
       "      <td>...</td>\n",
       "      <td>0</td>\n",
       "      <td>0</td>\n",
       "      <td>1</td>\n",
       "      <td>0</td>\n",
       "      <td>0</td>\n",
       "      <td>0</td>\n",
       "      <td>0</td>\n",
       "      <td>0</td>\n",
       "      <td>1</td>\n",
       "      <td>0</td>\n",
       "    </tr>\n",
       "    <tr>\n",
       "      <th>1</th>\n",
       "      <td>Own Home</td>\n",
       "      <td>1025487.0</td>\n",
       "      <td>10+ years</td>\n",
       "      <td>0.0</td>\n",
       "      <td>15.0</td>\n",
       "      <td>15.3</td>\n",
       "      <td>1181730.0</td>\n",
       "      <td>0.0</td>\n",
       "      <td>NaN</td>\n",
       "      <td>0.0</td>\n",
       "      <td>...</td>\n",
       "      <td>0</td>\n",
       "      <td>0</td>\n",
       "      <td>1</td>\n",
       "      <td>0</td>\n",
       "      <td>0</td>\n",
       "      <td>0</td>\n",
       "      <td>0</td>\n",
       "      <td>0</td>\n",
       "      <td>0</td>\n",
       "      <td>0</td>\n",
       "    </tr>\n",
       "    <tr>\n",
       "      <th>2</th>\n",
       "      <td>Home Mortgage</td>\n",
       "      <td>751412.0</td>\n",
       "      <td>8 years</td>\n",
       "      <td>0.0</td>\n",
       "      <td>11.0</td>\n",
       "      <td>34.4</td>\n",
       "      <td>1182434.0</td>\n",
       "      <td>0.0</td>\n",
       "      <td>NaN</td>\n",
       "      <td>0.0</td>\n",
       "      <td>...</td>\n",
       "      <td>0</td>\n",
       "      <td>1</td>\n",
       "      <td>0</td>\n",
       "      <td>0</td>\n",
       "      <td>0</td>\n",
       "      <td>0</td>\n",
       "      <td>1</td>\n",
       "      <td>0</td>\n",
       "      <td>1</td>\n",
       "      <td>0</td>\n",
       "    </tr>\n",
       "    <tr>\n",
       "      <th>3</th>\n",
       "      <td>Own Home</td>\n",
       "      <td>805068.0</td>\n",
       "      <td>6 years</td>\n",
       "      <td>0.0</td>\n",
       "      <td>8.0</td>\n",
       "      <td>22.5</td>\n",
       "      <td>147400.0</td>\n",
       "      <td>1.0</td>\n",
       "      <td>NaN</td>\n",
       "      <td>1.0</td>\n",
       "      <td>...</td>\n",
       "      <td>0</td>\n",
       "      <td>0</td>\n",
       "      <td>1</td>\n",
       "      <td>0</td>\n",
       "      <td>0</td>\n",
       "      <td>0</td>\n",
       "      <td>0</td>\n",
       "      <td>0</td>\n",
       "      <td>0</td>\n",
       "      <td>0</td>\n",
       "    </tr>\n",
       "    <tr>\n",
       "      <th>4</th>\n",
       "      <td>Rent</td>\n",
       "      <td>776264.0</td>\n",
       "      <td>8 years</td>\n",
       "      <td>0.0</td>\n",
       "      <td>13.0</td>\n",
       "      <td>13.6</td>\n",
       "      <td>385836.0</td>\n",
       "      <td>1.0</td>\n",
       "      <td>NaN</td>\n",
       "      <td>0.0</td>\n",
       "      <td>...</td>\n",
       "      <td>0</td>\n",
       "      <td>0</td>\n",
       "      <td>0</td>\n",
       "      <td>1</td>\n",
       "      <td>0</td>\n",
       "      <td>0</td>\n",
       "      <td>0</td>\n",
       "      <td>0</td>\n",
       "      <td>0</td>\n",
       "      <td>0</td>\n",
       "    </tr>\n",
       "  </tbody>\n",
       "</table>\n",
       "<p>5 rows × 27 columns</p>\n",
       "</div>"
      ],
      "text/plain": [
       "  Home Ownership  Annual Income Years in current job  Tax Liens  \\\n",
       "0       Own Home       482087.0                  NaN        0.0   \n",
       "1       Own Home      1025487.0            10+ years        0.0   \n",
       "2  Home Mortgage       751412.0              8 years        0.0   \n",
       "3       Own Home       805068.0              6 years        0.0   \n",
       "4           Rent       776264.0              8 years        0.0   \n",
       "\n",
       "   Number of Open Accounts  Years of Credit History  Maximum Open Credit  \\\n",
       "0                     11.0                     26.3             685960.0   \n",
       "1                     15.0                     15.3            1181730.0   \n",
       "2                     11.0                     34.4            1182434.0   \n",
       "3                      8.0                     22.5             147400.0   \n",
       "4                     13.0                     13.6             385836.0   \n",
       "\n",
       "   Number of Credit Problems  Months since last delinquent  Bankruptcies  ...  \\\n",
       "0                        1.0                           NaN           1.0  ...   \n",
       "1                        0.0                           NaN           0.0  ...   \n",
       "2                        0.0                           NaN           0.0  ...   \n",
       "3                        1.0                           NaN           1.0  ...   \n",
       "4                        1.0                           NaN           0.0  ...   \n",
       "\n",
       "  Home Ownership_Have Mortgage Home Ownership_Home Mortgage  \\\n",
       "0                            0                            0   \n",
       "1                            0                            0   \n",
       "2                            0                            1   \n",
       "3                            0                            0   \n",
       "4                            0                            0   \n",
       "\n",
       "   Home Ownership_Own Home  Home Ownership_Rent  Annual Income Outlier  \\\n",
       "0                        1                    0                      0   \n",
       "1                        1                    0                      0   \n",
       "2                        0                    0                      0   \n",
       "3                        1                    0                      0   \n",
       "4                        0                    1                      0   \n",
       "\n",
       "   Number of Open Accounts Outlier  Years of Credit History Outlier  \\\n",
       "0                                0                                0   \n",
       "1                                0                                0   \n",
       "2                                0                                1   \n",
       "3                                0                                0   \n",
       "4                                0                                0   \n",
       "\n",
       "   Maximum Open Credit Outlier  Current Loan Amount Outlier  \\\n",
       "0                            0                            1   \n",
       "1                            0                            0   \n",
       "2                            0                            1   \n",
       "3                            0                            0   \n",
       "4                            0                            0   \n",
       "\n",
       "   Current Credit Balance Outlier  \n",
       "0                               0  \n",
       "1                               0  \n",
       "2                               0  \n",
       "3                               0  \n",
       "4                               0  \n",
       "\n",
       "[5 rows x 27 columns]"
      ]
     },
     "execution_count": 130,
     "metadata": {},
     "output_type": "execute_result"
    }
   ],
   "source": [
    "df.head()"
   ]
  },
  {
   "cell_type": "code",
   "execution_count": 131,
   "id": "eb967aee",
   "metadata": {},
   "outputs": [
    {
     "data": {
      "text/plain": [
       "0.0        6\n",
       "19222.0    4\n",
       "19667.0    4\n",
       "12986.0    3\n",
       "13356.0    3\n",
       "          ..\n",
       "33217.0    1\n",
       "8203.0     1\n",
       "15150.0    1\n",
       "1992.0     1\n",
       "9061.0     1\n",
       "Name: Monthly Debt, Length: 6716, dtype: int64"
      ]
     },
     "execution_count": 131,
     "metadata": {},
     "output_type": "execute_result"
    }
   ],
   "source": [
    "#Monthly Debt \n",
    "df['Monthly Debt'].value_counts()"
   ]
  },
  {
   "cell_type": "code",
   "execution_count": 132,
   "id": "2058aef7",
   "metadata": {},
   "outputs": [
    {
     "data": {
      "image/png": "[encoded data removed]",
      "text/plain": [
       "<Figure size 864x432 with 1 Axes>"
      ]
     },
     "metadata": {
      "needs_background": "light"
     },
     "output_type": "display_data"
    },
    {
     "name": "stdout",
     "output_type": "stream",
     "text": [
      "\tMean= 18314.45    Median= 16076.5  \n"
     ]
    }
   ],
   "source": [
    "f_plot_distribution('Monthly Debt')"
   ]
  },
  {
   "cell_type": "code",
   "execution_count": 133,
   "id": "2abce2b3",
   "metadata": {},
   "outputs": [
    {
     "data": {
      "image/png": "[encoded data removed]",
      "text/plain": [
       "<Figure size 864x432 with 1 Axes>"
      ]
     },
     "metadata": {
      "needs_background": "light"
     },
     "output_type": "display_data"
    },
    {
     "name": "stdout",
     "output_type": "stream",
     "text": [
      "\tMean= 18012.23    Median= 16076.5  \n"
     ]
    }
   ],
   "source": [
    "#выбросы заменяем на квантиль 97.5\n",
    "wired_debt = np.percentile(df.loc[df['Monthly Debt'].notna(),'Monthly Debt'], 97.5)\n",
    "df['Monthly Debt Outlier'] = 0\n",
    "df.loc[df['Monthly Debt'] > wired_debt, 'Monthly Debt Outlier'] = 1\n",
    "df.loc[df['Monthly Debt'] > wired_debt, 'Monthly Debt'] = wired_debt\n",
    "\n",
    "f_plot_distribution('Monthly Debt')"
   ]
  },
  {
   "cell_type": "code",
   "execution_count": 134,
   "id": "ae4a04ac",
   "metadata": {},
   "outputs": [
    {
     "data": {
      "text/html": [
       "<div>\n",
       "<style scoped>\n",
       "    .dataframe tbody tr th:only-of-type {\n",
       "        vertical-align: middle;\n",
       "    }\n",
       "\n",
       "    .dataframe tbody tr th {\n",
       "        vertical-align: top;\n",
       "    }\n",
       "\n",
       "    .dataframe thead th {\n",
       "        text-align: right;\n",
       "    }\n",
       "</style>\n",
       "<table border=\"1\" class=\"dataframe\">\n",
       "  <thead>\n",
       "    <tr style=\"text-align: right;\">\n",
       "      <th></th>\n",
       "      <th>Home Ownership</th>\n",
       "      <th>Annual Income</th>\n",
       "      <th>Years in current job</th>\n",
       "      <th>Tax Liens</th>\n",
       "      <th>Number of Open Accounts</th>\n",
       "      <th>Years of Credit History</th>\n",
       "      <th>Maximum Open Credit</th>\n",
       "      <th>Number of Credit Problems</th>\n",
       "      <th>Months since last delinquent</th>\n",
       "      <th>Bankruptcies</th>\n",
       "      <th>...</th>\n",
       "      <th>Home Ownership_Home Mortgage</th>\n",
       "      <th>Home Ownership_Own Home</th>\n",
       "      <th>Home Ownership_Rent</th>\n",
       "      <th>Annual Income Outlier</th>\n",
       "      <th>Number of Open Accounts Outlier</th>\n",
       "      <th>Years of Credit History Outlier</th>\n",
       "      <th>Maximum Open Credit Outlier</th>\n",
       "      <th>Current Loan Amount Outlier</th>\n",
       "      <th>Current Credit Balance Outlier</th>\n",
       "      <th>Monthly Debt Outlier</th>\n",
       "    </tr>\n",
       "  </thead>\n",
       "  <tbody>\n",
       "    <tr>\n",
       "      <th>0</th>\n",
       "      <td>Own Home</td>\n",
       "      <td>482087.0</td>\n",
       "      <td>NaN</td>\n",
       "      <td>0.0</td>\n",
       "      <td>11.0</td>\n",
       "      <td>26.3</td>\n",
       "      <td>685960.0</td>\n",
       "      <td>1.0</td>\n",
       "      <td>NaN</td>\n",
       "      <td>1.0</td>\n",
       "      <td>...</td>\n",
       "      <td>0</td>\n",
       "      <td>1</td>\n",
       "      <td>0</td>\n",
       "      <td>0</td>\n",
       "      <td>0</td>\n",
       "      <td>0</td>\n",
       "      <td>0</td>\n",
       "      <td>1</td>\n",
       "      <td>0</td>\n",
       "      <td>0</td>\n",
       "    </tr>\n",
       "    <tr>\n",
       "      <th>1</th>\n",
       "      <td>Own Home</td>\n",
       "      <td>1025487.0</td>\n",
       "      <td>10+ years</td>\n",
       "      <td>0.0</td>\n",
       "      <td>15.0</td>\n",
       "      <td>15.3</td>\n",
       "      <td>1181730.0</td>\n",
       "      <td>0.0</td>\n",
       "      <td>NaN</td>\n",
       "      <td>0.0</td>\n",
       "      <td>...</td>\n",
       "      <td>0</td>\n",
       "      <td>1</td>\n",
       "      <td>0</td>\n",
       "      <td>0</td>\n",
       "      <td>0</td>\n",
       "      <td>0</td>\n",
       "      <td>0</td>\n",
       "      <td>0</td>\n",
       "      <td>0</td>\n",
       "      <td>0</td>\n",
       "    </tr>\n",
       "    <tr>\n",
       "      <th>2</th>\n",
       "      <td>Home Mortgage</td>\n",
       "      <td>751412.0</td>\n",
       "      <td>8 years</td>\n",
       "      <td>0.0</td>\n",
       "      <td>11.0</td>\n",
       "      <td>34.4</td>\n",
       "      <td>1182434.0</td>\n",
       "      <td>0.0</td>\n",
       "      <td>NaN</td>\n",
       "      <td>0.0</td>\n",
       "      <td>...</td>\n",
       "      <td>1</td>\n",
       "      <td>0</td>\n",
       "      <td>0</td>\n",
       "      <td>0</td>\n",
       "      <td>0</td>\n",
       "      <td>1</td>\n",
       "      <td>0</td>\n",
       "      <td>1</td>\n",
       "      <td>0</td>\n",
       "      <td>0</td>\n",
       "    </tr>\n",
       "    <tr>\n",
       "      <th>3</th>\n",
       "      <td>Own Home</td>\n",
       "      <td>805068.0</td>\n",
       "      <td>6 years</td>\n",
       "      <td>0.0</td>\n",
       "      <td>8.0</td>\n",
       "      <td>22.5</td>\n",
       "      <td>147400.0</td>\n",
       "      <td>1.0</td>\n",
       "      <td>NaN</td>\n",
       "      <td>1.0</td>\n",
       "      <td>...</td>\n",
       "      <td>0</td>\n",
       "      <td>1</td>\n",
       "      <td>0</td>\n",
       "      <td>0</td>\n",
       "      <td>0</td>\n",
       "      <td>0</td>\n",
       "      <td>0</td>\n",
       "      <td>0</td>\n",
       "      <td>0</td>\n",
       "      <td>0</td>\n",
       "    </tr>\n",
       "    <tr>\n",
       "      <th>4</th>\n",
       "      <td>Rent</td>\n",
       "      <td>776264.0</td>\n",
       "      <td>8 years</td>\n",
       "      <td>0.0</td>\n",
       "      <td>13.0</td>\n",
       "      <td>13.6</td>\n",
       "      <td>385836.0</td>\n",
       "      <td>1.0</td>\n",
       "      <td>NaN</td>\n",
       "      <td>0.0</td>\n",
       "      <td>...</td>\n",
       "      <td>0</td>\n",
       "      <td>0</td>\n",
       "      <td>1</td>\n",
       "      <td>0</td>\n",
       "      <td>0</td>\n",
       "      <td>0</td>\n",
       "      <td>0</td>\n",
       "      <td>0</td>\n",
       "      <td>0</td>\n",
       "      <td>0</td>\n",
       "    </tr>\n",
       "  </tbody>\n",
       "</table>\n",
       "<p>5 rows × 28 columns</p>\n",
       "</div>"
      ],
      "text/plain": [
       "  Home Ownership  Annual Income Years in current job  Tax Liens  \\\n",
       "0       Own Home       482087.0                  NaN        0.0   \n",
       "1       Own Home      1025487.0            10+ years        0.0   \n",
       "2  Home Mortgage       751412.0              8 years        0.0   \n",
       "3       Own Home       805068.0              6 years        0.0   \n",
       "4           Rent       776264.0              8 years        0.0   \n",
       "\n",
       "   Number of Open Accounts  Years of Credit History  Maximum Open Credit  \\\n",
       "0                     11.0                     26.3             685960.0   \n",
       "1                     15.0                     15.3            1181730.0   \n",
       "2                     11.0                     34.4            1182434.0   \n",
       "3                      8.0                     22.5             147400.0   \n",
       "4                     13.0                     13.6             385836.0   \n",
       "\n",
       "   Number of Credit Problems  Months since last delinquent  Bankruptcies  ...  \\\n",
       "0                        1.0                           NaN           1.0  ...   \n",
       "1                        0.0                           NaN           0.0  ...   \n",
       "2                        0.0                           NaN           0.0  ...   \n",
       "3                        1.0                           NaN           1.0  ...   \n",
       "4                        1.0                           NaN           0.0  ...   \n",
       "\n",
       "  Home Ownership_Home Mortgage Home Ownership_Own Home  Home Ownership_Rent  \\\n",
       "0                            0                       1                    0   \n",
       "1                            0                       1                    0   \n",
       "2                            1                       0                    0   \n",
       "3                            0                       1                    0   \n",
       "4                            0                       0                    1   \n",
       "\n",
       "   Annual Income Outlier  Number of Open Accounts Outlier  \\\n",
       "0                      0                                0   \n",
       "1                      0                                0   \n",
       "2                      0                                0   \n",
       "3                      0                                0   \n",
       "4                      0                                0   \n",
       "\n",
       "   Years of Credit History Outlier  Maximum Open Credit Outlier  \\\n",
       "0                                0                            0   \n",
       "1                                0                            0   \n",
       "2                                1                            0   \n",
       "3                                0                            0   \n",
       "4                                0                            0   \n",
       "\n",
       "   Current Loan Amount Outlier  Current Credit Balance Outlier  \\\n",
       "0                            1                               0   \n",
       "1                            0                               0   \n",
       "2                            1                               0   \n",
       "3                            0                               0   \n",
       "4                            0                               0   \n",
       "\n",
       "   Monthly Debt Outlier  \n",
       "0                     0  \n",
       "1                     0  \n",
       "2                     0  \n",
       "3                     0  \n",
       "4                     0  \n",
       "\n",
       "[5 rows x 28 columns]"
      ]
     },
     "execution_count": 134,
     "metadata": {},
     "output_type": "execute_result"
    }
   ],
   "source": [
    "df.head()"
   ]
  },
  {
   "cell_type": "code",
   "execution_count": 135,
   "id": "c0a87506",
   "metadata": {},
   "outputs": [
    {
     "data": {
      "text/plain": [
       "740.0     169\n",
       "747.0     168\n",
       "748.0     157\n",
       "745.0     152\n",
       "742.0     151\n",
       "         ... \n",
       "616.0       1\n",
       "6600.0      1\n",
       "629.0       1\n",
       "6820.0      1\n",
       "6060.0      1\n",
       "Name: Credit Score, Length: 268, dtype: int64"
      ]
     },
     "execution_count": 135,
     "metadata": {},
     "output_type": "execute_result"
    }
   ],
   "source": [
    "#Credit Score                    \n",
    "#1557 пропусков\n",
    "df['Credit Score'].value_counts()"
   ]
  },
  {
   "cell_type": "code",
   "execution_count": 136,
   "id": "2e40af81",
   "metadata": {},
   "outputs": [
    {
     "data": {
      "image/png": "[encoded data removed]",
      "text/plain": [
       "<Figure size 864x432 with 1 Axes>"
      ]
     },
     "metadata": {
      "needs_background": "light"
     },
     "output_type": "display_data"
    },
    {
     "name": "stdout",
     "output_type": "stream",
     "text": [
      "\tMean= 1151.09    Median= 731.0  \n"
     ]
    }
   ],
   "source": [
    "f_plot_distribution('Credit Score')\n",
    "#распределение непонятное, возможно, это не выбросы, так как 1. этот признак не поясняется\n",
    "# 2. возможно есть небольшое количество людей, у которых кредитный рейтинг большой.\n",
    "#оставим так"
   ]
  },
  {
   "cell_type": "markdown",
   "id": "f0e4b10c",
   "metadata": {},
   "source": [
    "### 3. Обработка пропусков<a class=\"anchor\" id=\"course_project_review\"></a>"
   ]
  },
  {
   "cell_type": "markdown",
   "id": "7a2fb2fd",
   "metadata": {},
   "source": [
    "Комментарий:\n",
    "\n",
    "по итогам предыдующей работы выводы:\n",
    "\n",
    "\n",
    "###### 1. Количество пропусков\n",
    "\n",
    "Annual Income                   1557\n",
    "\n",
    "Years in current job             371\n",
    "\n",
    "Months since last delinquent    4081\n",
    "\n",
    "Bankruptcies                      14\n",
    "\n",
    "Credit Score                    1557\n",
    "\n",
    "\n",
    "\n",
    "###### 2. Как заполнять\n",
    "\n",
    "Annual Income и Credit Score - пропусков много, поэтому их заполним с помощью модели ML\n",
    "\n",
    "Years in current job - заменим на минимальное значение >1 года\n",
    "\n",
    "Months since last delinquent - так как больше половины пропуски, выкинем этот признак\n",
    "\n",
    "Bankruptcies - заменим на 0\n",
    "\n",
    "\n"
   ]
  },
  {
   "cell_type": "code",
   "execution_count": 137,
   "id": "ed48ccd4",
   "metadata": {},
   "outputs": [],
   "source": [
    "\"\"\"Функция производит визуальную оценку распределения признака, а так же строит QQ-график\"\"\"\n",
    "def hist_qq(target_name):\n",
    "    plt.figure(figsize=(20,8))\n",
    "\n",
    "    ax1 = plt.subplot(121)\n",
    "    ax1.set_xlabel(target_name)\n",
    "    ax1.set_ylabel('Count')\n",
    "    ax1.set_title(f'{target_name} distribution')\n",
    "    df[target_name].hist()\n",
    "    plt.subplot(122)\n",
    "    probplot(df[target_name],dist='norm',plot=plt)\n",
    "\n",
    "    plt.show()"
   ]
  },
  {
   "cell_type": "code",
   "execution_count": 138,
   "id": "1f817f61",
   "metadata": {},
   "outputs": [
    {
     "data": {
      "text/plain": [
       "count    5.943000e+03\n",
       "mean     1.326514e+06\n",
       "std      6.681846e+05\n",
       "min      1.645970e+05\n",
       "25%      8.443410e+05\n",
       "50%      1.168386e+06\n",
       "75%      1.640137e+06\n",
       "max      3.261279e+06\n",
       "Name: Annual Income, dtype: float64"
      ]
     },
     "execution_count": 138,
     "metadata": {},
     "output_type": "execute_result"
    }
   ],
   "source": [
    "#Annual Income - годовой доход \n",
    "#1557 пропусков\n",
    "df['Annual Income'].describe()"
   ]
  },
  {
   "cell_type": "code",
   "execution_count": 139,
   "id": "2c606713",
   "metadata": {},
   "outputs": [
    {
     "data": {
      "image/png": "[encoded data removed]",
      "text/plain": [
       "<Figure size 1440x576 with 2 Axes>"
      ]
     },
     "metadata": {
      "needs_background": "light"
     },
     "output_type": "display_data"
    }
   ],
   "source": [
    "hist_qq('Annual Income')"
   ]
  },
  {
   "cell_type": "code",
   "execution_count": 140,
   "id": "b209a059",
   "metadata": {},
   "outputs": [
    {
     "data": {
      "image/png": "[encoded data removed]",
      "text/plain": [
       "<Figure size 720x576 with 1 Axes>"
      ]
     },
     "metadata": {
      "needs_background": "light"
     },
     "output_type": "display_data"
    }
   ],
   "source": [
    "#Заполняем попуски при помощи Random Forest\n",
    "# Посмотрим как признак коррелирует с другими признаками\n",
    "FEATURE_NAMES = df.columns.drop('Annual Income').tolist()\n",
    "corr_Annual_Income = df[FEATURE_NAMES + ['Annual Income']].corr().iloc[:-1, -1]\n",
    "corr_Annual_Income = np.abs(corr_Annual_Income).sort_values(ascending=False)\n",
    "\n",
    "plt.figure(figsize=(10, 8))\n",
    "\n",
    "sns.barplot(x=corr_Annual_Income.values, y=corr_Annual_Income.index)\n",
    "\n",
    "plt.title('Correlation')\n",
    "plt.show()"
   ]
  },
  {
   "cell_type": "code",
   "execution_count": 141,
   "id": "c1ee282c",
   "metadata": {},
   "outputs": [
    {
     "data": {
      "text/plain": [
       "['Monthly Debt',\n",
       " 'Current Credit Balance',\n",
       " 'Maximum Open Credit',\n",
       " 'Current Loan Amount',\n",
       " 'Home Ownership_Home Mortgage',\n",
       " 'Years of Credit History',\n",
       " 'Number of Open Accounts',\n",
       " 'Home Ownership_Rent']"
      ]
     },
     "execution_count": 141,
     "metadata": {},
     "output_type": "execute_result"
    }
   ],
   "source": [
    "# для обучения выбираем 11 наиболее влияющих признаков\n",
    "TARGET_FEATURE = ['Monthly Debt','Current Credit Balance', 'Maximum Open Credit','Current Loan Amount',\n",
    "                  'Home Ownership_Home Mortgage', 'Years of Credit History', 'Number of Open Accounts','Home Ownership_Rent']\n",
    "#list(corr_Annual_Income.index[0:11])\n",
    "TARGET_FEATURE"
   ]
  },
  {
   "cell_type": "code",
   "execution_count": 142,
   "id": "c72af363",
   "metadata": {},
   "outputs": [
    {
     "data": {
      "text/html": [
       "<div>\n",
       "<style scoped>\n",
       "    .dataframe tbody tr th:only-of-type {\n",
       "        vertical-align: middle;\n",
       "    }\n",
       "\n",
       "    .dataframe tbody tr th {\n",
       "        vertical-align: top;\n",
       "    }\n",
       "\n",
       "    .dataframe thead th {\n",
       "        text-align: right;\n",
       "    }\n",
       "</style>\n",
       "<table border=\"1\" class=\"dataframe\">\n",
       "  <thead>\n",
       "    <tr style=\"text-align: right;\">\n",
       "      <th></th>\n",
       "      <th>Monthly Debt</th>\n",
       "      <th>Current Credit Balance</th>\n",
       "      <th>Maximum Open Credit</th>\n",
       "      <th>Current Loan Amount</th>\n",
       "      <th>Home Ownership_Home Mortgage</th>\n",
       "      <th>Years of Credit History</th>\n",
       "      <th>Number of Open Accounts</th>\n",
       "      <th>Home Ownership_Rent</th>\n",
       "      <th>Annual Income</th>\n",
       "    </tr>\n",
       "  </thead>\n",
       "  <tbody>\n",
       "    <tr>\n",
       "      <th>0</th>\n",
       "      <td>7914.00</td>\n",
       "      <td>47386.0</td>\n",
       "      <td>685960.0</td>\n",
       "      <td>785872.56</td>\n",
       "      <td>0</td>\n",
       "      <td>26.3</td>\n",
       "      <td>11.0</td>\n",
       "      <td>0</td>\n",
       "      <td>482087.0</td>\n",
       "    </tr>\n",
       "    <tr>\n",
       "      <th>1</th>\n",
       "      <td>18373.00</td>\n",
       "      <td>394972.0</td>\n",
       "      <td>1181730.0</td>\n",
       "      <td>264968.00</td>\n",
       "      <td>0</td>\n",
       "      <td>15.3</td>\n",
       "      <td>15.0</td>\n",
       "      <td>0</td>\n",
       "      <td>1025487.0</td>\n",
       "    </tr>\n",
       "    <tr>\n",
       "      <th>2</th>\n",
       "      <td>13651.00</td>\n",
       "      <td>308389.0</td>\n",
       "      <td>1182434.0</td>\n",
       "      <td>785872.56</td>\n",
       "      <td>1</td>\n",
       "      <td>34.4</td>\n",
       "      <td>11.0</td>\n",
       "      <td>0</td>\n",
       "      <td>751412.0</td>\n",
       "    </tr>\n",
       "    <tr>\n",
       "      <th>3</th>\n",
       "      <td>11338.00</td>\n",
       "      <td>95855.0</td>\n",
       "      <td>147400.0</td>\n",
       "      <td>121396.00</td>\n",
       "      <td>0</td>\n",
       "      <td>22.5</td>\n",
       "      <td>8.0</td>\n",
       "      <td>0</td>\n",
       "      <td>805068.0</td>\n",
       "    </tr>\n",
       "    <tr>\n",
       "      <th>4</th>\n",
       "      <td>7180.00</td>\n",
       "      <td>93309.0</td>\n",
       "      <td>385836.0</td>\n",
       "      <td>125840.00</td>\n",
       "      <td>0</td>\n",
       "      <td>13.6</td>\n",
       "      <td>13.0</td>\n",
       "      <td>1</td>\n",
       "      <td>776264.0</td>\n",
       "    </tr>\n",
       "    <tr>\n",
       "      <th>...</th>\n",
       "      <td>...</td>\n",
       "      <td>...</td>\n",
       "      <td>...</td>\n",
       "      <td>...</td>\n",
       "      <td>...</td>\n",
       "      <td>...</td>\n",
       "      <td>...</td>\n",
       "      <td>...</td>\n",
       "      <td>...</td>\n",
       "    </tr>\n",
       "    <tr>\n",
       "      <th>7491</th>\n",
       "      <td>47950.15</td>\n",
       "      <td>108889.0</td>\n",
       "      <td>280170.0</td>\n",
       "      <td>437404.00</td>\n",
       "      <td>1</td>\n",
       "      <td>21.3</td>\n",
       "      <td>18.0</td>\n",
       "      <td>0</td>\n",
       "      <td>2833185.0</td>\n",
       "    </tr>\n",
       "    <tr>\n",
       "      <th>7493</th>\n",
       "      <td>27562.00</td>\n",
       "      <td>167428.0</td>\n",
       "      <td>821480.0</td>\n",
       "      <td>448052.00</td>\n",
       "      <td>0</td>\n",
       "      <td>16.5</td>\n",
       "      <td>14.0</td>\n",
       "      <td>1</td>\n",
       "      <td>1257610.0</td>\n",
       "    </tr>\n",
       "    <tr>\n",
       "      <th>7495</th>\n",
       "      <td>1900.00</td>\n",
       "      <td>73492.0</td>\n",
       "      <td>107866.0</td>\n",
       "      <td>129360.00</td>\n",
       "      <td>0</td>\n",
       "      <td>8.5</td>\n",
       "      <td>3.0</td>\n",
       "      <td>1</td>\n",
       "      <td>402192.0</td>\n",
       "    </tr>\n",
       "    <tr>\n",
       "      <th>7496</th>\n",
       "      <td>12783.00</td>\n",
       "      <td>456399.0</td>\n",
       "      <td>686312.0</td>\n",
       "      <td>444048.00</td>\n",
       "      <td>1</td>\n",
       "      <td>26.5</td>\n",
       "      <td>10.0</td>\n",
       "      <td>0</td>\n",
       "      <td>1533984.0</td>\n",
       "    </tr>\n",
       "    <tr>\n",
       "      <th>7497</th>\n",
       "      <td>12479.00</td>\n",
       "      <td>477812.0</td>\n",
       "      <td>1778920.0</td>\n",
       "      <td>785872.56</td>\n",
       "      <td>0</td>\n",
       "      <td>32.1</td>\n",
       "      <td>12.0</td>\n",
       "      <td>1</td>\n",
       "      <td>1878910.0</td>\n",
       "    </tr>\n",
       "  </tbody>\n",
       "</table>\n",
       "<p>5943 rows × 9 columns</p>\n",
       "</div>"
      ],
      "text/plain": [
       "      Monthly Debt  Current Credit Balance  Maximum Open Credit  \\\n",
       "0          7914.00                 47386.0             685960.0   \n",
       "1         18373.00                394972.0            1181730.0   \n",
       "2         13651.00                308389.0            1182434.0   \n",
       "3         11338.00                 95855.0             147400.0   \n",
       "4          7180.00                 93309.0             385836.0   \n",
       "...            ...                     ...                  ...   \n",
       "7491      47950.15                108889.0             280170.0   \n",
       "7493      27562.00                167428.0             821480.0   \n",
       "7495       1900.00                 73492.0             107866.0   \n",
       "7496      12783.00                456399.0             686312.0   \n",
       "7497      12479.00                477812.0            1778920.0   \n",
       "\n",
       "      Current Loan Amount  Home Ownership_Home Mortgage  \\\n",
       "0               785872.56                             0   \n",
       "1               264968.00                             0   \n",
       "2               785872.56                             1   \n",
       "3               121396.00                             0   \n",
       "4               125840.00                             0   \n",
       "...                   ...                           ...   \n",
       "7491            437404.00                             1   \n",
       "7493            448052.00                             0   \n",
       "7495            129360.00                             0   \n",
       "7496            444048.00                             1   \n",
       "7497            785872.56                             0   \n",
       "\n",
       "      Years of Credit History  Number of Open Accounts  Home Ownership_Rent  \\\n",
       "0                        26.3                     11.0                    0   \n",
       "1                        15.3                     15.0                    0   \n",
       "2                        34.4                     11.0                    0   \n",
       "3                        22.5                      8.0                    0   \n",
       "4                        13.6                     13.0                    1   \n",
       "...                       ...                      ...                  ...   \n",
       "7491                     21.3                     18.0                    0   \n",
       "7493                     16.5                     14.0                    1   \n",
       "7495                      8.5                      3.0                    1   \n",
       "7496                     26.5                     10.0                    0   \n",
       "7497                     32.1                     12.0                    1   \n",
       "\n",
       "      Annual Income  \n",
       "0          482087.0  \n",
       "1         1025487.0  \n",
       "2          751412.0  \n",
       "3          805068.0  \n",
       "4          776264.0  \n",
       "...             ...  \n",
       "7491      2833185.0  \n",
       "7493      1257610.0  \n",
       "7495       402192.0  \n",
       "7496      1533984.0  \n",
       "7497      1878910.0  \n",
       "\n",
       "[5943 rows x 9 columns]"
      ]
     },
     "execution_count": 142,
     "metadata": {},
     "output_type": "execute_result"
    }
   ],
   "source": [
    "# отбираем набор данных для обучения\n",
    "data_Annual_Income = df.loc[(df['Annual Income'].notnull()), TARGET_FEATURE + ['Annual Income']]\n",
    "data_Annual_Income"
   ]
  },
  {
   "cell_type": "code",
   "execution_count": 143,
   "id": "8d632443",
   "metadata": {},
   "outputs": [
    {
     "name": "stdout",
     "output_type": "stream",
     "text": [
      "<class 'pandas.core.frame.DataFrame'>\n",
      "Int64Index: 5943 entries, 0 to 7497\n",
      "Data columns (total 9 columns):\n",
      " #   Column                        Non-Null Count  Dtype  \n",
      "---  ------                        --------------  -----  \n",
      " 0   Monthly Debt                  5943 non-null   float64\n",
      " 1   Current Credit Balance        5943 non-null   float64\n",
      " 2   Maximum Open Credit           5943 non-null   float64\n",
      " 3   Current Loan Amount           5943 non-null   float64\n",
      " 4   Home Ownership_Home Mortgage  5943 non-null   uint8  \n",
      " 5   Years of Credit History       5943 non-null   float64\n",
      " 6   Number of Open Accounts       5943 non-null   float64\n",
      " 7   Home Ownership_Rent           5943 non-null   uint8  \n",
      " 8   Annual Income                 5943 non-null   float64\n",
      "dtypes: float64(7), uint8(2)\n",
      "memory usage: 383.0 KB\n"
     ]
    }
   ],
   "source": [
    "data_Annual_Income.info()"
   ]
  },
  {
   "cell_type": "code",
   "execution_count": 144,
   "id": "943f0128",
   "metadata": {},
   "outputs": [],
   "source": [
    "# учимся на RandomForestRegressor\n",
    "#%%time\n",
    "\n",
    "# model_Annual_Income = RandomForestRegressor(n_estimators=400, max_depth=9, random_state=21)\n",
    "# model_Annual_Income.fit(data_Annual_Income[TARGET_FEATURE], data_Annual_Income['Annual Income'])"
   ]
  },
  {
   "cell_type": "code",
   "execution_count": 145,
   "id": "878b044b",
   "metadata": {},
   "outputs": [
    {
     "data": {
      "text/html": [
       "<div>\n",
       "<style scoped>\n",
       "    .dataframe tbody tr th:only-of-type {\n",
       "        vertical-align: middle;\n",
       "    }\n",
       "\n",
       "    .dataframe tbody tr th {\n",
       "        vertical-align: top;\n",
       "    }\n",
       "\n",
       "    .dataframe thead th {\n",
       "        text-align: right;\n",
       "    }\n",
       "</style>\n",
       "<table border=\"1\" class=\"dataframe\">\n",
       "  <thead>\n",
       "    <tr style=\"text-align: right;\">\n",
       "      <th></th>\n",
       "      <th>Annual Income</th>\n",
       "    </tr>\n",
       "  </thead>\n",
       "  <tbody>\n",
       "    <tr>\n",
       "      <th>5</th>\n",
       "      <td>NaN</td>\n",
       "    </tr>\n",
       "    <tr>\n",
       "      <th>8</th>\n",
       "      <td>NaN</td>\n",
       "    </tr>\n",
       "    <tr>\n",
       "      <th>9</th>\n",
       "      <td>NaN</td>\n",
       "    </tr>\n",
       "    <tr>\n",
       "      <th>10</th>\n",
       "      <td>NaN</td>\n",
       "    </tr>\n",
       "    <tr>\n",
       "      <th>16</th>\n",
       "      <td>NaN</td>\n",
       "    </tr>\n",
       "    <tr>\n",
       "      <th>...</th>\n",
       "      <td>...</td>\n",
       "    </tr>\n",
       "    <tr>\n",
       "      <th>7482</th>\n",
       "      <td>NaN</td>\n",
       "    </tr>\n",
       "    <tr>\n",
       "      <th>7492</th>\n",
       "      <td>NaN</td>\n",
       "    </tr>\n",
       "    <tr>\n",
       "      <th>7494</th>\n",
       "      <td>NaN</td>\n",
       "    </tr>\n",
       "    <tr>\n",
       "      <th>7498</th>\n",
       "      <td>NaN</td>\n",
       "    </tr>\n",
       "    <tr>\n",
       "      <th>7499</th>\n",
       "      <td>NaN</td>\n",
       "    </tr>\n",
       "  </tbody>\n",
       "</table>\n",
       "<p>1557 rows × 1 columns</p>\n",
       "</div>"
      ],
      "text/plain": [
       "      Annual Income\n",
       "5               NaN\n",
       "8               NaN\n",
       "9               NaN\n",
       "10              NaN\n",
       "16              NaN\n",
       "...             ...\n",
       "7482            NaN\n",
       "7492            NaN\n",
       "7494            NaN\n",
       "7498            NaN\n",
       "7499            NaN\n",
       "\n",
       "[1557 rows x 1 columns]"
      ]
     },
     "execution_count": 145,
     "metadata": {},
     "output_type": "execute_result"
    }
   ],
   "source": [
    "# заполняем пропуски на основе обученной модели\n",
    "y_annual_income = df.loc[(df['Annual Income'].isnull()), ['Annual Income']]\n",
    "\n",
    "y_annual_income "
   ]
  },
  {
   "cell_type": "code",
   "execution_count": 146,
   "id": "aae36485",
   "metadata": {},
   "outputs": [],
   "source": [
    "#df.loc[(df['Annual Income'].isnull()), ['Annual Income']] = model_Annual_Income.predict(df.loc[(df['Annual Income'].isnull()), TARGET_FEATURE])"
   ]
  },
  {
   "cell_type": "code",
   "execution_count": 147,
   "id": "223c9245",
   "metadata": {},
   "outputs": [
    {
     "data": {
      "text/plain": [
       "count    5.943000e+03\n",
       "mean     1.326514e+06\n",
       "std      6.681846e+05\n",
       "min      1.645970e+05\n",
       "25%      8.443410e+05\n",
       "50%      1.168386e+06\n",
       "75%      1.640137e+06\n",
       "max      3.261279e+06\n",
       "Name: Annual Income, dtype: float64"
      ]
     },
     "execution_count": 147,
     "metadata": {},
     "output_type": "execute_result"
    }
   ],
   "source": [
    "df['Annual Income'].describe()"
   ]
  },
  {
   "cell_type": "code",
   "execution_count": 148,
   "id": "67302c4c",
   "metadata": {},
   "outputs": [
    {
     "data": {
      "text/plain": [
       "ShapiroResult(statistic=nan, pvalue=1.0)"
      ]
     },
     "execution_count": 148,
     "metadata": {},
     "output_type": "execute_result"
    }
   ],
   "source": [
    "# смотрим, какое распределение получилось\n",
    "\n",
    "shapiro(df['Annual Income'])"
   ]
  },
  {
   "cell_type": "code",
   "execution_count": 149,
   "id": "bf47c145",
   "metadata": {},
   "outputs": [
    {
     "data": {
      "image/png": "[encoded data removed]",
      "text/plain": [
       "<Figure size 1440x576 with 2 Axes>"
      ]
     },
     "metadata": {
      "needs_background": "light"
     },
     "output_type": "display_data"
    }
   ],
   "source": [
    "hist_qq('Annual Income')"
   ]
  },
  {
   "cell_type": "code",
   "execution_count": 150,
   "id": "b5ae7c56",
   "metadata": {},
   "outputs": [],
   "source": [
    "Annual_Income_with_target_s = df[['Annual Income', 'Credit Default']]\n",
    "Annual_Income_target_0 = df.loc[df['Credit Default'] == 0, 'Annual Income']\n",
    "Annual_Income_target_1 = df.loc[df['Credit Default'] == 1, 'Annual Income']"
   ]
  },
  {
   "cell_type": "code",
   "execution_count": 151,
   "id": "2f7e960b",
   "metadata": {},
   "outputs": [],
   "source": [
    "#mannwhitneyu(Annual_Income_target_0, Annual_Income_target_1)"
   ]
  },
  {
   "cell_type": "code",
   "execution_count": 152,
   "id": "64d0bff5",
   "metadata": {},
   "outputs": [
    {
     "data": {
      "image/png": "[encoded data removed]",
      "text/plain": [
       "<Figure size 576x360 with 1 Axes>"
      ]
     },
     "metadata": {
      "needs_background": "light"
     },
     "output_type": "display_data"
    }
   ],
   "source": [
    "plt.figure(figsize=(8,5))\n",
    "\n",
    "sns.pointplot(x='Credit Default', y='Annual Income', data=Annual_Income_with_target_s, capsize=.1)\n",
    "plt.title('Confidence intervals (95 %) for Annual Income')\n",
    "\n",
    "plt.show()"
   ]
  },
  {
   "cell_type": "code",
   "execution_count": 153,
   "id": "2d719695",
   "metadata": {},
   "outputs": [
    {
     "data": {
      "text/plain": [
       "0.0    6660\n",
       "1.0     786\n",
       "2.0      31\n",
       "3.0       7\n",
       "4.0       2\n",
       "Name: Bankruptcies, dtype: int64"
      ]
     },
     "execution_count": 153,
     "metadata": {},
     "output_type": "execute_result"
    }
   ],
   "source": [
    "#'Bankruptcies'\n",
    "# 14 пропусков\n",
    "df['Bankruptcies'].value_counts()"
   ]
  },
  {
   "cell_type": "code",
   "execution_count": 154,
   "id": "7556f972",
   "metadata": {},
   "outputs": [
    {
     "data": {
      "text/plain": [
       "count    7486.000000\n",
       "mean        0.117152\n",
       "std         0.347192\n",
       "min         0.000000\n",
       "25%         0.000000\n",
       "50%         0.000000\n",
       "75%         0.000000\n",
       "max         4.000000\n",
       "Name: Bankruptcies, dtype: float64"
      ]
     },
     "execution_count": 154,
     "metadata": {},
     "output_type": "execute_result"
    }
   ],
   "source": [
    "df['Bankruptcies'].describe()"
   ]
  },
  {
   "cell_type": "code",
   "execution_count": 155,
   "id": "48ad184a",
   "metadata": {},
   "outputs": [
    {
     "data": {
      "text/plain": [
       "Home Ownership                        0\n",
       "Annual Income                      1557\n",
       "Years in current job                371\n",
       "Tax Liens                             0\n",
       "Number of Open Accounts               0\n",
       "Years of Credit History               0\n",
       "Maximum Open Credit                   0\n",
       "Number of Credit Problems             0\n",
       "Months since last delinquent       4081\n",
       "Bankruptcies                         14\n",
       "Purpose                               0\n",
       "Term                                  0\n",
       "Current Loan Amount                   0\n",
       "Current Credit Balance                0\n",
       "Monthly Debt                          0\n",
       "Credit Score                       1557\n",
       "Credit Default                        0\n",
       "Home Ownership_Have Mortgage          0\n",
       "Home Ownership_Home Mortgage          0\n",
       "Home Ownership_Own Home               0\n",
       "Home Ownership_Rent                   0\n",
       "Annual Income Outlier                 0\n",
       "Number of Open Accounts Outlier       0\n",
       "Years of Credit History Outlier       0\n",
       "Maximum Open Credit Outlier           0\n",
       "Current Loan Amount Outlier           0\n",
       "Current Credit Balance Outlier        0\n",
       "Monthly Debt Outlier                  0\n",
       "dtype: int64"
      ]
     },
     "execution_count": 155,
     "metadata": {},
     "output_type": "execute_result"
    }
   ],
   "source": [
    "len(df) - df.count()"
   ]
  },
  {
   "cell_type": "code",
   "execution_count": 156,
   "id": "68eb22e5",
   "metadata": {},
   "outputs": [
    {
     "data": {
      "text/plain": [
       "Home Ownership                        0\n",
       "Annual Income                      1557\n",
       "Years in current job                371\n",
       "Tax Liens                             0\n",
       "Number of Open Accounts               0\n",
       "Years of Credit History               0\n",
       "Maximum Open Credit                   0\n",
       "Number of Credit Problems             0\n",
       "Months since last delinquent       4081\n",
       "Bankruptcies                          0\n",
       "Purpose                               0\n",
       "Term                                  0\n",
       "Current Loan Amount                   0\n",
       "Current Credit Balance                0\n",
       "Monthly Debt                          0\n",
       "Credit Score                       1557\n",
       "Credit Default                        0\n",
       "Home Ownership_Have Mortgage          0\n",
       "Home Ownership_Home Mortgage          0\n",
       "Home Ownership_Own Home               0\n",
       "Home Ownership_Rent                   0\n",
       "Annual Income Outlier                 0\n",
       "Number of Open Accounts Outlier       0\n",
       "Years of Credit History Outlier       0\n",
       "Maximum Open Credit Outlier           0\n",
       "Current Loan Amount Outlier           0\n",
       "Current Credit Balance Outlier        0\n",
       "Monthly Debt Outlier                  0\n",
       "dtype: int64"
      ]
     },
     "execution_count": 156,
     "metadata": {},
     "output_type": "execute_result"
    }
   ],
   "source": [
    "#заменяем проруски, на самое частое значение - на ноль\n",
    "df.loc[df['Bankruptcies'].isna(), 'Bankruptcies'] = 0\n",
    "\n",
    "len(df) - df.count()"
   ]
  },
  {
   "cell_type": "code",
   "execution_count": 157,
   "id": "2dc20b68",
   "metadata": {},
   "outputs": [
    {
     "data": {
      "text/plain": [
       "count    5943.000000\n",
       "mean     1151.087498\n",
       "std      1604.451418\n",
       "min       585.000000\n",
       "25%       711.000000\n",
       "50%       731.000000\n",
       "75%       743.000000\n",
       "max      7510.000000\n",
       "Name: Credit Score, dtype: float64"
      ]
     },
     "execution_count": 157,
     "metadata": {},
     "output_type": "execute_result"
    }
   ],
   "source": [
    "#Credit Score \n",
    "#1557 пропусков\n",
    "df['Credit Score'].describe()"
   ]
  },
  {
   "cell_type": "code",
   "execution_count": 158,
   "id": "4f881f0f",
   "metadata": {},
   "outputs": [
    {
     "data": {
      "text/plain": [
       "Home Ownership                        0\n",
       "Annual Income                      1557\n",
       "Years in current job                371\n",
       "Tax Liens                             0\n",
       "Number of Open Accounts               0\n",
       "Years of Credit History               0\n",
       "Maximum Open Credit                   0\n",
       "Number of Credit Problems             0\n",
       "Months since last delinquent       4081\n",
       "Bankruptcies                          0\n",
       "Purpose                               0\n",
       "Term                                  0\n",
       "Current Loan Amount                   0\n",
       "Current Credit Balance                0\n",
       "Monthly Debt                          0\n",
       "Credit Score                       1557\n",
       "Credit Default                        0\n",
       "Home Ownership_Have Mortgage          0\n",
       "Home Ownership_Home Mortgage          0\n",
       "Home Ownership_Own Home               0\n",
       "Home Ownership_Rent                   0\n",
       "Annual Income Outlier                 0\n",
       "Number of Open Accounts Outlier       0\n",
       "Years of Credit History Outlier       0\n",
       "Maximum Open Credit Outlier           0\n",
       "Current Loan Amount Outlier           0\n",
       "Current Credit Balance Outlier        0\n",
       "Monthly Debt Outlier                  0\n",
       "dtype: int64"
      ]
     },
     "execution_count": 158,
     "metadata": {},
     "output_type": "execute_result"
    }
   ],
   "source": [
    "len(df) - df.count()"
   ]
  },
  {
   "cell_type": "code",
   "execution_count": 159,
   "id": "3250950e",
   "metadata": {},
   "outputs": [
    {
     "data": {
      "image/png": "[encoded data removed]",
      "text/plain": [
       "<Figure size 1440x576 with 2 Axes>"
      ]
     },
     "metadata": {
      "needs_background": "light"
     },
     "output_type": "display_data"
    }
   ],
   "source": [
    "hist_qq('Credit Score')"
   ]
  },
  {
   "cell_type": "code",
   "execution_count": 160,
   "id": "c07c429a",
   "metadata": {},
   "outputs": [
    {
     "data": {
      "image/png": "[encoded data removed]",
      "text/plain": [
       "<Figure size 720x576 with 1 Axes>"
      ]
     },
     "metadata": {
      "needs_background": "light"
     },
     "output_type": "display_data"
    }
   ],
   "source": [
    "#Заполняем попуски при помощи Random Forest\n",
    "#Посмотрим как признак коррелирует с другими признаками\n",
    "FEATURE_NAMES = df.columns.drop('Credit Score').tolist()\n",
    "corr_Credit_Score = df[FEATURE_NAMES + ['Credit Score']].corr().iloc[:-1, -1]\n",
    "corr_Credit_Score = np.abs(corr_Annual_Income).sort_values(ascending=False)\n",
    "\n",
    "plt.figure(figsize=(10, 8))\n",
    "\n",
    "sns.barplot(x=corr_Credit_Score, y=corr_Credit_Score.index)\n",
    "\n",
    "plt.title('Correlation')\n",
    "plt.show()"
   ]
  },
  {
   "cell_type": "code",
   "execution_count": 161,
   "id": "a7070532",
   "metadata": {},
   "outputs": [
    {
     "data": {
      "text/plain": [
       "['Monthly Debt',\n",
       " 'Annual Income Outlier',\n",
       " 'Current Credit Balance',\n",
       " 'Maximum Open Credit',\n",
       " 'Current Loan Amount',\n",
       " 'Monthly Debt Outlier',\n",
       " 'Home Ownership_Home Mortgage',\n",
       " 'Years of Credit History',\n",
       " 'Current Credit Balance Outlier',\n",
       " 'Number of Open Accounts',\n",
       " 'Home Ownership_Rent']"
      ]
     },
     "execution_count": 161,
     "metadata": {},
     "output_type": "execute_result"
    }
   ],
   "source": [
    "# для обучения выбираем 8 наиболее влияющих признаков\n",
    "TARGET_FEATURE_Credit_Score = list(corr_Credit_Score.index[0:11])\n",
    "TARGET_FEATURE_Credit_Score "
   ]
  },
  {
   "cell_type": "code",
   "execution_count": 162,
   "id": "5ab9ee20",
   "metadata": {},
   "outputs": [
    {
     "data": {
      "text/html": [
       "<div>\n",
       "<style scoped>\n",
       "    .dataframe tbody tr th:only-of-type {\n",
       "        vertical-align: middle;\n",
       "    }\n",
       "\n",
       "    .dataframe tbody tr th {\n",
       "        vertical-align: top;\n",
       "    }\n",
       "\n",
       "    .dataframe thead th {\n",
       "        text-align: right;\n",
       "    }\n",
       "</style>\n",
       "<table border=\"1\" class=\"dataframe\">\n",
       "  <thead>\n",
       "    <tr style=\"text-align: right;\">\n",
       "      <th></th>\n",
       "      <th>Monthly Debt</th>\n",
       "      <th>Annual Income Outlier</th>\n",
       "      <th>Current Credit Balance</th>\n",
       "      <th>Maximum Open Credit</th>\n",
       "      <th>Current Loan Amount</th>\n",
       "      <th>Monthly Debt Outlier</th>\n",
       "      <th>Home Ownership_Home Mortgage</th>\n",
       "      <th>Years of Credit History</th>\n",
       "      <th>Current Credit Balance Outlier</th>\n",
       "      <th>Number of Open Accounts</th>\n",
       "      <th>Home Ownership_Rent</th>\n",
       "      <th>Credit Score</th>\n",
       "    </tr>\n",
       "  </thead>\n",
       "  <tbody>\n",
       "    <tr>\n",
       "      <th>0</th>\n",
       "      <td>7914.00</td>\n",
       "      <td>0</td>\n",
       "      <td>47386.0</td>\n",
       "      <td>685960.0</td>\n",
       "      <td>785872.56</td>\n",
       "      <td>0</td>\n",
       "      <td>0</td>\n",
       "      <td>26.3</td>\n",
       "      <td>0</td>\n",
       "      <td>11.0</td>\n",
       "      <td>0</td>\n",
       "      <td>749.0</td>\n",
       "    </tr>\n",
       "    <tr>\n",
       "      <th>1</th>\n",
       "      <td>18373.00</td>\n",
       "      <td>0</td>\n",
       "      <td>394972.0</td>\n",
       "      <td>1181730.0</td>\n",
       "      <td>264968.00</td>\n",
       "      <td>0</td>\n",
       "      <td>0</td>\n",
       "      <td>15.3</td>\n",
       "      <td>0</td>\n",
       "      <td>15.0</td>\n",
       "      <td>0</td>\n",
       "      <td>737.0</td>\n",
       "    </tr>\n",
       "    <tr>\n",
       "      <th>2</th>\n",
       "      <td>13651.00</td>\n",
       "      <td>0</td>\n",
       "      <td>308389.0</td>\n",
       "      <td>1182434.0</td>\n",
       "      <td>785872.56</td>\n",
       "      <td>0</td>\n",
       "      <td>1</td>\n",
       "      <td>34.4</td>\n",
       "      <td>0</td>\n",
       "      <td>11.0</td>\n",
       "      <td>0</td>\n",
       "      <td>742.0</td>\n",
       "    </tr>\n",
       "    <tr>\n",
       "      <th>3</th>\n",
       "      <td>11338.00</td>\n",
       "      <td>0</td>\n",
       "      <td>95855.0</td>\n",
       "      <td>147400.0</td>\n",
       "      <td>121396.00</td>\n",
       "      <td>0</td>\n",
       "      <td>0</td>\n",
       "      <td>22.5</td>\n",
       "      <td>0</td>\n",
       "      <td>8.0</td>\n",
       "      <td>0</td>\n",
       "      <td>694.0</td>\n",
       "    </tr>\n",
       "    <tr>\n",
       "      <th>4</th>\n",
       "      <td>7180.00</td>\n",
       "      <td>0</td>\n",
       "      <td>93309.0</td>\n",
       "      <td>385836.0</td>\n",
       "      <td>125840.00</td>\n",
       "      <td>0</td>\n",
       "      <td>0</td>\n",
       "      <td>13.6</td>\n",
       "      <td>0</td>\n",
       "      <td>13.0</td>\n",
       "      <td>1</td>\n",
       "      <td>719.0</td>\n",
       "    </tr>\n",
       "    <tr>\n",
       "      <th>...</th>\n",
       "      <td>...</td>\n",
       "      <td>...</td>\n",
       "      <td>...</td>\n",
       "      <td>...</td>\n",
       "      <td>...</td>\n",
       "      <td>...</td>\n",
       "      <td>...</td>\n",
       "      <td>...</td>\n",
       "      <td>...</td>\n",
       "      <td>...</td>\n",
       "      <td>...</td>\n",
       "      <td>...</td>\n",
       "    </tr>\n",
       "    <tr>\n",
       "      <th>7491</th>\n",
       "      <td>47950.15</td>\n",
       "      <td>0</td>\n",
       "      <td>108889.0</td>\n",
       "      <td>280170.0</td>\n",
       "      <td>437404.00</td>\n",
       "      <td>1</td>\n",
       "      <td>1</td>\n",
       "      <td>21.3</td>\n",
       "      <td>0</td>\n",
       "      <td>18.0</td>\n",
       "      <td>0</td>\n",
       "      <td>704.0</td>\n",
       "    </tr>\n",
       "    <tr>\n",
       "      <th>7493</th>\n",
       "      <td>27562.00</td>\n",
       "      <td>0</td>\n",
       "      <td>167428.0</td>\n",
       "      <td>821480.0</td>\n",
       "      <td>448052.00</td>\n",
       "      <td>0</td>\n",
       "      <td>0</td>\n",
       "      <td>16.5</td>\n",
       "      <td>0</td>\n",
       "      <td>14.0</td>\n",
       "      <td>1</td>\n",
       "      <td>676.0</td>\n",
       "    </tr>\n",
       "    <tr>\n",
       "      <th>7495</th>\n",
       "      <td>1900.00</td>\n",
       "      <td>0</td>\n",
       "      <td>73492.0</td>\n",
       "      <td>107866.0</td>\n",
       "      <td>129360.00</td>\n",
       "      <td>0</td>\n",
       "      <td>0</td>\n",
       "      <td>8.5</td>\n",
       "      <td>0</td>\n",
       "      <td>3.0</td>\n",
       "      <td>1</td>\n",
       "      <td>697.0</td>\n",
       "    </tr>\n",
       "    <tr>\n",
       "      <th>7496</th>\n",
       "      <td>12783.00</td>\n",
       "      <td>0</td>\n",
       "      <td>456399.0</td>\n",
       "      <td>686312.0</td>\n",
       "      <td>444048.00</td>\n",
       "      <td>0</td>\n",
       "      <td>1</td>\n",
       "      <td>26.5</td>\n",
       "      <td>0</td>\n",
       "      <td>10.0</td>\n",
       "      <td>0</td>\n",
       "      <td>7410.0</td>\n",
       "    </tr>\n",
       "    <tr>\n",
       "      <th>7497</th>\n",
       "      <td>12479.00</td>\n",
       "      <td>0</td>\n",
       "      <td>477812.0</td>\n",
       "      <td>1778920.0</td>\n",
       "      <td>785872.56</td>\n",
       "      <td>0</td>\n",
       "      <td>0</td>\n",
       "      <td>32.1</td>\n",
       "      <td>0</td>\n",
       "      <td>12.0</td>\n",
       "      <td>1</td>\n",
       "      <td>748.0</td>\n",
       "    </tr>\n",
       "  </tbody>\n",
       "</table>\n",
       "<p>5943 rows × 12 columns</p>\n",
       "</div>"
      ],
      "text/plain": [
       "      Monthly Debt  Annual Income Outlier  Current Credit Balance  \\\n",
       "0          7914.00                      0                 47386.0   \n",
       "1         18373.00                      0                394972.0   \n",
       "2         13651.00                      0                308389.0   \n",
       "3         11338.00                      0                 95855.0   \n",
       "4          7180.00                      0                 93309.0   \n",
       "...            ...                    ...                     ...   \n",
       "7491      47950.15                      0                108889.0   \n",
       "7493      27562.00                      0                167428.0   \n",
       "7495       1900.00                      0                 73492.0   \n",
       "7496      12783.00                      0                456399.0   \n",
       "7497      12479.00                      0                477812.0   \n",
       "\n",
       "      Maximum Open Credit  Current Loan Amount  Monthly Debt Outlier  \\\n",
       "0                685960.0            785872.56                     0   \n",
       "1               1181730.0            264968.00                     0   \n",
       "2               1182434.0            785872.56                     0   \n",
       "3                147400.0            121396.00                     0   \n",
       "4                385836.0            125840.00                     0   \n",
       "...                   ...                  ...                   ...   \n",
       "7491             280170.0            437404.00                     1   \n",
       "7493             821480.0            448052.00                     0   \n",
       "7495             107866.0            129360.00                     0   \n",
       "7496             686312.0            444048.00                     0   \n",
       "7497            1778920.0            785872.56                     0   \n",
       "\n",
       "      Home Ownership_Home Mortgage  Years of Credit History  \\\n",
       "0                                0                     26.3   \n",
       "1                                0                     15.3   \n",
       "2                                1                     34.4   \n",
       "3                                0                     22.5   \n",
       "4                                0                     13.6   \n",
       "...                            ...                      ...   \n",
       "7491                             1                     21.3   \n",
       "7493                             0                     16.5   \n",
       "7495                             0                      8.5   \n",
       "7496                             1                     26.5   \n",
       "7497                             0                     32.1   \n",
       "\n",
       "      Current Credit Balance Outlier  Number of Open Accounts  \\\n",
       "0                                  0                     11.0   \n",
       "1                                  0                     15.0   \n",
       "2                                  0                     11.0   \n",
       "3                                  0                      8.0   \n",
       "4                                  0                     13.0   \n",
       "...                              ...                      ...   \n",
       "7491                               0                     18.0   \n",
       "7493                               0                     14.0   \n",
       "7495                               0                      3.0   \n",
       "7496                               0                     10.0   \n",
       "7497                               0                     12.0   \n",
       "\n",
       "      Home Ownership_Rent  Credit Score  \n",
       "0                       0         749.0  \n",
       "1                       0         737.0  \n",
       "2                       0         742.0  \n",
       "3                       0         694.0  \n",
       "4                       1         719.0  \n",
       "...                   ...           ...  \n",
       "7491                    0         704.0  \n",
       "7493                    1         676.0  \n",
       "7495                    1         697.0  \n",
       "7496                    0        7410.0  \n",
       "7497                    1         748.0  \n",
       "\n",
       "[5943 rows x 12 columns]"
      ]
     },
     "execution_count": 162,
     "metadata": {},
     "output_type": "execute_result"
    }
   ],
   "source": [
    "# отбираем набор данных для обучения\n",
    "data_Credit_Score = df.loc[(df['Credit Score'].notnull()), TARGET_FEATURE_Credit_Score + ['Credit Score']]\n",
    "data_Credit_Score"
   ]
  },
  {
   "cell_type": "code",
   "execution_count": 163,
   "id": "2c3fd71d",
   "metadata": {},
   "outputs": [
    {
     "name": "stdout",
     "output_type": "stream",
     "text": [
      "<class 'pandas.core.frame.DataFrame'>\n",
      "Int64Index: 5943 entries, 0 to 7497\n",
      "Data columns (total 12 columns):\n",
      " #   Column                          Non-Null Count  Dtype  \n",
      "---  ------                          --------------  -----  \n",
      " 0   Monthly Debt                    5943 non-null   float64\n",
      " 1   Annual Income Outlier           5943 non-null   int64  \n",
      " 2   Current Credit Balance          5943 non-null   float64\n",
      " 3   Maximum Open Credit             5943 non-null   float64\n",
      " 4   Current Loan Amount             5943 non-null   float64\n",
      " 5   Monthly Debt Outlier            5943 non-null   int64  \n",
      " 6   Home Ownership_Home Mortgage    5943 non-null   uint8  \n",
      " 7   Years of Credit History         5943 non-null   float64\n",
      " 8   Current Credit Balance Outlier  5943 non-null   int64  \n",
      " 9   Number of Open Accounts         5943 non-null   float64\n",
      " 10  Home Ownership_Rent             5943 non-null   uint8  \n",
      " 11  Credit Score                    5943 non-null   float64\n",
      "dtypes: float64(7), int64(3), uint8(2)\n",
      "memory usage: 522.3 KB\n"
     ]
    }
   ],
   "source": [
    "data_Credit_Score.info()"
   ]
  },
  {
   "cell_type": "code",
   "execution_count": 164,
   "id": "aa6024b8",
   "metadata": {},
   "outputs": [],
   "source": [
    "# учимся на RandomForestRegressor\n",
    "#%%time\n",
    "\n",
    "# model_Credit_Score = RandomForestRegressor(n_estimators=400, max_depth=9, random_state=21)\n",
    "# model_Credit_Score.fit(data_Credit_Score[TARGET_FEATURE_Credit_Score], data_Credit_Score['Credit Score'])"
   ]
  },
  {
   "cell_type": "code",
   "execution_count": 165,
   "id": "ea32b934",
   "metadata": {},
   "outputs": [],
   "source": [
    "# df.loc[(df['Credit Score'].isnull()), ['Credit Score']] = model_Credit_Score.predict(df.loc[(df['Credit Score'].isnull()), TARGET_FEATURE_Credit_Score])\n",
    "                                                                                            "
   ]
  },
  {
   "cell_type": "code",
   "execution_count": 166,
   "id": "d51d482f",
   "metadata": {},
   "outputs": [
    {
     "data": {
      "text/html": [
       "<div>\n",
       "<style scoped>\n",
       "    .dataframe tbody tr th:only-of-type {\n",
       "        vertical-align: middle;\n",
       "    }\n",
       "\n",
       "    .dataframe tbody tr th {\n",
       "        vertical-align: top;\n",
       "    }\n",
       "\n",
       "    .dataframe thead th {\n",
       "        text-align: right;\n",
       "    }\n",
       "</style>\n",
       "<table border=\"1\" class=\"dataframe\">\n",
       "  <thead>\n",
       "    <tr style=\"text-align: right;\">\n",
       "      <th></th>\n",
       "      <th>Credit Score</th>\n",
       "    </tr>\n",
       "  </thead>\n",
       "  <tbody>\n",
       "    <tr>\n",
       "      <th>5</th>\n",
       "      <td>NaN</td>\n",
       "    </tr>\n",
       "    <tr>\n",
       "      <th>8</th>\n",
       "      <td>NaN</td>\n",
       "    </tr>\n",
       "    <tr>\n",
       "      <th>9</th>\n",
       "      <td>NaN</td>\n",
       "    </tr>\n",
       "    <tr>\n",
       "      <th>10</th>\n",
       "      <td>NaN</td>\n",
       "    </tr>\n",
       "    <tr>\n",
       "      <th>16</th>\n",
       "      <td>NaN</td>\n",
       "    </tr>\n",
       "    <tr>\n",
       "      <th>...</th>\n",
       "      <td>...</td>\n",
       "    </tr>\n",
       "    <tr>\n",
       "      <th>7482</th>\n",
       "      <td>NaN</td>\n",
       "    </tr>\n",
       "    <tr>\n",
       "      <th>7492</th>\n",
       "      <td>NaN</td>\n",
       "    </tr>\n",
       "    <tr>\n",
       "      <th>7494</th>\n",
       "      <td>NaN</td>\n",
       "    </tr>\n",
       "    <tr>\n",
       "      <th>7498</th>\n",
       "      <td>NaN</td>\n",
       "    </tr>\n",
       "    <tr>\n",
       "      <th>7499</th>\n",
       "      <td>NaN</td>\n",
       "    </tr>\n",
       "  </tbody>\n",
       "</table>\n",
       "<p>1557 rows × 1 columns</p>\n",
       "</div>"
      ],
      "text/plain": [
       "      Credit Score\n",
       "5              NaN\n",
       "8              NaN\n",
       "9              NaN\n",
       "10             NaN\n",
       "16             NaN\n",
       "...            ...\n",
       "7482           NaN\n",
       "7492           NaN\n",
       "7494           NaN\n",
       "7498           NaN\n",
       "7499           NaN\n",
       "\n",
       "[1557 rows x 1 columns]"
      ]
     },
     "execution_count": 166,
     "metadata": {},
     "output_type": "execute_result"
    }
   ],
   "source": [
    "df.loc[(df['Credit Score'].isnull()), ['Credit Score']] "
   ]
  },
  {
   "cell_type": "code",
   "execution_count": 167,
   "id": "5766c243",
   "metadata": {},
   "outputs": [
    {
     "data": {
      "text/plain": [
       "Home Ownership                        0\n",
       "Annual Income                      1557\n",
       "Years in current job                371\n",
       "Tax Liens                             0\n",
       "Number of Open Accounts               0\n",
       "Years of Credit History               0\n",
       "Maximum Open Credit                   0\n",
       "Number of Credit Problems             0\n",
       "Months since last delinquent       4081\n",
       "Bankruptcies                          0\n",
       "Purpose                               0\n",
       "Term                                  0\n",
       "Current Loan Amount                   0\n",
       "Current Credit Balance                0\n",
       "Monthly Debt                          0\n",
       "Credit Score                       1557\n",
       "Credit Default                        0\n",
       "Home Ownership_Have Mortgage          0\n",
       "Home Ownership_Home Mortgage          0\n",
       "Home Ownership_Own Home               0\n",
       "Home Ownership_Rent                   0\n",
       "Annual Income Outlier                 0\n",
       "Number of Open Accounts Outlier       0\n",
       "Years of Credit History Outlier       0\n",
       "Maximum Open Credit Outlier           0\n",
       "Current Loan Amount Outlier           0\n",
       "Current Credit Balance Outlier        0\n",
       "Monthly Debt Outlier                  0\n",
       "dtype: int64"
      ]
     },
     "execution_count": 167,
     "metadata": {},
     "output_type": "execute_result"
    }
   ],
   "source": [
    "len(df) - df.count()"
   ]
  },
  {
   "cell_type": "code",
   "execution_count": 168,
   "id": "e36028af",
   "metadata": {},
   "outputs": [
    {
     "data": {
      "text/plain": [
       "ShapiroResult(statistic=nan, pvalue=1.0)"
      ]
     },
     "execution_count": 168,
     "metadata": {},
     "output_type": "execute_result"
    }
   ],
   "source": [
    "shapiro(df['Credit Score'])"
   ]
  },
  {
   "cell_type": "code",
   "execution_count": 169,
   "id": "3efc5632",
   "metadata": {},
   "outputs": [
    {
     "data": {
      "image/png": "[encoded data removed]",
      "text/plain": [
       "<Figure size 1440x576 with 2 Axes>"
      ]
     },
     "metadata": {
      "needs_background": "light"
     },
     "output_type": "display_data"
    }
   ],
   "source": [
    "hist_qq('Credit Score')"
   ]
  },
  {
   "cell_type": "code",
   "execution_count": 170,
   "id": "79f13ddf",
   "metadata": {},
   "outputs": [],
   "source": [
    "# Credit_Score_with_target_s = df[['Credit Score', 'Credit Default']]\n",
    "# Credit_Score_target_0 = df.loc[df['Credit Default'] == 0, 'Credit Score']\n",
    "# Credit_Score_target_1 = df.loc[df['Credit Default'] == 1, 'Credit Score']"
   ]
  },
  {
   "cell_type": "code",
   "execution_count": 171,
   "id": "7185cbec",
   "metadata": {},
   "outputs": [],
   "source": [
    "# mannwhitneyu(Credit_Score_target_0, Credit_Score_target_1)"
   ]
  },
  {
   "cell_type": "code",
   "execution_count": 172,
   "id": "1194530a",
   "metadata": {},
   "outputs": [],
   "source": [
    "# plt.figure(figsize=(8,5))\n",
    "\n",
    "# sns.pointplot(x='Credit Default', y='Credit Score', data=Credit_Score_with_target_s, capsize=.1)\n",
    "# plt.title('Confidence intervals (95 %) for Credit Score')\n",
    "\n",
    "# plt.show()"
   ]
  },
  {
   "cell_type": "code",
   "execution_count": 173,
   "id": "2882a680",
   "metadata": {},
   "outputs": [
    {
     "data": {
      "text/plain": [
       "10+ years    2332\n",
       "2 years       705\n",
       "3 years       620\n",
       "< 1 year      563\n",
       "5 years       516\n",
       "1 year        504\n",
       "4 years       469\n",
       "6 years       426\n",
       "7 years       396\n",
       "8 years       339\n",
       "9 years       259\n",
       "Name: Years in current job, dtype: int64"
      ]
     },
     "execution_count": 173,
     "metadata": {},
     "output_type": "execute_result"
    }
   ],
   "source": [
    "#Years in current job 371 пропуск\n",
    "df['Years in current job'].value_counts()"
   ]
  },
  {
   "cell_type": "code",
   "execution_count": 174,
   "id": "975848c4",
   "metadata": {},
   "outputs": [
    {
     "data": {
      "text/plain": [
       "0    10+ years\n",
       "dtype: object"
      ]
     },
     "execution_count": 174,
     "metadata": {},
     "output_type": "execute_result"
    }
   ],
   "source": [
    "df['Years in current job'].mode()"
   ]
  },
  {
   "cell_type": "code",
   "execution_count": 175,
   "id": "1fe3632b",
   "metadata": {},
   "outputs": [
    {
     "data": {
      "text/plain": [
       "Home Ownership                        0\n",
       "Annual Income                      1557\n",
       "Years in current job                370\n",
       "Tax Liens                             0\n",
       "Number of Open Accounts               0\n",
       "Years of Credit History               0\n",
       "Maximum Open Credit                   0\n",
       "Number of Credit Problems             0\n",
       "Months since last delinquent       4081\n",
       "Bankruptcies                          0\n",
       "Purpose                               0\n",
       "Term                                  0\n",
       "Current Loan Amount                   0\n",
       "Current Credit Balance                0\n",
       "Monthly Debt                          0\n",
       "Credit Score                       1557\n",
       "Credit Default                        0\n",
       "Home Ownership_Have Mortgage          0\n",
       "Home Ownership_Home Mortgage          0\n",
       "Home Ownership_Own Home               0\n",
       "Home Ownership_Rent                   0\n",
       "Annual Income Outlier                 0\n",
       "Number of Open Accounts Outlier       0\n",
       "Years of Credit History Outlier       0\n",
       "Maximum Open Credit Outlier           0\n",
       "Current Loan Amount Outlier           0\n",
       "Current Credit Balance Outlier        0\n",
       "Monthly Debt Outlier                  0\n",
       "dtype: int64"
      ]
     },
     "execution_count": 175,
     "metadata": {},
     "output_type": "execute_result"
    }
   ],
   "source": [
    "#заменяем проруски, на моду\n",
    "df.loc[df['Years in current job'].isna(), 'Years in current job'] = df['Years in current job'].mode()\n",
    "\n",
    "len(df) - df.count()"
   ]
  },
  {
   "cell_type": "code",
   "execution_count": 176,
   "id": "0bf758d9",
   "metadata": {},
   "outputs": [],
   "source": [
    "# заменяем на < 1 year\n",
    "df.loc[df['Years in current job'].isna(), 'Years in current job'] = '< 1 year'\n"
   ]
  },
  {
   "cell_type": "code",
   "execution_count": 177,
   "id": "c002b843",
   "metadata": {},
   "outputs": [
    {
     "data": {
      "text/plain": [
       "0    10+ years\n",
       "dtype: object"
      ]
     },
     "execution_count": 177,
     "metadata": {},
     "output_type": "execute_result"
    }
   ],
   "source": [
    "df['Years in current job'].mode()"
   ]
  },
  {
   "cell_type": "code",
   "execution_count": 178,
   "id": "bcbeceeb",
   "metadata": {},
   "outputs": [
    {
     "data": {
      "text/plain": [
       "10+ years    2333\n",
       "< 1 year      933\n",
       "2 years       705\n",
       "3 years       620\n",
       "5 years       516\n",
       "1 year        504\n",
       "4 years       469\n",
       "6 years       426\n",
       "7 years       396\n",
       "8 years       339\n",
       "9 years       259\n",
       "Name: Years in current job, dtype: int64"
      ]
     },
     "execution_count": 178,
     "metadata": {},
     "output_type": "execute_result"
    }
   ],
   "source": [
    "df['Years in current job'].value_counts()"
   ]
  },
  {
   "cell_type": "code",
   "execution_count": 179,
   "id": "4ca77746",
   "metadata": {},
   "outputs": [
    {
     "data": {
      "text/plain": [
       "Home Ownership                        0\n",
       "Annual Income                      1557\n",
       "Years in current job                  0\n",
       "Tax Liens                             0\n",
       "Number of Open Accounts               0\n",
       "Years of Credit History               0\n",
       "Maximum Open Credit                   0\n",
       "Number of Credit Problems             0\n",
       "Months since last delinquent       4081\n",
       "Bankruptcies                          0\n",
       "Purpose                               0\n",
       "Term                                  0\n",
       "Current Loan Amount                   0\n",
       "Current Credit Balance                0\n",
       "Monthly Debt                          0\n",
       "Credit Score                       1557\n",
       "Credit Default                        0\n",
       "Home Ownership_Have Mortgage          0\n",
       "Home Ownership_Home Mortgage          0\n",
       "Home Ownership_Own Home               0\n",
       "Home Ownership_Rent                   0\n",
       "Annual Income Outlier                 0\n",
       "Number of Open Accounts Outlier       0\n",
       "Years of Credit History Outlier       0\n",
       "Maximum Open Credit Outlier           0\n",
       "Current Loan Amount Outlier           0\n",
       "Current Credit Balance Outlier        0\n",
       "Monthly Debt Outlier                  0\n",
       "dtype: int64"
      ]
     },
     "execution_count": 179,
     "metadata": {},
     "output_type": "execute_result"
    }
   ],
   "source": [
    "len(df) - df.count()"
   ]
  },
  {
   "cell_type": "code",
   "execution_count": 180,
   "id": "22682339",
   "metadata": {},
   "outputs": [
    {
     "data": {
      "text/html": [
       "<div>\n",
       "<style scoped>\n",
       "    .dataframe tbody tr th:only-of-type {\n",
       "        vertical-align: middle;\n",
       "    }\n",
       "\n",
       "    .dataframe tbody tr th {\n",
       "        vertical-align: top;\n",
       "    }\n",
       "\n",
       "    .dataframe thead th {\n",
       "        text-align: right;\n",
       "    }\n",
       "</style>\n",
       "<table border=\"1\" class=\"dataframe\">\n",
       "  <thead>\n",
       "    <tr style=\"text-align: right;\">\n",
       "      <th></th>\n",
       "      <th>Home Ownership</th>\n",
       "      <th>Annual Income</th>\n",
       "      <th>Years in current job</th>\n",
       "      <th>Tax Liens</th>\n",
       "      <th>Number of Open Accounts</th>\n",
       "      <th>Years of Credit History</th>\n",
       "      <th>Maximum Open Credit</th>\n",
       "      <th>Number of Credit Problems</th>\n",
       "      <th>Bankruptcies</th>\n",
       "      <th>Purpose</th>\n",
       "      <th>...</th>\n",
       "      <th>Home Ownership_Home Mortgage</th>\n",
       "      <th>Home Ownership_Own Home</th>\n",
       "      <th>Home Ownership_Rent</th>\n",
       "      <th>Annual Income Outlier</th>\n",
       "      <th>Number of Open Accounts Outlier</th>\n",
       "      <th>Years of Credit History Outlier</th>\n",
       "      <th>Maximum Open Credit Outlier</th>\n",
       "      <th>Current Loan Amount Outlier</th>\n",
       "      <th>Current Credit Balance Outlier</th>\n",
       "      <th>Monthly Debt Outlier</th>\n",
       "    </tr>\n",
       "  </thead>\n",
       "  <tbody>\n",
       "    <tr>\n",
       "      <th>0</th>\n",
       "      <td>Own Home</td>\n",
       "      <td>482087.0</td>\n",
       "      <td>10+ years</td>\n",
       "      <td>0.0</td>\n",
       "      <td>11.0</td>\n",
       "      <td>26.3</td>\n",
       "      <td>685960.0</td>\n",
       "      <td>1.0</td>\n",
       "      <td>1.0</td>\n",
       "      <td>debt consolidation</td>\n",
       "      <td>...</td>\n",
       "      <td>0</td>\n",
       "      <td>1</td>\n",
       "      <td>0</td>\n",
       "      <td>0</td>\n",
       "      <td>0</td>\n",
       "      <td>0</td>\n",
       "      <td>0</td>\n",
       "      <td>1</td>\n",
       "      <td>0</td>\n",
       "      <td>0</td>\n",
       "    </tr>\n",
       "    <tr>\n",
       "      <th>1</th>\n",
       "      <td>Own Home</td>\n",
       "      <td>1025487.0</td>\n",
       "      <td>10+ years</td>\n",
       "      <td>0.0</td>\n",
       "      <td>15.0</td>\n",
       "      <td>15.3</td>\n",
       "      <td>1181730.0</td>\n",
       "      <td>0.0</td>\n",
       "      <td>0.0</td>\n",
       "      <td>debt consolidation</td>\n",
       "      <td>...</td>\n",
       "      <td>0</td>\n",
       "      <td>1</td>\n",
       "      <td>0</td>\n",
       "      <td>0</td>\n",
       "      <td>0</td>\n",
       "      <td>0</td>\n",
       "      <td>0</td>\n",
       "      <td>0</td>\n",
       "      <td>0</td>\n",
       "      <td>0</td>\n",
       "    </tr>\n",
       "    <tr>\n",
       "      <th>2</th>\n",
       "      <td>Home Mortgage</td>\n",
       "      <td>751412.0</td>\n",
       "      <td>8 years</td>\n",
       "      <td>0.0</td>\n",
       "      <td>11.0</td>\n",
       "      <td>34.4</td>\n",
       "      <td>1182434.0</td>\n",
       "      <td>0.0</td>\n",
       "      <td>0.0</td>\n",
       "      <td>debt consolidation</td>\n",
       "      <td>...</td>\n",
       "      <td>1</td>\n",
       "      <td>0</td>\n",
       "      <td>0</td>\n",
       "      <td>0</td>\n",
       "      <td>0</td>\n",
       "      <td>1</td>\n",
       "      <td>0</td>\n",
       "      <td>1</td>\n",
       "      <td>0</td>\n",
       "      <td>0</td>\n",
       "    </tr>\n",
       "    <tr>\n",
       "      <th>3</th>\n",
       "      <td>Own Home</td>\n",
       "      <td>805068.0</td>\n",
       "      <td>6 years</td>\n",
       "      <td>0.0</td>\n",
       "      <td>8.0</td>\n",
       "      <td>22.5</td>\n",
       "      <td>147400.0</td>\n",
       "      <td>1.0</td>\n",
       "      <td>1.0</td>\n",
       "      <td>debt consolidation</td>\n",
       "      <td>...</td>\n",
       "      <td>0</td>\n",
       "      <td>1</td>\n",
       "      <td>0</td>\n",
       "      <td>0</td>\n",
       "      <td>0</td>\n",
       "      <td>0</td>\n",
       "      <td>0</td>\n",
       "      <td>0</td>\n",
       "      <td>0</td>\n",
       "      <td>0</td>\n",
       "    </tr>\n",
       "    <tr>\n",
       "      <th>4</th>\n",
       "      <td>Rent</td>\n",
       "      <td>776264.0</td>\n",
       "      <td>8 years</td>\n",
       "      <td>0.0</td>\n",
       "      <td>13.0</td>\n",
       "      <td>13.6</td>\n",
       "      <td>385836.0</td>\n",
       "      <td>1.0</td>\n",
       "      <td>0.0</td>\n",
       "      <td>debt consolidation</td>\n",
       "      <td>...</td>\n",
       "      <td>0</td>\n",
       "      <td>0</td>\n",
       "      <td>1</td>\n",
       "      <td>0</td>\n",
       "      <td>0</td>\n",
       "      <td>0</td>\n",
       "      <td>0</td>\n",
       "      <td>0</td>\n",
       "      <td>0</td>\n",
       "      <td>0</td>\n",
       "    </tr>\n",
       "  </tbody>\n",
       "</table>\n",
       "<p>5 rows × 27 columns</p>\n",
       "</div>"
      ],
      "text/plain": [
       "  Home Ownership  Annual Income Years in current job  Tax Liens  \\\n",
       "0       Own Home       482087.0            10+ years        0.0   \n",
       "1       Own Home      1025487.0            10+ years        0.0   \n",
       "2  Home Mortgage       751412.0              8 years        0.0   \n",
       "3       Own Home       805068.0              6 years        0.0   \n",
       "4           Rent       776264.0              8 years        0.0   \n",
       "\n",
       "   Number of Open Accounts  Years of Credit History  Maximum Open Credit  \\\n",
       "0                     11.0                     26.3             685960.0   \n",
       "1                     15.0                     15.3            1181730.0   \n",
       "2                     11.0                     34.4            1182434.0   \n",
       "3                      8.0                     22.5             147400.0   \n",
       "4                     13.0                     13.6             385836.0   \n",
       "\n",
       "   Number of Credit Problems  Bankruptcies             Purpose  ...  \\\n",
       "0                        1.0           1.0  debt consolidation  ...   \n",
       "1                        0.0           0.0  debt consolidation  ...   \n",
       "2                        0.0           0.0  debt consolidation  ...   \n",
       "3                        1.0           1.0  debt consolidation  ...   \n",
       "4                        1.0           0.0  debt consolidation  ...   \n",
       "\n",
       "  Home Ownership_Home Mortgage  Home Ownership_Own Home  Home Ownership_Rent  \\\n",
       "0                            0                        1                    0   \n",
       "1                            0                        1                    0   \n",
       "2                            1                        0                    0   \n",
       "3                            0                        1                    0   \n",
       "4                            0                        0                    1   \n",
       "\n",
       "   Annual Income Outlier  Number of Open Accounts Outlier  \\\n",
       "0                      0                                0   \n",
       "1                      0                                0   \n",
       "2                      0                                0   \n",
       "3                      0                                0   \n",
       "4                      0                                0   \n",
       "\n",
       "   Years of Credit History Outlier  Maximum Open Credit Outlier  \\\n",
       "0                                0                            0   \n",
       "1                                0                            0   \n",
       "2                                1                            0   \n",
       "3                                0                            0   \n",
       "4                                0                            0   \n",
       "\n",
       "   Current Loan Amount Outlier  Current Credit Balance Outlier  \\\n",
       "0                            1                               0   \n",
       "1                            0                               0   \n",
       "2                            1                               0   \n",
       "3                            0                               0   \n",
       "4                            0                               0   \n",
       "\n",
       "   Monthly Debt Outlier  \n",
       "0                     0  \n",
       "1                     0  \n",
       "2                     0  \n",
       "3                     0  \n",
       "4                     0  \n",
       "\n",
       "[5 rows x 27 columns]"
      ]
     },
     "execution_count": 180,
     "metadata": {},
     "output_type": "execute_result"
    }
   ],
   "source": [
    "#удаляем Months since last delinquent\n",
    "df.drop('Months since last delinquent', axis=1, inplace=True)\n",
    "df.head()"
   ]
  },
  {
   "cell_type": "code",
   "execution_count": 181,
   "id": "6476227b",
   "metadata": {},
   "outputs": [
    {
     "data": {
      "text/plain": [
       "Home Ownership                        0\n",
       "Annual Income                      1557\n",
       "Years in current job                  0\n",
       "Tax Liens                             0\n",
       "Number of Open Accounts               0\n",
       "Years of Credit History               0\n",
       "Maximum Open Credit                   0\n",
       "Number of Credit Problems             0\n",
       "Bankruptcies                          0\n",
       "Purpose                               0\n",
       "Term                                  0\n",
       "Current Loan Amount                   0\n",
       "Current Credit Balance                0\n",
       "Monthly Debt                          0\n",
       "Credit Score                       1557\n",
       "Credit Default                        0\n",
       "Home Ownership_Have Mortgage          0\n",
       "Home Ownership_Home Mortgage          0\n",
       "Home Ownership_Own Home               0\n",
       "Home Ownership_Rent                   0\n",
       "Annual Income Outlier                 0\n",
       "Number of Open Accounts Outlier       0\n",
       "Years of Credit History Outlier       0\n",
       "Maximum Open Credit Outlier           0\n",
       "Current Loan Amount Outlier           0\n",
       "Current Credit Balance Outlier        0\n",
       "Monthly Debt Outlier                  0\n",
       "dtype: int64"
      ]
     },
     "execution_count": 181,
     "metadata": {},
     "output_type": "execute_result"
    }
   ],
   "source": [
    "len(df) - df.count()"
   ]
  },
  {
   "cell_type": "code",
   "execution_count": 182,
   "id": "71fd1a3e",
   "metadata": {},
   "outputs": [],
   "source": [
    "\"\"\"функция для предобработки выбросов и пропусков, изменения и генерации признаков\"\"\"\n",
    "def data_preprocessing(raw_df):\n",
    "    \n",
    "    # Make a copy of DataFrame\n",
    "    df = raw_df.copy()  \n",
    "    \n",
    "    # Some constants\n",
    "    wired_income = np.percentile(df.loc[df['Annual Income'].notna(),'Annual Income'], 97)\n",
    "    wired_accounts = np.percentile(df.loc[df['Number of Open Accounts'].notna(),'Number of Open Accounts'], 99)\n",
    "    wired_history = np.percentile(df.loc[df['Years of Credit History'].notna(),'Years of Credit History'], 97)\n",
    "    wired_credit = np.percentile(df.loc[df['Maximum Open Credit'].notna(),'Maximum Open Credit'], 97.5)\n",
    "    wired_amount = np.percentile(df.loc[df['Current Loan Amount'].notna(),'Current Loan Amount'], 88)\n",
    "    wired_balance = np.percentile(df.loc[df['Current Credit Balance'].notna(),'Current Credit Balance'], 97.5)\n",
    "    wired_debt = np.percentile(df.loc[df['Monthly Debt'].notna(),'Monthly Debt'], 97.5)\n",
    "        \n",
    "    # Converts types\n",
    "    object_cols = df.select_dtypes(include='object').columns.tolist()\n",
    "    float_cols = df.select_dtypes(include='float64').columns.tolist()\n",
    "\n",
    "    df[object_cols] = df[object_cols].astype('category')\n",
    "    df[float_cols] = df[float_cols].astype('float32')\n",
    "    \n",
    "    # Working with outliers section\n",
    "    # Annual Income\n",
    "    df['Annual Income Outlier'] = 0\n",
    "    df.loc[df['Annual Income'] > wired_income, 'Annual Income Outlier'] = 1\n",
    "    df.loc[df['Annual Income'] > wired_income, 'Annual Income'] = wired_income\n",
    "    \n",
    "    # Number of Open Accounts\n",
    "    df['Number of Open Accounts Outlier'] = 0\n",
    "    df.loc[df['Number of Open Accounts'] > wired_accounts, 'Number of Open Accounts Outlier'] = 1\n",
    "    df.loc[df['Number of Open Accounts'] > wired_accounts, 'Number of Open Accounts'] = wired_accounts\n",
    "    \n",
    "    # Years of Credit History\n",
    "    df['Years of Credit History Outlier'] = 0\n",
    "    df.loc[df['Years of Credit History'] > wired_history, 'Years of Credit History Outlier'] = 1\n",
    "    df.loc[df['Years of Credit History'] > wired_history, 'Years of Credit History'] = wired_history\n",
    "    \n",
    "    # Maximum Open Credit\n",
    "    condition = ((df['Maximum Open Credit'] == 0) | (df['Maximum Open Credit'] > df['Maximum Open Credit'].quantile(.975)))\n",
    "    df['Maximum Open Credit Outlier'] = 0\n",
    "    df.loc[condition, 'Maximum Open Credit Outlier'] = 1\n",
    "    df.loc[condition, 'Maximum Open Credit'] = wired_credit\n",
    "    \n",
    "    # Current Loan Amount\n",
    "    df['Current Loan Amount Outlier'] = 0\n",
    "    df.loc[df['Current Loan Amount'] > wired_amount, 'Current Loan Amount Outlier'] = 1\n",
    "    df.loc[df['Current Loan Amount'] > wired_amount, 'Current Loan Amount'] = wired_amount\n",
    "    \n",
    "    # Current Credit Balance\n",
    "    df['Current Credit Balance Outlier'] = 0\n",
    "    df.loc[df['Current Credit Balance'] > wired_balance, 'Current Credit Balance Outlier'] = 1\n",
    "    df.loc[df['Current Credit Balance'] > wired_balance, 'Current Credit Balance'] = wired_balance\n",
    "    \n",
    "    # Monthly Debt\n",
    "    df['Monthly Debt Outlier'] = 0\n",
    "    df.loc[df['Monthly Debt'] > wired_debt, 'Monthly Debt Outlier'] = 1\n",
    "    df.loc[df['Monthly Debt'] > wired_debt, 'Monthly Debt'] = wired_debt\n",
    "    \n",
    "    # Fill NaN section\n",
    "    # Annual Income\n",
    "    TARGET_FEATURE_Annual_Income = ['Monthly Debt', 'Current Credit Balance', 'Maximum Open Credit','Current Loan Amount',\n",
    "                                    'Years of Credit History', 'Number of Open Accounts',]\n",
    "    data_Annual_Income = df.loc[(df['Annual Income'].notnull()), TARGET_FEATURE_Annual_Income + ['Annual Income']]\n",
    "    model_Annual_Income = RandomForestRegressor(n_estimators=400, max_depth=9, random_state=21)\n",
    "    model_Annual_Income.fit(data_Annual_Income[TARGET_FEATURE_Annual_Income], data_Annual_Income['Annual Income'])\n",
    "    df.loc[(df['Annual Income'].isnull()), ['Annual Income']] = model_Annual_Income.predict(df.loc[(df['Annual Income'].isnull()), TARGET_FEATURE_Annual_Income])\n",
    "    \n",
    "    # Bankruptcies\n",
    "    df.loc[df['Bankruptcies'].isna(), 'Bankruptcies'] = 0\n",
    "    \n",
    "    # Credit Score\n",
    "    TARGET_FEATURE_Credit_Score = ['Monthly Debt', 'Current Credit Balance', 'Maximum Open Credit', 'Current Loan Amount', \n",
    "                     'Years of Credit History', 'Number of Open Accounts']\n",
    "    data_Credit_Score = df.loc[(df['Credit Score'].notnull()), TARGET_FEATURE_Credit_Score + ['Credit Score']]\n",
    "    model_Credit_Score = RandomForestRegressor(n_estimators=400, max_depth=9, random_state=21)\n",
    "    model_Credit_Score.fit(data_Credit_Score[TARGET_FEATURE_Credit_Score], data_Credit_Score['Credit Score'])\n",
    "    df.loc[(df['Credit Score'].isnull()), ['Credit Score']] = model_Credit_Score.predict(df.loc[(df['Credit Score'].isnull()), TARGET_FEATURE_Credit_Score])\n",
    "    \n",
    "    # Years in current job\n",
    "    df.loc[df['Years in current job'].isna(), 'Years in current job'] = '< 1 year'\n",
    "    \n",
    "    # Months since last delinquent\n",
    "    df = df.drop(columns=['Months since last delinquent'])\n",
    "    \n",
    "    if TARGET in df.columns.tolist():\n",
    "        df.dropna(inplace=True)\n",
    "        df[TARGET] = df[TARGET].astype('int8')       \n",
    "        \n",
    "    #Some changes\n",
    "    # Term\n",
    "    df['Term'] = pd.Series(df['Term'].map({'Short Term': 0, 'Long Term': 1}), dtype=np.int8)\n",
    "    \n",
    "    # Years in current job\n",
    "    job_years_dict = {'< 1 year': 0,\n",
    "                      '1 year': 1,\n",
    "                      '2 years': 2,\n",
    "                      '3 years': 3,\n",
    "                      '4 years': 4,\n",
    "                      '5 years': 5,\n",
    "                      '6 years': 6,\n",
    "                      '7 years': 7,\n",
    "                      '8 years': 8,\n",
    "                      '9 years': 9,\n",
    "                      '10+ years': 10}\n",
    "    df['Years in current job'] = pd.Series(df['Years in current job'].map(job_years_dict), dtype=np.int8)\n",
    "    \n",
    "    # Credit Score Cat\n",
    "    df['Credit Score Cat'] = 0\n",
    "    df.loc[(df['Credit Score'] >= 580) & (df['Credit Score'] < 670), 'Credit Score Cat'] = 1\n",
    "    df.loc[(df['Credit Score'] >= 670) & (df['Credit Score'] < 730), 'Credit Score Cat'] = 2\n",
    "    df.loc[(df['Credit Score'] >= 730) & (df['Credit Score'] < 735), 'Credit Score Cat'] = 3\n",
    "    df.loc[(df['Credit Score'] >= 735) & (df['Credit Score'] < 755), 'Credit Score Cat'] = 4\n",
    "    df.loc[df['Credit Score'] > 755, 'Credit Score Cat'] = -1 \n",
    "    \n",
    "    df['No Tax Liens'] = 0\n",
    "    df.loc[(df['Tax Liens'] == 0), 'No Tax Liens'] = 1\n",
    "    df['No Credit Problems'] = 0\n",
    "    df.loc[(df['Number of Credit Problems'] == 0), 'No Credit Problems'] = 1\n",
    "    df['No Bankruptcies'] = 0\n",
    "    df.loc[(df['Bankruptcies'] == 0), 'No Bankruptcies'] = 1   \n",
    "    \n",
    "    # Makes dummies\n",
    "    df = pd.get_dummies(df, drop_first=True)\n",
    "    renew_prop = 'Purpose_renewable energy'\n",
    "    if renew_prop not in df.columns.tolist():\n",
    "        df[renew_prop] = 0\n",
    "    \n",
    "   \n",
    "    return df\n",
    "    "
   ]
  },
  {
   "cell_type": "markdown",
   "id": "0aa93571",
   "metadata": {},
   "source": [
    "### 4. Анализ данных <a class=\"anchor\" id=\"course_project_review\"></a>"
   ]
  },
  {
   "cell_type": "code",
   "execution_count": 183,
   "id": "248de00d",
   "metadata": {},
   "outputs": [
    {
     "data": {
      "text/html": [
       "<div>\n",
       "<style scoped>\n",
       "    .dataframe tbody tr th:only-of-type {\n",
       "        vertical-align: middle;\n",
       "    }\n",
       "\n",
       "    .dataframe tbody tr th {\n",
       "        vertical-align: top;\n",
       "    }\n",
       "\n",
       "    .dataframe thead th {\n",
       "        text-align: right;\n",
       "    }\n",
       "</style>\n",
       "<table border=\"1\" class=\"dataframe\">\n",
       "  <thead>\n",
       "    <tr style=\"text-align: right;\">\n",
       "      <th></th>\n",
       "      <th>Home Ownership</th>\n",
       "      <th>Annual Income</th>\n",
       "      <th>Years in current job</th>\n",
       "      <th>Tax Liens</th>\n",
       "      <th>Number of Open Accounts</th>\n",
       "      <th>Years of Credit History</th>\n",
       "      <th>Maximum Open Credit</th>\n",
       "      <th>Number of Credit Problems</th>\n",
       "      <th>Months since last delinquent</th>\n",
       "      <th>Bankruptcies</th>\n",
       "      <th>Purpose</th>\n",
       "      <th>Term</th>\n",
       "      <th>Current Loan Amount</th>\n",
       "      <th>Current Credit Balance</th>\n",
       "      <th>Monthly Debt</th>\n",
       "      <th>Credit Score</th>\n",
       "      <th>Credit Default</th>\n",
       "    </tr>\n",
       "  </thead>\n",
       "  <tbody>\n",
       "    <tr>\n",
       "      <th>0</th>\n",
       "      <td>Own Home</td>\n",
       "      <td>482087.0</td>\n",
       "      <td>NaN</td>\n",
       "      <td>0.0</td>\n",
       "      <td>11.0</td>\n",
       "      <td>26.3</td>\n",
       "      <td>685960.0</td>\n",
       "      <td>1.0</td>\n",
       "      <td>NaN</td>\n",
       "      <td>1.0</td>\n",
       "      <td>debt consolidation</td>\n",
       "      <td>Short Term</td>\n",
       "      <td>99999999.0</td>\n",
       "      <td>47386.0</td>\n",
       "      <td>7914.0</td>\n",
       "      <td>749.0</td>\n",
       "      <td>0</td>\n",
       "    </tr>\n",
       "    <tr>\n",
       "      <th>1</th>\n",
       "      <td>Own Home</td>\n",
       "      <td>1025487.0</td>\n",
       "      <td>10+ years</td>\n",
       "      <td>0.0</td>\n",
       "      <td>15.0</td>\n",
       "      <td>15.3</td>\n",
       "      <td>1181730.0</td>\n",
       "      <td>0.0</td>\n",
       "      <td>NaN</td>\n",
       "      <td>0.0</td>\n",
       "      <td>debt consolidation</td>\n",
       "      <td>Long Term</td>\n",
       "      <td>264968.0</td>\n",
       "      <td>394972.0</td>\n",
       "      <td>18373.0</td>\n",
       "      <td>737.0</td>\n",
       "      <td>1</td>\n",
       "    </tr>\n",
       "    <tr>\n",
       "      <th>2</th>\n",
       "      <td>Home Mortgage</td>\n",
       "      <td>751412.0</td>\n",
       "      <td>8 years</td>\n",
       "      <td>0.0</td>\n",
       "      <td>11.0</td>\n",
       "      <td>35.0</td>\n",
       "      <td>1182434.0</td>\n",
       "      <td>0.0</td>\n",
       "      <td>NaN</td>\n",
       "      <td>0.0</td>\n",
       "      <td>debt consolidation</td>\n",
       "      <td>Short Term</td>\n",
       "      <td>99999999.0</td>\n",
       "      <td>308389.0</td>\n",
       "      <td>13651.0</td>\n",
       "      <td>742.0</td>\n",
       "      <td>0</td>\n",
       "    </tr>\n",
       "    <tr>\n",
       "      <th>3</th>\n",
       "      <td>Own Home</td>\n",
       "      <td>805068.0</td>\n",
       "      <td>6 years</td>\n",
       "      <td>0.0</td>\n",
       "      <td>8.0</td>\n",
       "      <td>22.5</td>\n",
       "      <td>147400.0</td>\n",
       "      <td>1.0</td>\n",
       "      <td>NaN</td>\n",
       "      <td>1.0</td>\n",
       "      <td>debt consolidation</td>\n",
       "      <td>Short Term</td>\n",
       "      <td>121396.0</td>\n",
       "      <td>95855.0</td>\n",
       "      <td>11338.0</td>\n",
       "      <td>694.0</td>\n",
       "      <td>0</td>\n",
       "    </tr>\n",
       "    <tr>\n",
       "      <th>4</th>\n",
       "      <td>Rent</td>\n",
       "      <td>776264.0</td>\n",
       "      <td>8 years</td>\n",
       "      <td>0.0</td>\n",
       "      <td>13.0</td>\n",
       "      <td>13.6</td>\n",
       "      <td>385836.0</td>\n",
       "      <td>1.0</td>\n",
       "      <td>NaN</td>\n",
       "      <td>0.0</td>\n",
       "      <td>debt consolidation</td>\n",
       "      <td>Short Term</td>\n",
       "      <td>125840.0</td>\n",
       "      <td>93309.0</td>\n",
       "      <td>7180.0</td>\n",
       "      <td>719.0</td>\n",
       "      <td>0</td>\n",
       "    </tr>\n",
       "  </tbody>\n",
       "</table>\n",
       "</div>"
      ],
      "text/plain": [
       "  Home Ownership  Annual Income Years in current job  Tax Liens  \\\n",
       "0       Own Home       482087.0                  NaN        0.0   \n",
       "1       Own Home      1025487.0            10+ years        0.0   \n",
       "2  Home Mortgage       751412.0              8 years        0.0   \n",
       "3       Own Home       805068.0              6 years        0.0   \n",
       "4           Rent       776264.0              8 years        0.0   \n",
       "\n",
       "   Number of Open Accounts  Years of Credit History  Maximum Open Credit  \\\n",
       "0                     11.0                     26.3             685960.0   \n",
       "1                     15.0                     15.3            1181730.0   \n",
       "2                     11.0                     35.0            1182434.0   \n",
       "3                      8.0                     22.5             147400.0   \n",
       "4                     13.0                     13.6             385836.0   \n",
       "\n",
       "   Number of Credit Problems  Months since last delinquent  Bankruptcies  \\\n",
       "0                        1.0                           NaN           1.0   \n",
       "1                        0.0                           NaN           0.0   \n",
       "2                        0.0                           NaN           0.0   \n",
       "3                        1.0                           NaN           1.0   \n",
       "4                        1.0                           NaN           0.0   \n",
       "\n",
       "              Purpose        Term  Current Loan Amount  \\\n",
       "0  debt consolidation  Short Term           99999999.0   \n",
       "1  debt consolidation   Long Term             264968.0   \n",
       "2  debt consolidation  Short Term           99999999.0   \n",
       "3  debt consolidation  Short Term             121396.0   \n",
       "4  debt consolidation  Short Term             125840.0   \n",
       "\n",
       "   Current Credit Balance  Monthly Debt  Credit Score  Credit Default  \n",
       "0                 47386.0        7914.0         749.0               0  \n",
       "1                394972.0       18373.0         737.0               1  \n",
       "2                308389.0       13651.0         742.0               0  \n",
       "3                 95855.0       11338.0         694.0               0  \n",
       "4                 93309.0        7180.0         719.0               0  "
      ]
     },
     "execution_count": 183,
     "metadata": {},
     "output_type": "execute_result"
    }
   ],
   "source": [
    "df = pd.read_csv(TRAIN_DATASET_PATH)\n",
    "df.head()"
   ]
  },
  {
   "cell_type": "code",
   "execution_count": 184,
   "id": "a02cb466",
   "metadata": {},
   "outputs": [],
   "source": [
    "TARGET = 'Credit Default'\n"
   ]
  },
  {
   "cell_type": "code",
   "execution_count": null,
   "id": "f5c34ad0",
   "metadata": {},
   "outputs": [],
   "source": [
    "df = data_preprocessing(df)\n",
    "df.head()"
   ]
  },
  {
   "cell_type": "code",
   "execution_count": null,
   "id": "a2b6295c",
   "metadata": {},
   "outputs": [],
   "source": [
    "df.describe().T"
   ]
  },
  {
   "cell_type": "code",
   "execution_count": null,
   "id": "59592255",
   "metadata": {},
   "outputs": [],
   "source": [
    "df.info"
   ]
  },
  {
   "cell_type": "code",
   "execution_count": null,
   "id": "70abf521",
   "metadata": {},
   "outputs": [],
   "source": [
    "BASE_FEATURE_NAMES = df.columns.drop(TARGET).tolist()\n",
    "BASE_FEATURE_NAMES"
   ]
  },
  {
   "cell_type": "code",
   "execution_count": null,
   "id": "9139dd65",
   "metadata": {},
   "outputs": [],
   "source": [
    "test_df = pd.read_csv(TEST_DATASET_PATH)\n",
    "test_df.head()"
   ]
  },
  {
   "cell_type": "code",
   "execution_count": null,
   "id": "b43c831e",
   "metadata": {},
   "outputs": [],
   "source": [
    "test_df.describe().T"
   ]
  },
  {
   "cell_type": "code",
   "execution_count": null,
   "id": "89bed1ca",
   "metadata": {},
   "outputs": [],
   "source": [
    "# преобразуем тестовый датасет\n",
    "test_df = data_preprocessing(test_df)\n",
    "test_df.head()"
   ]
  },
  {
   "cell_type": "code",
   "execution_count": null,
   "id": "b0bcd946",
   "metadata": {},
   "outputs": [],
   "source": [
    "test_df.describe().T"
   ]
  },
  {
   "cell_type": "code",
   "execution_count": null,
   "id": "a21d11b2",
   "metadata": {},
   "outputs": [],
   "source": [
    "def heatmap(df):\n",
    "    corr = df.corr()\n",
    "\n",
    "    plt.figure(figsize=(10, 10))\n",
    "\n",
    "    ax = sns.heatmap(\n",
    "        corr, \n",
    "        vmin=-1, vmax=1, center=0,\n",
    "        cmap=sns.diverging_palette(10, 240, n=200),\n",
    "        square=True\n",
    "    )\n",
    "\n",
    "    ax.set_xticklabels(\n",
    "        ax.get_xticklabels(),\n",
    "        rotation=45,\n",
    "        horizontalalignment='right'\n",
    "    )\n",
    "    plt.show()"
   ]
  },
  {
   "cell_type": "code",
   "execution_count": null,
   "id": "0055f0a9",
   "metadata": {},
   "outputs": [],
   "source": [
    "heatmap(df.select_dtypes(exclude='uint8'))"
   ]
  },
  {
   "cell_type": "code",
   "execution_count": null,
   "id": "7b7c6df0",
   "metadata": {},
   "outputs": [],
   "source": [
    "corr_with_target = df[BASE_FEATURE_NAMES + [TARGET]].corr().iloc[:-1, -1].sort_values(ascending=False)\n",
    "\n",
    "plt.figure(figsize=(10, 8))\n",
    "\n",
    "sns.barplot(x=corr_with_target.values, y=corr_with_target.index)\n",
    "\n",
    "plt.title('Correlation with target variable')\n",
    "plt.show()"
   ]
  },
  {
   "cell_type": "code",
   "execution_count": null,
   "id": "ae490aac",
   "metadata": {},
   "outputs": [],
   "source": [
    "# Оценка признака \"Credit Score\" в разрезе целевой переменной\n",
    "limit_bal_with_target_s = df[['Credit Score', TARGET]].sample(1000)\n",
    "limit_bal_s = limit_bal_with_target_s['Credit Score']\n",
    "limit_bal_target_0 = limit_bal_s[limit_bal_with_target_s[TARGET] == 0]\n",
    "limit_bal_target_1 = limit_bal_s[limit_bal_with_target_s[TARGET] == 1]\n",
    "\n",
    "plt.figure(figsize=(10, 5))\n",
    "\n",
    "sns.kdeplot(limit_bal_target_0, shade=True, label='No default', color='g')\n",
    "sns.kdeplot(limit_bal_target_1, shade=True, label='Default', color='r')\n",
    "\n",
    "plt.xlabel('Credit Score')\n",
    "plt.title('Credit ScoreL grouped by target variable')\n",
    "plt.show()"
   ]
  },
  {
   "cell_type": "code",
   "execution_count": null,
   "id": "4f962bff",
   "metadata": {},
   "outputs": [],
   "source": [
    "df['Credit Score'].value_counts()"
   ]
  },
  {
   "cell_type": "code",
   "execution_count": null,
   "id": "bd5f248a",
   "metadata": {},
   "outputs": [],
   "source": [
    "# Оценка признака \"Term\" в разрезе целевой переменной\n",
    "plt.figure(figsize=(10, 8))\n",
    "\n",
    "sns.countplot(x=\"Term\", hue=TARGET, data=df)\n",
    "plt.title('Term grouped by target variable')\n",
    "plt.legend(title='Target', loc='upper right')\n",
    "\n",
    "plt.show()"
   ]
  },
  {
   "cell_type": "code",
   "execution_count": null,
   "id": "826375ae",
   "metadata": {},
   "outputs": [],
   "source": [
    "hist_qq('Credit Score')"
   ]
  },
  {
   "cell_type": "code",
   "execution_count": null,
   "id": "901b17cf",
   "metadata": {},
   "outputs": [],
   "source": [
    "hist_qq('Term')"
   ]
  },
  {
   "cell_type": "code",
   "execution_count": null,
   "id": "20ccfe3c",
   "metadata": {},
   "outputs": [],
   "source": [
    "# График зависимости величины кредита от годового дохода с нанесением целевого класса\n",
    "plt.figure(figsize=(12,12))\n",
    "df.plot(kind=\"scatter\", x=\"Annual Income\", y=\"Current Loan Amount\", alpha=0.4,\n",
    "    c=\"Credit Default\", cmap=plt.get_cmap(\"jet\"), colorbar=True, figsize=(12,12),\n",
    "    sharex=False)\n",
    "plt.grid(True)\n",
    "plt.show()"
   ]
  },
  {
   "cell_type": "code",
   "execution_count": null,
   "id": "e85094b5",
   "metadata": {},
   "outputs": [],
   "source": [
    "# распределение величины кредита\n",
    "plt.style.use('seaborn-bright')\n",
    "plt.figure(figsize=(12,12))\n",
    "sns.distplot(df['Current Loan Amount'])\n",
    "plt.title('Distribution of Current Loan Amount')\n",
    "plt.grid(True)"
   ]
  },
  {
   "cell_type": "code",
   "execution_count": null,
   "id": "b97d3abc",
   "metadata": {},
   "outputs": [],
   "source": [
    "df['Credit Score Cat'].value_counts()"
   ]
  },
  {
   "cell_type": "code",
   "execution_count": null,
   "id": "cd736a50",
   "metadata": {},
   "outputs": [],
   "source": [
    "def get_classification_report(y_train_true, y_train_pred, y_test_true, y_test_pred):\n",
    "    print('TRAIN\\n\\n' + classification_report(y_train_true, y_train_pred))\n",
    "    print('TEST\\n\\n' + classification_report(y_test_true, y_test_pred))\n",
    "    print('CONFUSION MATRIX\\n')\n",
    "    print(pd.crosstab(y_test_true, y_test_pred))"
   ]
  },
  {
   "cell_type": "code",
   "execution_count": null,
   "id": "d55d1468",
   "metadata": {},
   "outputs": [],
   "source": [
    "def balance_df_by_target(df, target_name):\n",
    "\n",
    "    target_counts = df[target_name].value_counts()\n",
    "\n",
    "    major_class_name = target_counts.argmax()\n",
    "    minor_class_name = target_counts.argmin()\n",
    "\n",
    "    disbalance_coeff = int(target_counts[major_class_name] / target_counts[minor_class_name]) - 1\n",
    "\n",
    "    for i in range(disbalance_coeff):\n",
    "        sample = df[df[target_name] == minor_class_name].sample(target_counts[minor_class_name])\n",
    "        df = df.append(sample, ignore_index=True)\n",
    "\n",
    "    return df.sample(frac=1) "
   ]
  },
  {
   "cell_type": "code",
   "execution_count": null,
   "id": "1fac119e",
   "metadata": {},
   "outputs": [],
   "source": []
  },
  {
   "cell_type": "markdown",
   "id": "56c96a46",
   "metadata": {},
   "source": [
    "### 5. Отбор признаков. Балансировка классов.  <a class=\"anchor\" id=\"course_project_review\"></a>"
   ]
  },
  {
   "cell_type": "code",
   "execution_count": null,
   "id": "b0bdfc08",
   "metadata": {},
   "outputs": [],
   "source": [
    "BASE_FEATURE_NAMES"
   ]
  },
  {
   "cell_type": "code",
   "execution_count": null,
   "id": "64aa6df7",
   "metadata": {},
   "outputs": [],
   "source": [
    "FEATURE_NAMES_SELECTED = ['Annual Income',\n",
    " 'Years in current job',\n",
    " 'Tax Liens',\n",
    " 'Number of Open Accounts',\n",
    " 'Years of Credit History',\n",
    " 'Maximum Open Credit',\n",
    " 'Number of Credit Problems',\n",
    " 'Bankruptcies',\n",
    " 'Term',\n",
    " 'Current Loan Amount',\n",
    " 'Current Credit Balance',\n",
    " 'Monthly Debt',\n",
    " 'Credit Score',\n",
    " 'Credit Score Cat',\n",
    " 'No Tax Liens',\n",
    " 'No Credit Problems',\n",
    " 'No Bankruptcies',\n",
    " 'Home Ownership_Home Mortgage',\n",
    " 'Home Ownership_Own Home',\n",
    " 'Home Ownership_Rent',\n",
    " 'Purpose_buy a car',\n",
    " 'Purpose_buy house',\n",
    " 'Purpose_debt consolidation',\n",
    " 'Purpose_educational expenses',\n",
    " 'Purpose_home improvements',\n",
    " 'Purpose_major purchase',\n",
    " 'Purpose_medical bills',\n",
    " 'Purpose_moving',\n",
    " 'Purpose_other',\n",
    " 'Purpose_renewable energy',\n",
    " 'Purpose_small business',\n",
    " 'Purpose_take a trip',\n",
    " 'Purpose_vacation',\n",
    " 'Purpose_wedding'\n",
    "                         ]"
   ]
  },
  {
   "cell_type": "code",
   "execution_count": null,
   "id": "7b02c309",
   "metadata": {},
   "outputs": [],
   "source": [
    "df.dtypes"
   ]
  },
  {
   "cell_type": "code",
   "execution_count": null,
   "id": "cdd44bb4",
   "metadata": {},
   "outputs": [],
   "source": [
    "NUMERIC_FEATURE_NAMES = ['Annual Income', 'Years in current job', 'Tax Liens', 'Number of Open Accounts', \n",
    "                         'Number of Open Accounts', 'Years of Credit History', 'Maximum Open Credit', \n",
    "                        'Number of Credit Problems', 'Bankruptcies', 'Term', 'Current Loan Amount', \n",
    "                        'Current Credit Balance', 'Monthly Debt', 'Credit Score', 'Credit Score Cat', \n",
    "                        'No Tax Liens', 'No Credit Problems', 'No Bankruptcies']\n",
    "\n",
    "# Annual Income                      float32\n",
    "# Years in current job                  int8\n",
    "# Tax Liens                          float32\n",
    "# Number of Open Accounts            float32\n",
    "# Years of Credit History            float32\n",
    "# Maximum Open Credit                float32\n",
    "# Number of Credit Problems          float32\n",
    "# Bankruptcies                       float32\n",
    "# Term                                  int8\n",
    "# Current Loan Amount                float32\n",
    "# Current Credit Balance             float32\n",
    "# Monthly Debt                       float32\n",
    "# Credit Score                       float32\n",
    "# Credit Default                        int8\n",
    "# Annual Income Outlier                int64\n",
    "# Number of Open Accounts Outlier      int64\n",
    "# Years of Credit History Outlier      int64\n",
    "# Maximum Open Credit Outlier          int64\n",
    "# Current Loan Amount Outlier          int64\n",
    "# Current Credit Balance Outlier       int64\n",
    "# Monthly Debt Outlier                 int64\n",
    "# Credit Score Cat                     int64\n",
    "# No Tax Liens                         int64\n",
    "# No Credit Problems                   int64\n",
    "# No Bankruptcies                      int64"
   ]
  },
  {
   "cell_type": "code",
   "execution_count": null,
   "id": "6323b99d",
   "metadata": {},
   "outputs": [],
   "source": [
    "#Нормализация данных - с ней результат хуже получается\n",
    "# scaler = StandardScaler()\n",
    "\n",
    "# df_norm = df.copy()\n",
    "# df_norm[NUMERIC_FEATURE_NAMES] = scaler.fit_transform(df_norm[NUMERIC_FEATURE_NAMES])\n",
    "\n",
    "# df = df_norm.copy()"
   ]
  },
  {
   "cell_type": "code",
   "execution_count": null,
   "id": "bae06be4",
   "metadata": {},
   "outputs": [],
   "source": [
    "#Разбиение на train и test\n",
    "X = df[FEATURE_NAMES_SELECTED]\n",
    "y = df[TARGET]\n",
    "\n",
    "X_train, X_test, y_train, y_test = train_test_split(X, y, shuffle=True, test_size=0.25, random_state=21)"
   ]
  },
  {
   "cell_type": "code",
   "execution_count": null,
   "id": "88298101",
   "metadata": {},
   "outputs": [],
   "source": [
    "# делала, результат хуже, убрала\n",
    "# Балансировка целевой переменной\n",
    "# df_for_balancing = pd.concat([X_train, y_train], axis=1)\n",
    "# df_balanced = balance_df_by_target(df_for_balancing, TARGET)\n",
    "    \n",
    "# df_balanced[TARGET].value_counts()"
   ]
  },
  {
   "cell_type": "code",
   "execution_count": null,
   "id": "9eec66ef",
   "metadata": {},
   "outputs": [],
   "source": [
    "# X_train = df_balanced.drop(columns=TARGET)\n",
    "# y_train = df_balanced[TARGET]"
   ]
  },
  {
   "cell_type": "markdown",
   "id": "0e8e169f",
   "metadata": {},
   "source": [
    "### 5. Построение модели.  Борьба с переобучением<a class=\"anchor\" id=\"course_project_review\"></a>"
   ]
  },
  {
   "cell_type": "code",
   "execution_count": null,
   "id": "8ea22ee4",
   "metadata": {},
   "outputs": [],
   "source": [
    "def get_cat_features(df):\n",
    "    \n",
    "    cat_features_list = []\n",
    "    object_cols = df.select_dtypes(include=['object', 'category']).columns.tolist()\n",
    "       \n",
    "    for cf in object_cols:\n",
    "        cat_features_list.append(df.columns.get_loc(cf))\n",
    "    \n",
    "    return cat_features_list"
   ]
  },
  {
   "cell_type": "code",
   "execution_count": null,
   "id": "0d3beeaf",
   "metadata": {},
   "outputs": [],
   "source": [
    "\"\"\"Функция для определения важности параметров\"\"\"\n",
    "def show_feature_importances(feature_names, feature_importances, get_top=None):\n",
    "    feature_importances = pd.DataFrame({'feature': feature_names, 'importance': feature_importances})\n",
    "    feature_importances = feature_importances.sort_values('importance', ascending=False)\n",
    "       \n",
    "    plt.figure(figsize = (20, len(feature_importances) * 0.355))\n",
    "    \n",
    "    sns.barplot(feature_importances['importance'], feature_importances['feature'])\n",
    "    \n",
    "    plt.xlabel('Importance')\n",
    "    plt.title('Importance of features')\n",
    "    plt.show()\n",
    "    \n",
    "    if get_top is not None:\n",
    "        return feature_importances['feature'][:get_top].tolist()"
   ]
  },
  {
   "cell_type": "code",
   "execution_count": null,
   "id": "f3a124f4",
   "metadata": {},
   "outputs": [],
   "source": [
    "frozen_params = {'silent': True,\n",
    "                 'random_state': 21,\n",
    "                 'n_estimators': 1200,\n",
    "                 'eval_metric': 'F1',\n",
    "                 'custom_metric': 'Precision',\n",
    "                 'learning_rate': 0.01,\n",
    "                 'class_weights': [1, 2.2],\n",
    "                 'early_stopping_rounds': 800\n",
    "                }"
   ]
  },
  {
   "cell_type": "code",
   "execution_count": null,
   "id": "249e0c36",
   "metadata": {},
   "outputs": [],
   "source": [
    "# CatBoostClassifier\n",
    "cat_model = catb.CatBoostClassifier(**frozen_params)\n",
    "\n",
    "cat_model.fit(X_train, y_train)"
   ]
  },
  {
   "cell_type": "code",
   "execution_count": null,
   "id": "d3b21343",
   "metadata": {},
   "outputs": [],
   "source": [
    "y_train_pred = cat_model.predict(X_train)\n",
    "y_test_pred = cat_model.predict(X_test)\n",
    "\n",
    "get_classification_report(y_train, y_train_pred, y_test, y_test_pred)"
   ]
  },
  {
   "cell_type": "code",
   "execution_count": null,
   "id": "001ec6d3",
   "metadata": {},
   "outputs": [],
   "source": [
    "#оценка важности признаков\n",
    "important_features_top = show_feature_importances(X.columns, cat_model.feature_importances_, get_top=15)"
   ]
  },
  {
   "cell_type": "code",
   "execution_count": null,
   "id": "c9b9e817",
   "metadata": {},
   "outputs": [],
   "source": [
    "#сохраение финальной модели\n",
    "with open('./course_project_model.pkl', 'wb') as file:\n",
    "    pickle.dump(cat_model, file)"
   ]
  },
  {
   "cell_type": "code",
   "execution_count": null,
   "id": "c0193e05",
   "metadata": {},
   "outputs": [],
   "source": [
    "#делаем предсказание на тестовой выборке\n",
    "test_predictions_1 = cat_model.predict(test_df[FEATURE_NAMES_SELECTED])\n"
   ]
  },
  {
   "cell_type": "code",
   "execution_count": null,
   "id": "3a22b7f0",
   "metadata": {},
   "outputs": [],
   "source": [
    "test_predictions_1"
   ]
  },
  {
   "cell_type": "code",
   "execution_count": null,
   "id": "9d2aa545",
   "metadata": {},
   "outputs": [],
   "source": [
    "test_df['Credit Default'] = test_predictions_1\n",
    "test_df['Credit Default'] "
   ]
  },
  {
   "cell_type": "code",
   "execution_count": null,
   "id": "142365ce",
   "metadata": {},
   "outputs": [],
   "source": [
    "test_df['Credit Default'].describe()"
   ]
  },
  {
   "cell_type": "code",
   "execution_count": null,
   "id": "14eec753",
   "metadata": {},
   "outputs": [],
   "source": [
    "result = test_df['Credit Default']\n",
    "result"
   ]
  },
  {
   "cell_type": "code",
   "execution_count": null,
   "id": "25d62782",
   "metadata": {},
   "outputs": [],
   "source": [
    "result.to_csv('s_tsimbalistaia_predictions.csv', index=False)\n",
    "result.head()"
   ]
  },
  {
   "cell_type": "markdown",
   "id": "8369a867",
   "metadata": {},
   "source": [
    "### 6. Оценка качества. Интерпретация результатов<a class=\"anchor\" id=\"course_project_review\"></a>"
   ]
  },
  {
   "cell_type": "code",
   "execution_count": null,
   "id": "4c323b21",
   "metadata": {},
   "outputs": [],
   "source": [
    "cat_features = get_cat_features(X)\n",
    "pool1 = Pool(data=X_train, label=y_train, cat_features=cat_features)\n",
    "eval_pool = Pool(X_test, y_test, cat_features=cat_features)\n",
    "curve = get_roc_curve(cat_model, eval_pool)\n",
    "(fpr, tpr, thresholds) = curve\n",
    "roc_auc = sklearn.metrics.auc(fpr, tpr)"
   ]
  },
  {
   "cell_type": "code",
   "execution_count": null,
   "id": "6faa79a9",
   "metadata": {},
   "outputs": [],
   "source": [
    "(thresholds, fpr) = get_fpr_curve(curve=curve)\n",
    "(thresholds, fnr) = get_fnr_curve(curve=curve)\n",
    "\n",
    "plt.figure(figsize=(16, 8))\n",
    "lw = 2\n",
    "\n",
    "plt.plot(fpr, tpr, color='darkorange',\n",
    "         lw=lw, label='ROC curve (area = %0.2f)' % roc_auc, alpha=0.5)\n",
    "\n",
    "plt.plot([0, 1], [0, 1], color='navy', lw=lw, linestyle='--', alpha=0.5)\n",
    "\n",
    "plt.xlim([0.0, 1.0])\n",
    "plt.ylim([0.0, 1.05])\n",
    "plt.xticks(fontsize=16)\n",
    "plt.yticks(fontsize=16)\n",
    "plt.grid(True)\n",
    "plt.xlabel('False Positive Rate', fontsize=16)\n",
    "plt.ylabel('True Positive Rate', fontsize=16)\n",
    "plt.title('Receiver operating characteristic', fontsize=20)\n",
    "plt.legend(loc=\"lower right\", fontsize=16)"
   ]
  },
  {
   "cell_type": "code",
   "execution_count": null,
   "id": "4a621bd9",
   "metadata": {},
   "outputs": [],
   "source": [
    "plt.figure(figsize=(16, 8))\n",
    "lw = 2\n",
    "\n",
    "plt.plot(thresholds, fpr, color='blue', lw=lw, label='FPR', alpha=0.5)\n",
    "plt.plot(thresholds, fnr, color='green', lw=lw, label='FNR', alpha=0.5)\n",
    "\n",
    "plt.xlim([0.0, 1.0])\n",
    "plt.ylim([0.0, 1.05])\n",
    "plt.xticks(fontsize=16)\n",
    "plt.yticks(fontsize=16)\n",
    "plt.grid(True)\n",
    "plt.xlabel('Threshold', fontsize=16)\n",
    "plt.ylabel('Error Rate', fontsize=16)\n",
    "plt.title('FPR-FNR curves', fontsize=20)\n",
    "plt.legend(loc=\"lower left\", fontsize=16)"
   ]
  },
  {
   "cell_type": "code",
   "execution_count": null,
   "id": "b8d2b4b8",
   "metadata": {},
   "outputs": [],
   "source": [
    "shap_values = cat_model.get_feature_importance(pool1, type='ShapValues')\n",
    "\n",
    "expected_value = shap_values[0,-1]\n",
    "shap_values = shap_values[:,:-1]\n",
    "\n",
    "print(shap_values.shape)\n",
    "\n",
    "shap.initjs()\n",
    "shap.force_plot(expected_value, shap_values[1,:], X_train.iloc[1,:])"
   ]
  },
  {
   "cell_type": "code",
   "execution_count": null,
   "id": "518920f4",
   "metadata": {},
   "outputs": [],
   "source": [
    "shap.summary_plot(shap_values, X_train)"
   ]
  },
  {
   "cell_type": "markdown",
   "id": "88fea71d",
   "metadata": {},
   "source": [
    "### 7. Выводы<a class=\"anchor\" id=\"course_project_review\"></a>"
   ]
  },
  {
   "cell_type": "markdown",
   "id": "3b8f589a",
   "metadata": {},
   "source": [
    "В целом, найдена сбалансированная модель показывающая примерно равные метрики Precision, Recall и F1. \n",
    "\n",
    "TRAIN\n",
    "\n",
    "              precision    recall  f1-score   support\n",
    "\n",
    "           0       0.90      0.89      0.89      4046\n",
    "           1       0.72      0.75      0.73      1579\n",
    "\n",
    "    accuracy                           0.85      5625\n",
    "   macro avg       0.81      0.82      0.81      5625\n",
    "weighted avg       0.85      0.85      0.85      5625\n",
    "\n",
    "TEST\n",
    "\n",
    "              precision    recall  f1-score   support\n",
    "\n",
    "           0       0.81      0.82      0.82      1341\n",
    "           1       0.55      0.53      0.54       534\n",
    "\n",
    "    accuracy                           0.74      1875\n",
    "   macro avg       0.68      0.68      0.68      1875\n",
    "weighted avg       0.74      0.74      0.74      1875\n",
    "\n",
    "CONFUSION MATRIX\n",
    "\n",
    "col_0              0    1\n",
    "Credit Default           \n",
    "0               1105  236\n",
    "1                251  283\n",
    "\n",
    "Борьба с переобучением за счет регуляризации приводит к худшим результатам и, на мой взгляд, не требуется. \n",
    "\n",
    "Балансировка классов также не ребуется за счет возможности установки весов в классификаторе."
   ]
  },
  {
   "cell_type": "code",
   "execution_count": null,
   "id": "1b55270c",
   "metadata": {},
   "outputs": [],
   "source": []
  }
 ],
 "metadata": {
  "kernelspec": {
   "display_name": "Python 3 (ipykernel)",
   "language": "python",
   "name": "python3"
  },
  "language_info": {
   "codemirror_mode": {
    "name": "ipython",
    "version": 3
   },
   "file_extension": ".py",
   "mimetype": "text/x-python",
   "name": "python",
   "nbconvert_exporter": "python",
   "pygments_lexer": "ipython3",
   "version": "3.9.7"
  }
 },
 "nbformat": 4,
 "nbformat_minor": 5
}
